{
 "cells": [
  {
   "cell_type": "code",
   "execution_count": 1,
   "id": "947e8072",
   "metadata": {
    "_cell_guid": "b1076dfc-b9ad-4769-8c92-a6c4dae69d19",
    "_uuid": "8f2839f25d086af736a60e9eeb907d3b93b6e0e5",
    "execution": {
     "iopub.execute_input": "2021-08-20T20:19:40.697006Z",
     "iopub.status.busy": "2021-08-20T20:19:40.689445Z",
     "iopub.status.idle": "2021-08-20T20:19:40.711822Z",
     "shell.execute_reply": "2021-08-20T20:19:40.712539Z",
     "shell.execute_reply.started": "2021-08-20T18:03:54.031590Z"
    },
    "papermill": {
     "duration": 0.113911,
     "end_time": "2021-08-20T20:19:40.712953",
     "exception": false,
     "start_time": "2021-08-20T20:19:40.599042",
     "status": "completed"
    },
    "tags": []
   },
   "outputs": [
    {
     "name": "stdout",
     "output_type": "stream",
     "text": [
      "/kaggle/input/walmart-sales-data/Walmart_Store_sales.csv\n"
     ]
    }
   ],
   "source": [
    "# This Python 3 environment comes with many helpful analytics libraries installed\n",
    "# It is defined by the kaggle/python Docker image: https://github.com/kaggle/docker-python\n",
    "# For example, here's several helpful packages to load\n",
    "\n",
    "import numpy as np # linear algebra\n",
    "import pandas as pd # data processing, CSV file I/O (e.g. pd.read_csv)\n",
    "\n",
    "# Input data files are available in the read-only \"../input/\" directory\n",
    "# For example, running this (by clicking run or pressing Shift+Enter) will list all files under the input directory\n",
    "\n",
    "import os\n",
    "for dirname, _, filenames in os.walk('/kaggle/input'):\n",
    "    for filename in filenames:\n",
    "        print(os.path.join(dirname, filename))\n",
    "\n",
    "# You can write up to 20GB to the current directory (/kaggle/working/) that gets preserved as output when you create a version using \"Save & Run All\" \n",
    "# You can also write temporary files to /kaggle/temp/, but they won't be saved outside of the current session"
   ]
  },
  {
   "cell_type": "code",
   "execution_count": 2,
   "id": "9be0342f",
   "metadata": {
    "execution": {
     "iopub.execute_input": "2021-08-20T20:19:40.881108Z",
     "iopub.status.busy": "2021-08-20T20:19:40.880473Z",
     "iopub.status.idle": "2021-08-20T20:19:42.056156Z",
     "shell.execute_reply": "2021-08-20T20:19:42.055468Z",
     "shell.execute_reply.started": "2021-08-20T18:03:54.045028Z"
    },
    "papermill": {
     "duration": 1.254851,
     "end_time": "2021-08-20T20:19:42.056326",
     "exception": false,
     "start_time": "2021-08-20T20:19:40.801475",
     "status": "completed"
    },
    "tags": []
   },
   "outputs": [],
   "source": [
    "import numpy as np\n",
    "import pandas as pd\n",
    "import matplotlib.pyplot as plt\n",
    "import seaborn as sns\n",
    "from matplotlib.colors import Colormap"
   ]
  },
  {
   "cell_type": "markdown",
   "id": "d9879f90",
   "metadata": {
    "papermill": {
     "duration": 0.074163,
     "end_time": "2021-08-20T20:19:42.206154",
     "exception": false,
     "start_time": "2021-08-20T20:19:42.131991",
     "status": "completed"
    },
    "tags": []
   },
   "source": [
    "## We will read the data"
   ]
  },
  {
   "cell_type": "code",
   "execution_count": 3,
   "id": "df7fe8a2",
   "metadata": {
    "execution": {
     "iopub.execute_input": "2021-08-20T20:19:42.359102Z",
     "iopub.status.busy": "2021-08-20T20:19:42.358400Z",
     "iopub.status.idle": "2021-08-20T20:19:42.382478Z",
     "shell.execute_reply": "2021-08-20T20:19:42.381915Z",
     "shell.execute_reply.started": "2021-08-20T18:03:54.053781Z"
    },
    "papermill": {
     "duration": 0.102782,
     "end_time": "2021-08-20T20:19:42.382630",
     "exception": false,
     "start_time": "2021-08-20T20:19:42.279848",
     "status": "completed"
    },
    "tags": []
   },
   "outputs": [],
   "source": [
    "walmart = pd.read_csv('../input/walmart-sales-data/Walmart_Store_sales.csv',index_col=False)"
   ]
  },
  {
   "cell_type": "code",
   "execution_count": 4,
   "id": "d28c3388",
   "metadata": {
    "execution": {
     "iopub.execute_input": "2021-08-20T20:19:42.535075Z",
     "iopub.status.busy": "2021-08-20T20:19:42.534085Z",
     "iopub.status.idle": "2021-08-20T20:19:42.536689Z",
     "shell.execute_reply": "2021-08-20T20:19:42.537183Z",
     "shell.execute_reply.started": "2021-08-20T18:03:54.083847Z"
    },
    "papermill": {
     "duration": 0.081063,
     "end_time": "2021-08-20T20:19:42.537381",
     "exception": false,
     "start_time": "2021-08-20T20:19:42.456318",
     "status": "completed"
    },
    "tags": []
   },
   "outputs": [],
   "source": [
    "walmart = pd.DataFrame(walmart)"
   ]
  },
  {
   "cell_type": "code",
   "execution_count": 5,
   "id": "7b88de83",
   "metadata": {
    "execution": {
     "iopub.execute_input": "2021-08-20T20:19:42.696652Z",
     "iopub.status.busy": "2021-08-20T20:19:42.695963Z",
     "iopub.status.idle": "2021-08-20T20:19:42.701575Z",
     "shell.execute_reply": "2021-08-20T20:19:42.700878Z",
     "shell.execute_reply.started": "2021-08-20T18:03:54.089493Z"
    },
    "papermill": {
     "duration": 0.089896,
     "end_time": "2021-08-20T20:19:42.701726",
     "exception": false,
     "start_time": "2021-08-20T20:19:42.611830",
     "status": "completed"
    },
    "tags": []
   },
   "outputs": [],
   "source": [
    "walmart.reset_index(inplace=True)"
   ]
  },
  {
   "cell_type": "code",
   "execution_count": null,
   "id": "79206c32",
   "metadata": {
    "papermill": {
     "duration": 0.073074,
     "end_time": "2021-08-20T20:19:42.849047",
     "exception": false,
     "start_time": "2021-08-20T20:19:42.775973",
     "status": "completed"
    },
    "tags": []
   },
   "outputs": [],
   "source": []
  },
  {
   "cell_type": "code",
   "execution_count": 6,
   "id": "73a39a7c",
   "metadata": {
    "execution": {
     "iopub.execute_input": "2021-08-20T20:19:43.004182Z",
     "iopub.status.busy": "2021-08-20T20:19:43.003166Z",
     "iopub.status.idle": "2021-08-20T20:19:43.025222Z",
     "shell.execute_reply": "2021-08-20T20:19:43.025744Z",
     "shell.execute_reply.started": "2021-08-20T18:03:54.104717Z"
    },
    "papermill": {
     "duration": 0.102753,
     "end_time": "2021-08-20T20:19:43.025918",
     "exception": false,
     "start_time": "2021-08-20T20:19:42.923165",
     "status": "completed"
    },
    "tags": []
   },
   "outputs": [
    {
     "data": {
      "text/html": [
       "<div>\n",
       "<style scoped>\n",
       "    .dataframe tbody tr th:only-of-type {\n",
       "        vertical-align: middle;\n",
       "    }\n",
       "\n",
       "    .dataframe tbody tr th {\n",
       "        vertical-align: top;\n",
       "    }\n",
       "\n",
       "    .dataframe thead th {\n",
       "        text-align: right;\n",
       "    }\n",
       "</style>\n",
       "<table border=\"1\" class=\"dataframe\">\n",
       "  <thead>\n",
       "    <tr style=\"text-align: right;\">\n",
       "      <th></th>\n",
       "      <th>index</th>\n",
       "      <th>Store</th>\n",
       "      <th>Date</th>\n",
       "      <th>Weekly_Sales</th>\n",
       "      <th>Holiday_Flag</th>\n",
       "      <th>Temperature</th>\n",
       "      <th>Fuel_Price</th>\n",
       "      <th>CPI</th>\n",
       "      <th>Unemployment</th>\n",
       "    </tr>\n",
       "  </thead>\n",
       "  <tbody>\n",
       "    <tr>\n",
       "      <th>0</th>\n",
       "      <td>0</td>\n",
       "      <td>1</td>\n",
       "      <td>05-02-2010</td>\n",
       "      <td>1643690.90</td>\n",
       "      <td>0</td>\n",
       "      <td>42.31</td>\n",
       "      <td>2.572</td>\n",
       "      <td>211.096358</td>\n",
       "      <td>8.106</td>\n",
       "    </tr>\n",
       "    <tr>\n",
       "      <th>1</th>\n",
       "      <td>1</td>\n",
       "      <td>1</td>\n",
       "      <td>12-02-2010</td>\n",
       "      <td>1641957.44</td>\n",
       "      <td>1</td>\n",
       "      <td>38.51</td>\n",
       "      <td>2.548</td>\n",
       "      <td>211.242170</td>\n",
       "      <td>8.106</td>\n",
       "    </tr>\n",
       "    <tr>\n",
       "      <th>2</th>\n",
       "      <td>2</td>\n",
       "      <td>1</td>\n",
       "      <td>19-02-2010</td>\n",
       "      <td>1611968.17</td>\n",
       "      <td>0</td>\n",
       "      <td>39.93</td>\n",
       "      <td>2.514</td>\n",
       "      <td>211.289143</td>\n",
       "      <td>8.106</td>\n",
       "    </tr>\n",
       "    <tr>\n",
       "      <th>3</th>\n",
       "      <td>3</td>\n",
       "      <td>1</td>\n",
       "      <td>26-02-2010</td>\n",
       "      <td>1409727.59</td>\n",
       "      <td>0</td>\n",
       "      <td>46.63</td>\n",
       "      <td>2.561</td>\n",
       "      <td>211.319643</td>\n",
       "      <td>8.106</td>\n",
       "    </tr>\n",
       "    <tr>\n",
       "      <th>4</th>\n",
       "      <td>4</td>\n",
       "      <td>1</td>\n",
       "      <td>05-03-2010</td>\n",
       "      <td>1554806.68</td>\n",
       "      <td>0</td>\n",
       "      <td>46.50</td>\n",
       "      <td>2.625</td>\n",
       "      <td>211.350143</td>\n",
       "      <td>8.106</td>\n",
       "    </tr>\n",
       "  </tbody>\n",
       "</table>\n",
       "</div>"
      ],
      "text/plain": [
       "   index  Store        Date  Weekly_Sales  Holiday_Flag  Temperature  \\\n",
       "0      0      1  05-02-2010    1643690.90             0        42.31   \n",
       "1      1      1  12-02-2010    1641957.44             1        38.51   \n",
       "2      2      1  19-02-2010    1611968.17             0        39.93   \n",
       "3      3      1  26-02-2010    1409727.59             0        46.63   \n",
       "4      4      1  05-03-2010    1554806.68             0        46.50   \n",
       "\n",
       "   Fuel_Price         CPI  Unemployment  \n",
       "0       2.572  211.096358         8.106  \n",
       "1       2.548  211.242170         8.106  \n",
       "2       2.514  211.289143         8.106  \n",
       "3       2.561  211.319643         8.106  \n",
       "4       2.625  211.350143         8.106  "
      ]
     },
     "execution_count": 6,
     "metadata": {},
     "output_type": "execute_result"
    }
   ],
   "source": [
    "walmart.head()"
   ]
  },
  {
   "cell_type": "code",
   "execution_count": 7,
   "id": "74342461",
   "metadata": {
    "execution": {
     "iopub.execute_input": "2021-08-20T20:19:43.183003Z",
     "iopub.status.busy": "2021-08-20T20:19:43.182272Z",
     "iopub.status.idle": "2021-08-20T20:19:43.205900Z",
     "shell.execute_reply": "2021-08-20T20:19:43.206632Z",
     "shell.execute_reply.started": "2021-08-20T18:03:54.133050Z"
    },
    "papermill": {
     "duration": 0.104341,
     "end_time": "2021-08-20T20:19:43.206903",
     "exception": false,
     "start_time": "2021-08-20T20:19:43.102562",
     "status": "completed"
    },
    "tags": []
   },
   "outputs": [
    {
     "name": "stdout",
     "output_type": "stream",
     "text": [
      "<class 'pandas.core.frame.DataFrame'>\n",
      "RangeIndex: 6435 entries, 0 to 6434\n",
      "Data columns (total 9 columns):\n",
      " #   Column        Non-Null Count  Dtype  \n",
      "---  ------        --------------  -----  \n",
      " 0   index         6435 non-null   int64  \n",
      " 1   Store         6435 non-null   int64  \n",
      " 2   Date          6435 non-null   object \n",
      " 3   Weekly_Sales  6435 non-null   float64\n",
      " 4   Holiday_Flag  6435 non-null   int64  \n",
      " 5   Temperature   6435 non-null   float64\n",
      " 6   Fuel_Price    6435 non-null   float64\n",
      " 7   CPI           6435 non-null   float64\n",
      " 8   Unemployment  6435 non-null   float64\n",
      "dtypes: float64(5), int64(3), object(1)\n",
      "memory usage: 452.6+ KB\n"
     ]
    }
   ],
   "source": [
    "walmart.info()"
   ]
  },
  {
   "cell_type": "markdown",
   "id": "6886104f",
   "metadata": {
    "papermill": {
     "duration": 0.078188,
     "end_time": "2021-08-20T20:19:43.361501",
     "exception": false,
     "start_time": "2021-08-20T20:19:43.283313",
     "status": "completed"
    },
    "tags": []
   },
   "source": [
    "## Exploring the data"
   ]
  },
  {
   "cell_type": "code",
   "execution_count": 8,
   "id": "17a0c4b8",
   "metadata": {
    "execution": {
     "iopub.execute_input": "2021-08-20T20:19:43.523373Z",
     "iopub.status.busy": "2021-08-20T20:19:43.522712Z",
     "iopub.status.idle": "2021-08-20T20:19:43.558742Z",
     "shell.execute_reply": "2021-08-20T20:19:43.559205Z",
     "shell.execute_reply.started": "2021-08-20T18:03:54.156202Z"
    },
    "papermill": {
     "duration": 0.120717,
     "end_time": "2021-08-20T20:19:43.559410",
     "exception": false,
     "start_time": "2021-08-20T20:19:43.438693",
     "status": "completed"
    },
    "tags": []
   },
   "outputs": [
    {
     "data": {
      "text/html": [
       "<div>\n",
       "<style scoped>\n",
       "    .dataframe tbody tr th:only-of-type {\n",
       "        vertical-align: middle;\n",
       "    }\n",
       "\n",
       "    .dataframe tbody tr th {\n",
       "        vertical-align: top;\n",
       "    }\n",
       "\n",
       "    .dataframe thead th {\n",
       "        text-align: right;\n",
       "    }\n",
       "</style>\n",
       "<table border=\"1\" class=\"dataframe\">\n",
       "  <thead>\n",
       "    <tr style=\"text-align: right;\">\n",
       "      <th></th>\n",
       "      <th>index</th>\n",
       "      <th>Store</th>\n",
       "      <th>Weekly_Sales</th>\n",
       "      <th>Holiday_Flag</th>\n",
       "      <th>Temperature</th>\n",
       "      <th>Fuel_Price</th>\n",
       "      <th>CPI</th>\n",
       "      <th>Unemployment</th>\n",
       "    </tr>\n",
       "  </thead>\n",
       "  <tbody>\n",
       "    <tr>\n",
       "      <th>count</th>\n",
       "      <td>6435.000000</td>\n",
       "      <td>6435.000000</td>\n",
       "      <td>6.435000e+03</td>\n",
       "      <td>6435.000000</td>\n",
       "      <td>6435.000000</td>\n",
       "      <td>6435.000000</td>\n",
       "      <td>6435.000000</td>\n",
       "      <td>6435.000000</td>\n",
       "    </tr>\n",
       "    <tr>\n",
       "      <th>mean</th>\n",
       "      <td>3217.000000</td>\n",
       "      <td>23.000000</td>\n",
       "      <td>1.046965e+06</td>\n",
       "      <td>0.069930</td>\n",
       "      <td>60.663782</td>\n",
       "      <td>3.358607</td>\n",
       "      <td>171.578394</td>\n",
       "      <td>7.999151</td>\n",
       "    </tr>\n",
       "    <tr>\n",
       "      <th>std</th>\n",
       "      <td>1857.768823</td>\n",
       "      <td>12.988182</td>\n",
       "      <td>5.643666e+05</td>\n",
       "      <td>0.255049</td>\n",
       "      <td>18.444933</td>\n",
       "      <td>0.459020</td>\n",
       "      <td>39.356712</td>\n",
       "      <td>1.875885</td>\n",
       "    </tr>\n",
       "    <tr>\n",
       "      <th>min</th>\n",
       "      <td>0.000000</td>\n",
       "      <td>1.000000</td>\n",
       "      <td>2.099862e+05</td>\n",
       "      <td>0.000000</td>\n",
       "      <td>-2.060000</td>\n",
       "      <td>2.472000</td>\n",
       "      <td>126.064000</td>\n",
       "      <td>3.879000</td>\n",
       "    </tr>\n",
       "    <tr>\n",
       "      <th>25%</th>\n",
       "      <td>1608.500000</td>\n",
       "      <td>12.000000</td>\n",
       "      <td>5.533501e+05</td>\n",
       "      <td>0.000000</td>\n",
       "      <td>47.460000</td>\n",
       "      <td>2.933000</td>\n",
       "      <td>131.735000</td>\n",
       "      <td>6.891000</td>\n",
       "    </tr>\n",
       "    <tr>\n",
       "      <th>50%</th>\n",
       "      <td>3217.000000</td>\n",
       "      <td>23.000000</td>\n",
       "      <td>9.607460e+05</td>\n",
       "      <td>0.000000</td>\n",
       "      <td>62.670000</td>\n",
       "      <td>3.445000</td>\n",
       "      <td>182.616521</td>\n",
       "      <td>7.874000</td>\n",
       "    </tr>\n",
       "    <tr>\n",
       "      <th>75%</th>\n",
       "      <td>4825.500000</td>\n",
       "      <td>34.000000</td>\n",
       "      <td>1.420159e+06</td>\n",
       "      <td>0.000000</td>\n",
       "      <td>74.940000</td>\n",
       "      <td>3.735000</td>\n",
       "      <td>212.743293</td>\n",
       "      <td>8.622000</td>\n",
       "    </tr>\n",
       "    <tr>\n",
       "      <th>max</th>\n",
       "      <td>6434.000000</td>\n",
       "      <td>45.000000</td>\n",
       "      <td>3.818686e+06</td>\n",
       "      <td>1.000000</td>\n",
       "      <td>100.140000</td>\n",
       "      <td>4.468000</td>\n",
       "      <td>227.232807</td>\n",
       "      <td>14.313000</td>\n",
       "    </tr>\n",
       "  </tbody>\n",
       "</table>\n",
       "</div>"
      ],
      "text/plain": [
       "             index        Store  Weekly_Sales  Holiday_Flag  Temperature  \\\n",
       "count  6435.000000  6435.000000  6.435000e+03   6435.000000  6435.000000   \n",
       "mean   3217.000000    23.000000  1.046965e+06      0.069930    60.663782   \n",
       "std    1857.768823    12.988182  5.643666e+05      0.255049    18.444933   \n",
       "min       0.000000     1.000000  2.099862e+05      0.000000    -2.060000   \n",
       "25%    1608.500000    12.000000  5.533501e+05      0.000000    47.460000   \n",
       "50%    3217.000000    23.000000  9.607460e+05      0.000000    62.670000   \n",
       "75%    4825.500000    34.000000  1.420159e+06      0.000000    74.940000   \n",
       "max    6434.000000    45.000000  3.818686e+06      1.000000   100.140000   \n",
       "\n",
       "        Fuel_Price          CPI  Unemployment  \n",
       "count  6435.000000  6435.000000   6435.000000  \n",
       "mean      3.358607   171.578394      7.999151  \n",
       "std       0.459020    39.356712      1.875885  \n",
       "min       2.472000   126.064000      3.879000  \n",
       "25%       2.933000   131.735000      6.891000  \n",
       "50%       3.445000   182.616521      7.874000  \n",
       "75%       3.735000   212.743293      8.622000  \n",
       "max       4.468000   227.232807     14.313000  "
      ]
     },
     "execution_count": 8,
     "metadata": {},
     "output_type": "execute_result"
    }
   ],
   "source": [
    "walmart.describe()"
   ]
  },
  {
   "cell_type": "code",
   "execution_count": 9,
   "id": "a91b10dd",
   "metadata": {
    "execution": {
     "iopub.execute_input": "2021-08-20T20:19:43.715011Z",
     "iopub.status.busy": "2021-08-20T20:19:43.713992Z",
     "iopub.status.idle": "2021-08-20T20:19:43.723452Z",
     "shell.execute_reply": "2021-08-20T20:19:43.723919Z",
     "shell.execute_reply.started": "2021-08-20T18:03:54.205528Z"
    },
    "papermill": {
     "duration": 0.088679,
     "end_time": "2021-08-20T20:19:43.724109",
     "exception": false,
     "start_time": "2021-08-20T20:19:43.635430",
     "status": "completed"
    },
    "tags": []
   },
   "outputs": [
    {
     "data": {
      "text/plain": [
       "index           False\n",
       "Store           False\n",
       "Date            False\n",
       "Weekly_Sales    False\n",
       "Holiday_Flag    False\n",
       "Temperature     False\n",
       "Fuel_Price      False\n",
       "CPI             False\n",
       "Unemployment    False\n",
       "dtype: bool"
      ]
     },
     "execution_count": 9,
     "metadata": {},
     "output_type": "execute_result"
    }
   ],
   "source": [
    "walmart.isna().any()"
   ]
  },
  {
   "cell_type": "code",
   "execution_count": 10,
   "id": "ce6caee2",
   "metadata": {
    "execution": {
     "iopub.execute_input": "2021-08-20T20:19:43.881374Z",
     "iopub.status.busy": "2021-08-20T20:19:43.880392Z",
     "iopub.status.idle": "2021-08-20T20:19:44.555017Z",
     "shell.execute_reply": "2021-08-20T20:19:44.554363Z",
     "shell.execute_reply.started": "2021-08-20T18:03:54.288266Z"
    },
    "papermill": {
     "duration": 0.754329,
     "end_time": "2021-08-20T20:19:44.555177",
     "exception": false,
     "start_time": "2021-08-20T20:19:43.800848",
     "status": "completed"
    },
    "tags": []
   },
   "outputs": [
    {
     "data": {
      "text/html": [
       "<div>\n",
       "<style scoped>\n",
       "    .dataframe tbody tr th:only-of-type {\n",
       "        vertical-align: middle;\n",
       "    }\n",
       "\n",
       "    .dataframe tbody tr th {\n",
       "        vertical-align: top;\n",
       "    }\n",
       "\n",
       "    .dataframe thead th {\n",
       "        text-align: right;\n",
       "    }\n",
       "</style>\n",
       "<table border=\"1\" class=\"dataframe\">\n",
       "  <thead>\n",
       "    <tr style=\"text-align: right;\">\n",
       "      <th></th>\n",
       "      <th>index</th>\n",
       "      <th>Store</th>\n",
       "      <th>Date</th>\n",
       "      <th>Holiday_Flag</th>\n",
       "      <th>Temperature</th>\n",
       "      <th>Fuel_Price</th>\n",
       "      <th>CPI</th>\n",
       "      <th>Unemployment</th>\n",
       "    </tr>\n",
       "    <tr>\n",
       "      <th>Weekly_Sales</th>\n",
       "      <th></th>\n",
       "      <th></th>\n",
       "      <th></th>\n",
       "      <th></th>\n",
       "      <th></th>\n",
       "      <th></th>\n",
       "      <th></th>\n",
       "      <th></th>\n",
       "    </tr>\n",
       "  </thead>\n",
       "  <tbody>\n",
       "    <tr>\n",
       "      <th>209986.25</th>\n",
       "      <td>4619</td>\n",
       "      <td>33</td>\n",
       "      <td>03-12-2010</td>\n",
       "      <td>0</td>\n",
       "      <td>52.82</td>\n",
       "      <td>3.041</td>\n",
       "      <td>126.731333</td>\n",
       "      <td>9.265</td>\n",
       "    </tr>\n",
       "    <tr>\n",
       "      <th>213538.32</th>\n",
       "      <td>4614</td>\n",
       "      <td>33</td>\n",
       "      <td>29-10-2010</td>\n",
       "      <td>0</td>\n",
       "      <td>71.34</td>\n",
       "      <td>3.130</td>\n",
       "      <td>126.436419</td>\n",
       "      <td>9.265</td>\n",
       "    </tr>\n",
       "    <tr>\n",
       "      <th>215359.21</th>\n",
       "      <td>4675</td>\n",
       "      <td>33</td>\n",
       "      <td>30-12-2011</td>\n",
       "      <td>1</td>\n",
       "      <td>51.60</td>\n",
       "      <td>3.428</td>\n",
       "      <td>130.071032</td>\n",
       "      <td>8.010</td>\n",
       "    </tr>\n",
       "    <tr>\n",
       "      <th>219804.85</th>\n",
       "      <td>4623</td>\n",
       "      <td>33</td>\n",
       "      <td>31-12-2010</td>\n",
       "      <td>1</td>\n",
       "      <td>52.91</td>\n",
       "      <td>3.148</td>\n",
       "      <td>127.087677</td>\n",
       "      <td>9.265</td>\n",
       "    </tr>\n",
       "    <tr>\n",
       "      <th>220060.35</th>\n",
       "      <td>4671</td>\n",
       "      <td>33</td>\n",
       "      <td>02-12-2011</td>\n",
       "      <td>0</td>\n",
       "      <td>59.12</td>\n",
       "      <td>3.701</td>\n",
       "      <td>129.845967</td>\n",
       "      <td>8.010</td>\n",
       "    </tr>\n",
       "    <tr>\n",
       "      <th>...</th>\n",
       "      <td>...</td>\n",
       "      <td>...</td>\n",
       "      <td>...</td>\n",
       "      <td>...</td>\n",
       "      <td>...</td>\n",
       "      <td>...</td>\n",
       "      <td>...</td>\n",
       "      <td>...</td>\n",
       "    </tr>\n",
       "    <tr>\n",
       "      <th>3595903.20</th>\n",
       "      <td>1762</td>\n",
       "      <td>13</td>\n",
       "      <td>24-12-2010</td>\n",
       "      <td>0</td>\n",
       "      <td>34.90</td>\n",
       "      <td>2.846</td>\n",
       "      <td>126.983581</td>\n",
       "      <td>7.795</td>\n",
       "    </tr>\n",
       "    <tr>\n",
       "      <th>3676388.98</th>\n",
       "      <td>527</td>\n",
       "      <td>4</td>\n",
       "      <td>23-12-2011</td>\n",
       "      <td>0</td>\n",
       "      <td>35.92</td>\n",
       "      <td>3.103</td>\n",
       "      <td>129.984548</td>\n",
       "      <td>5.143</td>\n",
       "    </tr>\n",
       "    <tr>\n",
       "      <th>3749057.69</th>\n",
       "      <td>1333</td>\n",
       "      <td>10</td>\n",
       "      <td>24-12-2010</td>\n",
       "      <td>0</td>\n",
       "      <td>57.06</td>\n",
       "      <td>3.236</td>\n",
       "      <td>126.983581</td>\n",
       "      <td>9.003</td>\n",
       "    </tr>\n",
       "    <tr>\n",
       "      <th>3766687.43</th>\n",
       "      <td>2763</td>\n",
       "      <td>20</td>\n",
       "      <td>24-12-2010</td>\n",
       "      <td>0</td>\n",
       "      <td>25.17</td>\n",
       "      <td>3.141</td>\n",
       "      <td>204.637673</td>\n",
       "      <td>7.484</td>\n",
       "    </tr>\n",
       "    <tr>\n",
       "      <th>3818686.45</th>\n",
       "      <td>1905</td>\n",
       "      <td>14</td>\n",
       "      <td>24-12-2010</td>\n",
       "      <td>0</td>\n",
       "      <td>30.59</td>\n",
       "      <td>3.141</td>\n",
       "      <td>182.544590</td>\n",
       "      <td>8.724</td>\n",
       "    </tr>\n",
       "  </tbody>\n",
       "</table>\n",
       "<p>6435 rows × 8 columns</p>\n",
       "</div>"
      ],
      "text/plain": [
       "              index  Store        Date  Holiday_Flag  Temperature  Fuel_Price  \\\n",
       "Weekly_Sales                                                                    \n",
       "209986.25      4619     33  03-12-2010             0        52.82       3.041   \n",
       "213538.32      4614     33  29-10-2010             0        71.34       3.130   \n",
       "215359.21      4675     33  30-12-2011             1        51.60       3.428   \n",
       "219804.85      4623     33  31-12-2010             1        52.91       3.148   \n",
       "220060.35      4671     33  02-12-2011             0        59.12       3.701   \n",
       "...             ...    ...         ...           ...          ...         ...   \n",
       "3595903.20     1762     13  24-12-2010             0        34.90       2.846   \n",
       "3676388.98      527      4  23-12-2011             0        35.92       3.103   \n",
       "3749057.69     1333     10  24-12-2010             0        57.06       3.236   \n",
       "3766687.43     2763     20  24-12-2010             0        25.17       3.141   \n",
       "3818686.45     1905     14  24-12-2010             0        30.59       3.141   \n",
       "\n",
       "                     CPI  Unemployment  \n",
       "Weekly_Sales                            \n",
       "209986.25     126.731333         9.265  \n",
       "213538.32     126.436419         9.265  \n",
       "215359.21     130.071032         8.010  \n",
       "219804.85     127.087677         9.265  \n",
       "220060.35     129.845967         8.010  \n",
       "...                  ...           ...  \n",
       "3595903.20    126.983581         7.795  \n",
       "3676388.98    129.984548         5.143  \n",
       "3749057.69    126.983581         9.003  \n",
       "3766687.43    204.637673         7.484  \n",
       "3818686.45    182.544590         8.724  \n",
       "\n",
       "[6435 rows x 8 columns]"
      ]
     },
     "execution_count": 10,
     "metadata": {},
     "output_type": "execute_result"
    }
   ],
   "source": [
    "walmart.groupby(['Weekly_Sales']).min()"
   ]
  },
  {
   "cell_type": "markdown",
   "id": "dbc18008",
   "metadata": {
    "papermill": {
     "duration": 0.076072,
     "end_time": "2021-08-20T20:19:44.709070",
     "exception": false,
     "start_time": "2021-08-20T20:19:44.632998",
     "status": "completed"
    },
    "tags": []
   },
   "source": [
    "### from the 9th row we can clearly see that Max weekly sales is 3.818686e+06, Now  we can also see that the store no 14 contributes to the highest sales figure"
   ]
  },
  {
   "cell_type": "code",
   "execution_count": 11,
   "id": "76675e0a",
   "metadata": {
    "execution": {
     "iopub.execute_input": "2021-08-20T20:19:44.869712Z",
     "iopub.status.busy": "2021-08-20T20:19:44.868922Z",
     "iopub.status.idle": "2021-08-20T20:19:44.877591Z",
     "shell.execute_reply": "2021-08-20T20:19:44.878068Z",
     "shell.execute_reply.started": "2021-08-20T18:03:54.954416Z"
    },
    "papermill": {
     "duration": 0.092695,
     "end_time": "2021-08-20T20:19:44.878302",
     "exception": false,
     "start_time": "2021-08-20T20:19:44.785607",
     "status": "completed"
    },
    "tags": []
   },
   "outputs": [
    {
     "name": "stdout",
     "output_type": "stream",
     "text": [
      "Store\n",
      "14    317569.95\n",
      "10    302262.06\n",
      "20    275900.56\n",
      "4     266201.44\n",
      "13    265507.00\n",
      "23    249788.04\n",
      "27    239930.14\n",
      "2     237683.69\n",
      "39    217466.45\n",
      "6     212525.86\n",
      "35    211243.46\n",
      "19    191722.64\n",
      "41    187907.16\n",
      "28    181758.97\n",
      "18    176641.51\n",
      "24    167745.68\n",
      "11    165833.89\n",
      "22    161251.35\n",
      "1     155980.77\n",
      "12    139166.87\n",
      "32    138017.25\n",
      "45    130168.53\n",
      "21    128752.81\n",
      "31    125855.94\n",
      "15    120538.65\n",
      "40    119002.11\n",
      "25    112976.79\n",
      "7     112585.47\n",
      "17    112162.94\n",
      "26    110431.29\n",
      "8     106280.83\n",
      "34    104630.16\n",
      "29     99120.14\n",
      "16     85769.68\n",
      "9      69028.67\n",
      "36     60725.17\n",
      "42     50262.93\n",
      "3      46319.63\n",
      "38     42768.17\n",
      "43     40598.41\n",
      "5      37737.97\n",
      "44     24762.83\n",
      "33     24132.93\n",
      "30     22809.67\n",
      "37     21837.46\n",
      "Name: Weekly_Sales, dtype: float64\n"
     ]
    }
   ],
   "source": [
    "std_sales = walmart.groupby(['Store'])['Weekly_Sales'].std()\n",
    "print(round(std_sales.sort_values(ascending=False),2))"
   ]
  },
  {
   "cell_type": "markdown",
   "id": "c2bca54a",
   "metadata": {
    "papermill": {
     "duration": 0.07706,
     "end_time": "2021-08-20T20:19:45.032810",
     "exception": false,
     "start_time": "2021-08-20T20:19:44.955750",
     "status": "completed"
    },
    "tags": []
   },
   "source": [
    "## The above code calculates the standard deviation of the sales of all the stores and prints them in descending order\n",
    "### thus we can easily identify that the store 14 has the highest standard deviation i.e  317569.95\n"
   ]
  },
  {
   "cell_type": "markdown",
   "id": "acc8a2db",
   "metadata": {
    "papermill": {
     "duration": 0.077994,
     "end_time": "2021-08-20T20:19:45.188448",
     "exception": false,
     "start_time": "2021-08-20T20:19:45.110454",
     "status": "completed"
    },
    "tags": []
   },
   "source": []
  },
  {
   "cell_type": "code",
   "execution_count": 12,
   "id": "29dbc347",
   "metadata": {
    "execution": {
     "iopub.execute_input": "2021-08-20T20:19:45.347300Z",
     "iopub.status.busy": "2021-08-20T20:19:45.346513Z",
     "iopub.status.idle": "2021-08-20T20:19:45.349806Z",
     "shell.execute_reply": "2021-08-20T20:19:45.349086Z",
     "shell.execute_reply.started": "2021-08-20T18:03:54.966840Z"
    },
    "papermill": {
     "duration": 0.085312,
     "end_time": "2021-08-20T20:19:45.349989",
     "exception": false,
     "start_time": "2021-08-20T20:19:45.264677",
     "status": "completed"
    },
    "tags": []
   },
   "outputs": [],
   "source": [
    "## We will store that as a dataframe for our convenience"
   ]
  },
  {
   "cell_type": "code",
   "execution_count": 13,
   "id": "9a8889da",
   "metadata": {
    "execution": {
     "iopub.execute_input": "2021-08-20T20:19:45.509666Z",
     "iopub.status.busy": "2021-08-20T20:19:45.508957Z",
     "iopub.status.idle": "2021-08-20T20:19:45.512114Z",
     "shell.execute_reply": "2021-08-20T20:19:45.511524Z",
     "shell.execute_reply.started": "2021-08-20T18:03:54.979504Z"
    },
    "papermill": {
     "duration": 0.085107,
     "end_time": "2021-08-20T20:19:45.512276",
     "exception": false,
     "start_time": "2021-08-20T20:19:45.427169",
     "status": "completed"
    },
    "tags": []
   },
   "outputs": [],
   "source": [
    "store_df = pd.DataFrame({'Weekly_Sales_std':round(std_sales,2)})"
   ]
  },
  {
   "cell_type": "code",
   "execution_count": 14,
   "id": "eca110fa",
   "metadata": {
    "execution": {
     "iopub.execute_input": "2021-08-20T20:19:45.677574Z",
     "iopub.status.busy": "2021-08-20T20:19:45.676617Z",
     "iopub.status.idle": "2021-08-20T20:19:45.680705Z",
     "shell.execute_reply": "2021-08-20T20:19:45.681154Z",
     "shell.execute_reply.started": "2021-08-20T18:03:54.993022Z"
    },
    "papermill": {
     "duration": 0.090299,
     "end_time": "2021-08-20T20:19:45.681352",
     "exception": false,
     "start_time": "2021-08-20T20:19:45.591053",
     "status": "completed"
    },
    "tags": []
   },
   "outputs": [
    {
     "data": {
      "text/html": [
       "<div>\n",
       "<style scoped>\n",
       "    .dataframe tbody tr th:only-of-type {\n",
       "        vertical-align: middle;\n",
       "    }\n",
       "\n",
       "    .dataframe tbody tr th {\n",
       "        vertical-align: top;\n",
       "    }\n",
       "\n",
       "    .dataframe thead th {\n",
       "        text-align: right;\n",
       "    }\n",
       "</style>\n",
       "<table border=\"1\" class=\"dataframe\">\n",
       "  <thead>\n",
       "    <tr style=\"text-align: right;\">\n",
       "      <th></th>\n",
       "      <th>Weekly_Sales_std</th>\n",
       "    </tr>\n",
       "    <tr>\n",
       "      <th>Store</th>\n",
       "      <th></th>\n",
       "    </tr>\n",
       "  </thead>\n",
       "  <tbody>\n",
       "    <tr>\n",
       "      <th>1</th>\n",
       "      <td>155980.77</td>\n",
       "    </tr>\n",
       "    <tr>\n",
       "      <th>2</th>\n",
       "      <td>237683.69</td>\n",
       "    </tr>\n",
       "    <tr>\n",
       "      <th>3</th>\n",
       "      <td>46319.63</td>\n",
       "    </tr>\n",
       "    <tr>\n",
       "      <th>4</th>\n",
       "      <td>266201.44</td>\n",
       "    </tr>\n",
       "    <tr>\n",
       "      <th>5</th>\n",
       "      <td>37737.97</td>\n",
       "    </tr>\n",
       "  </tbody>\n",
       "</table>\n",
       "</div>"
      ],
      "text/plain": [
       "       Weekly_Sales_std\n",
       "Store                  \n",
       "1             155980.77\n",
       "2             237683.69\n",
       "3              46319.63\n",
       "4             266201.44\n",
       "5              37737.97"
      ]
     },
     "execution_count": 14,
     "metadata": {},
     "output_type": "execute_result"
    }
   ],
   "source": [
    "store_df.head()"
   ]
  },
  {
   "cell_type": "code",
   "execution_count": 15,
   "id": "62e5fca5",
   "metadata": {
    "execution": {
     "iopub.execute_input": "2021-08-20T20:19:45.842859Z",
     "iopub.status.busy": "2021-08-20T20:19:45.841968Z",
     "iopub.status.idle": "2021-08-20T20:19:45.846528Z",
     "shell.execute_reply": "2021-08-20T20:19:45.845911Z",
     "shell.execute_reply.started": "2021-08-20T18:03:55.015713Z"
    },
    "papermill": {
     "duration": 0.086823,
     "end_time": "2021-08-20T20:19:45.846689",
     "exception": false,
     "start_time": "2021-08-20T20:19:45.759866",
     "status": "completed"
    },
    "tags": []
   },
   "outputs": [
    {
     "data": {
      "text/plain": [
       "1046964.8775617732"
      ]
     },
     "execution_count": 15,
     "metadata": {},
     "output_type": "execute_result"
    }
   ],
   "source": [
    "walmart['Weekly_Sales'].mean()"
   ]
  },
  {
   "cell_type": "code",
   "execution_count": 16,
   "id": "62f147af",
   "metadata": {
    "execution": {
     "iopub.execute_input": "2021-08-20T20:19:46.009523Z",
     "iopub.status.busy": "2021-08-20T20:19:46.008802Z",
     "iopub.status.idle": "2021-08-20T20:19:46.010905Z",
     "shell.execute_reply": "2021-08-20T20:19:46.011674Z",
     "shell.execute_reply.started": "2021-08-20T18:03:55.025452Z"
    },
    "papermill": {
     "duration": 0.08607,
     "end_time": "2021-08-20T20:19:46.011863",
     "exception": false,
     "start_time": "2021-08-20T20:19:45.925793",
     "status": "completed"
    },
    "tags": []
   },
   "outputs": [],
   "source": [
    "Weekly_Sales_mean = round(walmart.groupby(['Store'])['Weekly_Sales'].mean(),2)"
   ]
  },
  {
   "cell_type": "code",
   "execution_count": 17,
   "id": "ba32ea44",
   "metadata": {
    "execution": {
     "iopub.execute_input": "2021-08-20T20:19:46.171676Z",
     "iopub.status.busy": "2021-08-20T20:19:46.170922Z",
     "iopub.status.idle": "2021-08-20T20:19:46.189205Z",
     "shell.execute_reply": "2021-08-20T20:19:46.189798Z",
     "shell.execute_reply.started": "2021-08-20T18:03:55.040152Z"
    },
    "papermill": {
     "duration": 0.100025,
     "end_time": "2021-08-20T20:19:46.190007",
     "exception": false,
     "start_time": "2021-08-20T20:19:46.089982",
     "status": "completed"
    },
    "tags": []
   },
   "outputs": [
    {
     "data": {
      "text/html": [
       "<div>\n",
       "<style scoped>\n",
       "    .dataframe tbody tr th:only-of-type {\n",
       "        vertical-align: middle;\n",
       "    }\n",
       "\n",
       "    .dataframe tbody tr th {\n",
       "        vertical-align: top;\n",
       "    }\n",
       "\n",
       "    .dataframe thead th {\n",
       "        text-align: right;\n",
       "    }\n",
       "</style>\n",
       "<table border=\"1\" class=\"dataframe\">\n",
       "  <thead>\n",
       "    <tr style=\"text-align: right;\">\n",
       "      <th></th>\n",
       "      <th>Store</th>\n",
       "      <th>Weekly_Sales</th>\n",
       "    </tr>\n",
       "  </thead>\n",
       "  <tbody>\n",
       "    <tr>\n",
       "      <th>0</th>\n",
       "      <td>1</td>\n",
       "      <td>1555264.40</td>\n",
       "    </tr>\n",
       "    <tr>\n",
       "      <th>1</th>\n",
       "      <td>2</td>\n",
       "      <td>1925751.34</td>\n",
       "    </tr>\n",
       "    <tr>\n",
       "      <th>2</th>\n",
       "      <td>3</td>\n",
       "      <td>402704.44</td>\n",
       "    </tr>\n",
       "    <tr>\n",
       "      <th>3</th>\n",
       "      <td>4</td>\n",
       "      <td>2094712.96</td>\n",
       "    </tr>\n",
       "    <tr>\n",
       "      <th>4</th>\n",
       "      <td>5</td>\n",
       "      <td>318011.81</td>\n",
       "    </tr>\n",
       "    <tr>\n",
       "      <th>5</th>\n",
       "      <td>6</td>\n",
       "      <td>1564728.19</td>\n",
       "    </tr>\n",
       "    <tr>\n",
       "      <th>6</th>\n",
       "      <td>7</td>\n",
       "      <td>570617.31</td>\n",
       "    </tr>\n",
       "    <tr>\n",
       "      <th>7</th>\n",
       "      <td>8</td>\n",
       "      <td>908749.52</td>\n",
       "    </tr>\n",
       "    <tr>\n",
       "      <th>8</th>\n",
       "      <td>9</td>\n",
       "      <td>543980.55</td>\n",
       "    </tr>\n",
       "    <tr>\n",
       "      <th>9</th>\n",
       "      <td>10</td>\n",
       "      <td>1899424.57</td>\n",
       "    </tr>\n",
       "    <tr>\n",
       "      <th>10</th>\n",
       "      <td>11</td>\n",
       "      <td>1356383.12</td>\n",
       "    </tr>\n",
       "    <tr>\n",
       "      <th>11</th>\n",
       "      <td>12</td>\n",
       "      <td>1009001.61</td>\n",
       "    </tr>\n",
       "    <tr>\n",
       "      <th>12</th>\n",
       "      <td>13</td>\n",
       "      <td>2003620.31</td>\n",
       "    </tr>\n",
       "    <tr>\n",
       "      <th>13</th>\n",
       "      <td>14</td>\n",
       "      <td>2020978.40</td>\n",
       "    </tr>\n",
       "    <tr>\n",
       "      <th>14</th>\n",
       "      <td>15</td>\n",
       "      <td>623312.47</td>\n",
       "    </tr>\n",
       "    <tr>\n",
       "      <th>15</th>\n",
       "      <td>16</td>\n",
       "      <td>519247.73</td>\n",
       "    </tr>\n",
       "    <tr>\n",
       "      <th>16</th>\n",
       "      <td>17</td>\n",
       "      <td>893581.39</td>\n",
       "    </tr>\n",
       "    <tr>\n",
       "      <th>17</th>\n",
       "      <td>18</td>\n",
       "      <td>1084718.42</td>\n",
       "    </tr>\n",
       "    <tr>\n",
       "      <th>18</th>\n",
       "      <td>19</td>\n",
       "      <td>1444999.04</td>\n",
       "    </tr>\n",
       "    <tr>\n",
       "      <th>19</th>\n",
       "      <td>20</td>\n",
       "      <td>2107676.87</td>\n",
       "    </tr>\n",
       "    <tr>\n",
       "      <th>20</th>\n",
       "      <td>21</td>\n",
       "      <td>756069.08</td>\n",
       "    </tr>\n",
       "    <tr>\n",
       "      <th>21</th>\n",
       "      <td>22</td>\n",
       "      <td>1028501.04</td>\n",
       "    </tr>\n",
       "    <tr>\n",
       "      <th>22</th>\n",
       "      <td>23</td>\n",
       "      <td>1389864.46</td>\n",
       "    </tr>\n",
       "    <tr>\n",
       "      <th>23</th>\n",
       "      <td>24</td>\n",
       "      <td>1356755.39</td>\n",
       "    </tr>\n",
       "    <tr>\n",
       "      <th>24</th>\n",
       "      <td>25</td>\n",
       "      <td>706721.53</td>\n",
       "    </tr>\n",
       "    <tr>\n",
       "      <th>25</th>\n",
       "      <td>26</td>\n",
       "      <td>1002911.84</td>\n",
       "    </tr>\n",
       "    <tr>\n",
       "      <th>26</th>\n",
       "      <td>27</td>\n",
       "      <td>1775216.20</td>\n",
       "    </tr>\n",
       "    <tr>\n",
       "      <th>27</th>\n",
       "      <td>28</td>\n",
       "      <td>1323522.24</td>\n",
       "    </tr>\n",
       "    <tr>\n",
       "      <th>28</th>\n",
       "      <td>29</td>\n",
       "      <td>539451.43</td>\n",
       "    </tr>\n",
       "    <tr>\n",
       "      <th>29</th>\n",
       "      <td>30</td>\n",
       "      <td>438579.62</td>\n",
       "    </tr>\n",
       "    <tr>\n",
       "      <th>30</th>\n",
       "      <td>31</td>\n",
       "      <td>1395901.44</td>\n",
       "    </tr>\n",
       "    <tr>\n",
       "      <th>31</th>\n",
       "      <td>32</td>\n",
       "      <td>1166568.15</td>\n",
       "    </tr>\n",
       "    <tr>\n",
       "      <th>32</th>\n",
       "      <td>33</td>\n",
       "      <td>259861.69</td>\n",
       "    </tr>\n",
       "    <tr>\n",
       "      <th>33</th>\n",
       "      <td>34</td>\n",
       "      <td>966781.56</td>\n",
       "    </tr>\n",
       "    <tr>\n",
       "      <th>34</th>\n",
       "      <td>35</td>\n",
       "      <td>919724.98</td>\n",
       "    </tr>\n",
       "    <tr>\n",
       "      <th>35</th>\n",
       "      <td>36</td>\n",
       "      <td>373511.99</td>\n",
       "    </tr>\n",
       "    <tr>\n",
       "      <th>36</th>\n",
       "      <td>37</td>\n",
       "      <td>518900.28</td>\n",
       "    </tr>\n",
       "    <tr>\n",
       "      <th>37</th>\n",
       "      <td>38</td>\n",
       "      <td>385731.65</td>\n",
       "    </tr>\n",
       "    <tr>\n",
       "      <th>38</th>\n",
       "      <td>39</td>\n",
       "      <td>1450668.13</td>\n",
       "    </tr>\n",
       "    <tr>\n",
       "      <th>39</th>\n",
       "      <td>40</td>\n",
       "      <td>964128.04</td>\n",
       "    </tr>\n",
       "    <tr>\n",
       "      <th>40</th>\n",
       "      <td>41</td>\n",
       "      <td>1268125.42</td>\n",
       "    </tr>\n",
       "    <tr>\n",
       "      <th>41</th>\n",
       "      <td>42</td>\n",
       "      <td>556403.86</td>\n",
       "    </tr>\n",
       "    <tr>\n",
       "      <th>42</th>\n",
       "      <td>43</td>\n",
       "      <td>633324.72</td>\n",
       "    </tr>\n",
       "    <tr>\n",
       "      <th>43</th>\n",
       "      <td>44</td>\n",
       "      <td>302748.87</td>\n",
       "    </tr>\n",
       "    <tr>\n",
       "      <th>44</th>\n",
       "      <td>45</td>\n",
       "      <td>785981.41</td>\n",
       "    </tr>\n",
       "  </tbody>\n",
       "</table>\n",
       "</div>"
      ],
      "text/plain": [
       "    Store  Weekly_Sales\n",
       "0       1    1555264.40\n",
       "1       2    1925751.34\n",
       "2       3     402704.44\n",
       "3       4    2094712.96\n",
       "4       5     318011.81\n",
       "5       6    1564728.19\n",
       "6       7     570617.31\n",
       "7       8     908749.52\n",
       "8       9     543980.55\n",
       "9      10    1899424.57\n",
       "10     11    1356383.12\n",
       "11     12    1009001.61\n",
       "12     13    2003620.31\n",
       "13     14    2020978.40\n",
       "14     15     623312.47\n",
       "15     16     519247.73\n",
       "16     17     893581.39\n",
       "17     18    1084718.42\n",
       "18     19    1444999.04\n",
       "19     20    2107676.87\n",
       "20     21     756069.08\n",
       "21     22    1028501.04\n",
       "22     23    1389864.46\n",
       "23     24    1356755.39\n",
       "24     25     706721.53\n",
       "25     26    1002911.84\n",
       "26     27    1775216.20\n",
       "27     28    1323522.24\n",
       "28     29     539451.43\n",
       "29     30     438579.62\n",
       "30     31    1395901.44\n",
       "31     32    1166568.15\n",
       "32     33     259861.69\n",
       "33     34     966781.56\n",
       "34     35     919724.98\n",
       "35     36     373511.99\n",
       "36     37     518900.28\n",
       "37     38     385731.65\n",
       "38     39    1450668.13\n",
       "39     40     964128.04\n",
       "40     41    1268125.42\n",
       "41     42     556403.86\n",
       "42     43     633324.72\n",
       "43     44     302748.87\n",
       "44     45     785981.41"
      ]
     },
     "execution_count": 17,
     "metadata": {},
     "output_type": "execute_result"
    }
   ],
   "source": [
    "Weekly_Sales_mean.reset_index()"
   ]
  },
  {
   "cell_type": "code",
   "execution_count": 18,
   "id": "fda94dc8",
   "metadata": {
    "execution": {
     "iopub.execute_input": "2021-08-20T20:19:46.351874Z",
     "iopub.status.busy": "2021-08-20T20:19:46.351121Z",
     "iopub.status.idle": "2021-08-20T20:19:46.362318Z",
     "shell.execute_reply": "2021-08-20T20:19:46.361617Z",
     "shell.execute_reply.started": "2021-08-20T18:03:55.073893Z"
    },
    "papermill": {
     "duration": 0.092595,
     "end_time": "2021-08-20T20:19:46.362491",
     "exception": false,
     "start_time": "2021-08-20T20:19:46.269896",
     "status": "completed"
    },
    "tags": []
   },
   "outputs": [],
   "source": [
    "store_df = store_df.join(Weekly_Sales_mean)"
   ]
  },
  {
   "cell_type": "code",
   "execution_count": 19,
   "id": "06968c68",
   "metadata": {
    "execution": {
     "iopub.execute_input": "2021-08-20T20:19:46.528142Z",
     "iopub.status.busy": "2021-08-20T20:19:46.527296Z",
     "iopub.status.idle": "2021-08-20T20:19:46.530701Z",
     "shell.execute_reply": "2021-08-20T20:19:46.530008Z",
     "shell.execute_reply.started": "2021-08-20T18:03:55.088153Z"
    },
    "papermill": {
     "duration": 0.0894,
     "end_time": "2021-08-20T20:19:46.530873",
     "exception": false,
     "start_time": "2021-08-20T20:19:46.441473",
     "status": "completed"
    },
    "tags": []
   },
   "outputs": [],
   "source": [
    "store_df = store_df.rename(columns={'Weekly_Sales':'Weekly_Sales_mean'})"
   ]
  },
  {
   "cell_type": "code",
   "execution_count": 20,
   "id": "7538dbb2",
   "metadata": {
    "execution": {
     "iopub.execute_input": "2021-08-20T20:19:46.694601Z",
     "iopub.status.busy": "2021-08-20T20:19:46.693840Z",
     "iopub.status.idle": "2021-08-20T20:19:46.716003Z",
     "shell.execute_reply": "2021-08-20T20:19:46.715181Z",
     "shell.execute_reply.started": "2021-08-20T18:03:55.102302Z"
    },
    "papermill": {
     "duration": 0.106182,
     "end_time": "2021-08-20T20:19:46.716176",
     "exception": false,
     "start_time": "2021-08-20T20:19:46.609994",
     "status": "completed"
    },
    "tags": []
   },
   "outputs": [],
   "source": [
    "store_df['coeff_mean_to_std'] = round(store_df.Weekly_Sales_mean/store_df.Weekly_Sales_std,2)"
   ]
  },
  {
   "cell_type": "code",
   "execution_count": 21,
   "id": "a2840e7c",
   "metadata": {
    "execution": {
     "iopub.execute_input": "2021-08-20T20:19:46.878855Z",
     "iopub.status.busy": "2021-08-20T20:19:46.877811Z",
     "iopub.status.idle": "2021-08-20T20:19:46.891770Z",
     "shell.execute_reply": "2021-08-20T20:19:46.892321Z",
     "shell.execute_reply.started": "2021-08-20T18:03:55.113671Z"
    },
    "papermill": {
     "duration": 0.097306,
     "end_time": "2021-08-20T20:19:46.892531",
     "exception": false,
     "start_time": "2021-08-20T20:19:46.795225",
     "status": "completed"
    },
    "tags": []
   },
   "outputs": [
    {
     "data": {
      "text/html": [
       "<div>\n",
       "<style scoped>\n",
       "    .dataframe tbody tr th:only-of-type {\n",
       "        vertical-align: middle;\n",
       "    }\n",
       "\n",
       "    .dataframe tbody tr th {\n",
       "        vertical-align: top;\n",
       "    }\n",
       "\n",
       "    .dataframe thead th {\n",
       "        text-align: right;\n",
       "    }\n",
       "</style>\n",
       "<table border=\"1\" class=\"dataframe\">\n",
       "  <thead>\n",
       "    <tr style=\"text-align: right;\">\n",
       "      <th></th>\n",
       "      <th>Weekly_Sales_std</th>\n",
       "      <th>Weekly_Sales_mean</th>\n",
       "      <th>coeff_mean_to_std</th>\n",
       "    </tr>\n",
       "    <tr>\n",
       "      <th>Store</th>\n",
       "      <th></th>\n",
       "      <th></th>\n",
       "      <th></th>\n",
       "    </tr>\n",
       "  </thead>\n",
       "  <tbody>\n",
       "    <tr>\n",
       "      <th>1</th>\n",
       "      <td>155980.77</td>\n",
       "      <td>1555264.40</td>\n",
       "      <td>9.97</td>\n",
       "    </tr>\n",
       "    <tr>\n",
       "      <th>2</th>\n",
       "      <td>237683.69</td>\n",
       "      <td>1925751.34</td>\n",
       "      <td>8.10</td>\n",
       "    </tr>\n",
       "    <tr>\n",
       "      <th>3</th>\n",
       "      <td>46319.63</td>\n",
       "      <td>402704.44</td>\n",
       "      <td>8.69</td>\n",
       "    </tr>\n",
       "    <tr>\n",
       "      <th>4</th>\n",
       "      <td>266201.44</td>\n",
       "      <td>2094712.96</td>\n",
       "      <td>7.87</td>\n",
       "    </tr>\n",
       "    <tr>\n",
       "      <th>5</th>\n",
       "      <td>37737.97</td>\n",
       "      <td>318011.81</td>\n",
       "      <td>8.43</td>\n",
       "    </tr>\n",
       "    <tr>\n",
       "      <th>6</th>\n",
       "      <td>212525.86</td>\n",
       "      <td>1564728.19</td>\n",
       "      <td>7.36</td>\n",
       "    </tr>\n",
       "    <tr>\n",
       "      <th>7</th>\n",
       "      <td>112585.47</td>\n",
       "      <td>570617.31</td>\n",
       "      <td>5.07</td>\n",
       "    </tr>\n",
       "  </tbody>\n",
       "</table>\n",
       "</div>"
      ],
      "text/plain": [
       "       Weekly_Sales_std  Weekly_Sales_mean  coeff_mean_to_std\n",
       "Store                                                        \n",
       "1             155980.77         1555264.40               9.97\n",
       "2             237683.69         1925751.34               8.10\n",
       "3              46319.63          402704.44               8.69\n",
       "4             266201.44         2094712.96               7.87\n",
       "5              37737.97          318011.81               8.43\n",
       "6             212525.86         1564728.19               7.36\n",
       "7             112585.47          570617.31               5.07"
      ]
     },
     "execution_count": 21,
     "metadata": {},
     "output_type": "execute_result"
    }
   ],
   "source": [
    "store_df.head(7)"
   ]
  },
  {
   "cell_type": "code",
   "execution_count": null,
   "id": "55d6350c",
   "metadata": {
    "papermill": {
     "duration": 0.080554,
     "end_time": "2021-08-20T20:19:47.052076",
     "exception": false,
     "start_time": "2021-08-20T20:19:46.971522",
     "status": "completed"
    },
    "tags": []
   },
   "outputs": [],
   "source": []
  },
  {
   "cell_type": "code",
   "execution_count": 22,
   "id": "be4c53b8",
   "metadata": {
    "execution": {
     "iopub.execute_input": "2021-08-20T20:19:47.216038Z",
     "iopub.status.busy": "2021-08-20T20:19:47.214986Z",
     "iopub.status.idle": "2021-08-20T20:19:47.219768Z",
     "shell.execute_reply": "2021-08-20T20:19:47.219157Z",
     "shell.execute_reply.started": "2021-08-20T18:03:55.135948Z"
    },
    "papermill": {
     "duration": 0.088098,
     "end_time": "2021-08-20T20:19:47.219922",
     "exception": false,
     "start_time": "2021-08-20T20:19:47.131824",
     "status": "completed"
    },
    "tags": []
   },
   "outputs": [],
   "source": [
    "## As per the question we will find the coeff_mean_to_std of the store with highest std deviation of weekly sales"
   ]
  },
  {
   "cell_type": "code",
   "execution_count": 23,
   "id": "bea0c6ac",
   "metadata": {
    "execution": {
     "iopub.execute_input": "2021-08-20T20:19:47.391938Z",
     "iopub.status.busy": "2021-08-20T20:19:47.391266Z",
     "iopub.status.idle": "2021-08-20T20:19:47.394655Z",
     "shell.execute_reply": "2021-08-20T20:19:47.395122Z",
     "shell.execute_reply.started": "2021-08-20T18:03:55.146087Z"
    },
    "papermill": {
     "duration": 0.097275,
     "end_time": "2021-08-20T20:19:47.395316",
     "exception": false,
     "start_time": "2021-08-20T20:19:47.298041",
     "status": "completed"
    },
    "tags": []
   },
   "outputs": [
    {
     "data": {
      "text/html": [
       "<div>\n",
       "<style scoped>\n",
       "    .dataframe tbody tr th:only-of-type {\n",
       "        vertical-align: middle;\n",
       "    }\n",
       "\n",
       "    .dataframe tbody tr th {\n",
       "        vertical-align: top;\n",
       "    }\n",
       "\n",
       "    .dataframe thead th {\n",
       "        text-align: right;\n",
       "    }\n",
       "</style>\n",
       "<table border=\"1\" class=\"dataframe\">\n",
       "  <thead>\n",
       "    <tr style=\"text-align: right;\">\n",
       "      <th></th>\n",
       "      <th>Weekly_Sales_std</th>\n",
       "      <th>Weekly_Sales_mean</th>\n",
       "      <th>coeff_mean_to_std</th>\n",
       "    </tr>\n",
       "    <tr>\n",
       "      <th>Store</th>\n",
       "      <th></th>\n",
       "      <th></th>\n",
       "      <th></th>\n",
       "    </tr>\n",
       "  </thead>\n",
       "  <tbody>\n",
       "    <tr>\n",
       "      <th>14</th>\n",
       "      <td>317569.95</td>\n",
       "      <td>2020978.40</td>\n",
       "      <td>6.36</td>\n",
       "    </tr>\n",
       "    <tr>\n",
       "      <th>10</th>\n",
       "      <td>302262.06</td>\n",
       "      <td>1899424.57</td>\n",
       "      <td>6.28</td>\n",
       "    </tr>\n",
       "    <tr>\n",
       "      <th>20</th>\n",
       "      <td>275900.56</td>\n",
       "      <td>2107676.87</td>\n",
       "      <td>7.64</td>\n",
       "    </tr>\n",
       "    <tr>\n",
       "      <th>4</th>\n",
       "      <td>266201.44</td>\n",
       "      <td>2094712.96</td>\n",
       "      <td>7.87</td>\n",
       "    </tr>\n",
       "    <tr>\n",
       "      <th>13</th>\n",
       "      <td>265507.00</td>\n",
       "      <td>2003620.31</td>\n",
       "      <td>7.55</td>\n",
       "    </tr>\n",
       "    <tr>\n",
       "      <th>23</th>\n",
       "      <td>249788.04</td>\n",
       "      <td>1389864.46</td>\n",
       "      <td>5.56</td>\n",
       "    </tr>\n",
       "    <tr>\n",
       "      <th>27</th>\n",
       "      <td>239930.14</td>\n",
       "      <td>1775216.20</td>\n",
       "      <td>7.40</td>\n",
       "    </tr>\n",
       "    <tr>\n",
       "      <th>2</th>\n",
       "      <td>237683.69</td>\n",
       "      <td>1925751.34</td>\n",
       "      <td>8.10</td>\n",
       "    </tr>\n",
       "    <tr>\n",
       "      <th>39</th>\n",
       "      <td>217466.45</td>\n",
       "      <td>1450668.13</td>\n",
       "      <td>6.67</td>\n",
       "    </tr>\n",
       "    <tr>\n",
       "      <th>6</th>\n",
       "      <td>212525.86</td>\n",
       "      <td>1564728.19</td>\n",
       "      <td>7.36</td>\n",
       "    </tr>\n",
       "  </tbody>\n",
       "</table>\n",
       "</div>"
      ],
      "text/plain": [
       "       Weekly_Sales_std  Weekly_Sales_mean  coeff_mean_to_std\n",
       "Store                                                        \n",
       "14            317569.95         2020978.40               6.36\n",
       "10            302262.06         1899424.57               6.28\n",
       "20            275900.56         2107676.87               7.64\n",
       "4             266201.44         2094712.96               7.87\n",
       "13            265507.00         2003620.31               7.55\n",
       "23            249788.04         1389864.46               5.56\n",
       "27            239930.14         1775216.20               7.40\n",
       "2             237683.69         1925751.34               8.10\n",
       "39            217466.45         1450668.13               6.67\n",
       "6             212525.86         1564728.19               7.36"
      ]
     },
     "execution_count": 23,
     "metadata": {},
     "output_type": "execute_result"
    }
   ],
   "source": [
    "store_df.sort_values(['Weekly_Sales_std'],ascending=False).head(10)"
   ]
  },
  {
   "cell_type": "markdown",
   "id": "71f08dea",
   "metadata": {
    "papermill": {
     "duration": 0.078772,
     "end_time": "2021-08-20T20:19:47.552502",
     "exception": false,
     "start_time": "2021-08-20T20:19:47.473730",
     "status": "completed"
    },
    "tags": []
   },
   "source": [
    "### Since the store 14 was having the highest weekly std deviation, its coefficient of mean to standard deviation is 6.36"
   ]
  },
  {
   "cell_type": "markdown",
   "id": "24d3e03d",
   "metadata": {
    "papermill": {
     "duration": 0.079088,
     "end_time": "2021-08-20T20:19:47.710650",
     "exception": false,
     "start_time": "2021-08-20T20:19:47.631562",
     "status": "completed"
    },
    "tags": []
   },
   "source": [
    "## For the question Which store/s has good quarterly growth rate in Q3’2012"
   ]
  },
  {
   "cell_type": "code",
   "execution_count": 24,
   "id": "295b76ed",
   "metadata": {
    "execution": {
     "iopub.execute_input": "2021-08-20T20:19:47.871174Z",
     "iopub.status.busy": "2021-08-20T20:19:47.870512Z",
     "iopub.status.idle": "2021-08-20T20:19:47.885002Z",
     "shell.execute_reply": "2021-08-20T20:19:47.885531Z",
     "shell.execute_reply.started": "2021-08-20T18:03:55.170067Z"
    },
    "papermill": {
     "duration": 0.096373,
     "end_time": "2021-08-20T20:19:47.885726",
     "exception": false,
     "start_time": "2021-08-20T20:19:47.789353",
     "status": "completed"
    },
    "tags": []
   },
   "outputs": [
    {
     "data": {
      "text/html": [
       "<div>\n",
       "<style scoped>\n",
       "    .dataframe tbody tr th:only-of-type {\n",
       "        vertical-align: middle;\n",
       "    }\n",
       "\n",
       "    .dataframe tbody tr th {\n",
       "        vertical-align: top;\n",
       "    }\n",
       "\n",
       "    .dataframe thead th {\n",
       "        text-align: right;\n",
       "    }\n",
       "</style>\n",
       "<table border=\"1\" class=\"dataframe\">\n",
       "  <thead>\n",
       "    <tr style=\"text-align: right;\">\n",
       "      <th></th>\n",
       "      <th>index</th>\n",
       "      <th>Store</th>\n",
       "      <th>Date</th>\n",
       "      <th>Weekly_Sales</th>\n",
       "      <th>Holiday_Flag</th>\n",
       "      <th>Temperature</th>\n",
       "      <th>Fuel_Price</th>\n",
       "      <th>CPI</th>\n",
       "      <th>Unemployment</th>\n",
       "    </tr>\n",
       "  </thead>\n",
       "  <tbody>\n",
       "    <tr>\n",
       "      <th>0</th>\n",
       "      <td>0</td>\n",
       "      <td>1</td>\n",
       "      <td>05-02-2010</td>\n",
       "      <td>1643690.90</td>\n",
       "      <td>0</td>\n",
       "      <td>42.31</td>\n",
       "      <td>2.572</td>\n",
       "      <td>211.096358</td>\n",
       "      <td>8.106</td>\n",
       "    </tr>\n",
       "    <tr>\n",
       "      <th>1</th>\n",
       "      <td>1</td>\n",
       "      <td>1</td>\n",
       "      <td>12-02-2010</td>\n",
       "      <td>1641957.44</td>\n",
       "      <td>1</td>\n",
       "      <td>38.51</td>\n",
       "      <td>2.548</td>\n",
       "      <td>211.242170</td>\n",
       "      <td>8.106</td>\n",
       "    </tr>\n",
       "    <tr>\n",
       "      <th>2</th>\n",
       "      <td>2</td>\n",
       "      <td>1</td>\n",
       "      <td>19-02-2010</td>\n",
       "      <td>1611968.17</td>\n",
       "      <td>0</td>\n",
       "      <td>39.93</td>\n",
       "      <td>2.514</td>\n",
       "      <td>211.289143</td>\n",
       "      <td>8.106</td>\n",
       "    </tr>\n",
       "    <tr>\n",
       "      <th>3</th>\n",
       "      <td>3</td>\n",
       "      <td>1</td>\n",
       "      <td>26-02-2010</td>\n",
       "      <td>1409727.59</td>\n",
       "      <td>0</td>\n",
       "      <td>46.63</td>\n",
       "      <td>2.561</td>\n",
       "      <td>211.319643</td>\n",
       "      <td>8.106</td>\n",
       "    </tr>\n",
       "    <tr>\n",
       "      <th>4</th>\n",
       "      <td>4</td>\n",
       "      <td>1</td>\n",
       "      <td>05-03-2010</td>\n",
       "      <td>1554806.68</td>\n",
       "      <td>0</td>\n",
       "      <td>46.50</td>\n",
       "      <td>2.625</td>\n",
       "      <td>211.350143</td>\n",
       "      <td>8.106</td>\n",
       "    </tr>\n",
       "  </tbody>\n",
       "</table>\n",
       "</div>"
      ],
      "text/plain": [
       "   index  Store        Date  Weekly_Sales  Holiday_Flag  Temperature  \\\n",
       "0      0      1  05-02-2010    1643690.90             0        42.31   \n",
       "1      1      1  12-02-2010    1641957.44             1        38.51   \n",
       "2      2      1  19-02-2010    1611968.17             0        39.93   \n",
       "3      3      1  26-02-2010    1409727.59             0        46.63   \n",
       "4      4      1  05-03-2010    1554806.68             0        46.50   \n",
       "\n",
       "   Fuel_Price         CPI  Unemployment  \n",
       "0       2.572  211.096358         8.106  \n",
       "1       2.548  211.242170         8.106  \n",
       "2       2.514  211.289143         8.106  \n",
       "3       2.561  211.319643         8.106  \n",
       "4       2.625  211.350143         8.106  "
      ]
     },
     "execution_count": 24,
     "metadata": {},
     "output_type": "execute_result"
    }
   ],
   "source": [
    "walmart.head()"
   ]
  },
  {
   "cell_type": "code",
   "execution_count": 25,
   "id": "6498a9d3",
   "metadata": {
    "execution": {
     "iopub.execute_input": "2021-08-20T20:19:48.046972Z",
     "iopub.status.busy": "2021-08-20T20:19:48.046326Z",
     "iopub.status.idle": "2021-08-20T20:19:48.053701Z",
     "shell.execute_reply": "2021-08-20T20:19:48.053140Z",
     "shell.execute_reply.started": "2021-08-20T18:03:55.194594Z"
    },
    "papermill": {
     "duration": 0.088765,
     "end_time": "2021-08-20T20:19:48.053842",
     "exception": false,
     "start_time": "2021-08-20T20:19:47.965077",
     "status": "completed"
    },
    "tags": []
   },
   "outputs": [
    {
     "data": {
      "text/plain": [
       "index             int64\n",
       "Store             int64\n",
       "Date             object\n",
       "Weekly_Sales    float64\n",
       "Holiday_Flag      int64\n",
       "Temperature     float64\n",
       "Fuel_Price      float64\n",
       "CPI             float64\n",
       "Unemployment    float64\n",
       "dtype: object"
      ]
     },
     "execution_count": 25,
     "metadata": {},
     "output_type": "execute_result"
    }
   ],
   "source": [
    "walmart.dtypes"
   ]
  },
  {
   "cell_type": "code",
   "execution_count": 26,
   "id": "13c5911d",
   "metadata": {
    "execution": {
     "iopub.execute_input": "2021-08-20T20:19:48.224124Z",
     "iopub.status.busy": "2021-08-20T20:19:48.223441Z",
     "iopub.status.idle": "2021-08-20T20:19:48.226423Z",
     "shell.execute_reply": "2021-08-20T20:19:48.226913Z",
     "shell.execute_reply.started": "2021-08-20T18:03:55.209013Z"
    },
    "papermill": {
     "duration": 0.092624,
     "end_time": "2021-08-20T20:19:48.227140",
     "exception": false,
     "start_time": "2021-08-20T20:19:48.134516",
     "status": "completed"
    },
    "tags": []
   },
   "outputs": [],
   "source": [
    "walmart['Date']  =(pd.to_datetime(walmart['Date'],dayfirst=True))\n",
    "#walmart['Date'] = pd.to_datetime(walmart.Date,infer_datetime_format=True) #this is to covert the date column to date and time format for convenience\n",
    "#walmart['Date'] = walmart['Date'].dt.strftime('%yyyy-%m-%d')\n"
   ]
  },
  {
   "cell_type": "code",
   "execution_count": 27,
   "id": "00b62942",
   "metadata": {
    "execution": {
     "iopub.execute_input": "2021-08-20T20:19:48.391574Z",
     "iopub.status.busy": "2021-08-20T20:19:48.390932Z",
     "iopub.status.idle": "2021-08-20T20:19:48.406526Z",
     "shell.execute_reply": "2021-08-20T20:19:48.407106Z",
     "shell.execute_reply.started": "2021-08-20T18:03:55.224057Z"
    },
    "papermill": {
     "duration": 0.098445,
     "end_time": "2021-08-20T20:19:48.407304",
     "exception": false,
     "start_time": "2021-08-20T20:19:48.308859",
     "status": "completed"
    },
    "tags": []
   },
   "outputs": [
    {
     "data": {
      "text/html": [
       "<div>\n",
       "<style scoped>\n",
       "    .dataframe tbody tr th:only-of-type {\n",
       "        vertical-align: middle;\n",
       "    }\n",
       "\n",
       "    .dataframe tbody tr th {\n",
       "        vertical-align: top;\n",
       "    }\n",
       "\n",
       "    .dataframe thead th {\n",
       "        text-align: right;\n",
       "    }\n",
       "</style>\n",
       "<table border=\"1\" class=\"dataframe\">\n",
       "  <thead>\n",
       "    <tr style=\"text-align: right;\">\n",
       "      <th></th>\n",
       "      <th>index</th>\n",
       "      <th>Store</th>\n",
       "      <th>Date</th>\n",
       "      <th>Weekly_Sales</th>\n",
       "      <th>Holiday_Flag</th>\n",
       "      <th>Temperature</th>\n",
       "      <th>Fuel_Price</th>\n",
       "      <th>CPI</th>\n",
       "      <th>Unemployment</th>\n",
       "    </tr>\n",
       "  </thead>\n",
       "  <tbody>\n",
       "    <tr>\n",
       "      <th>0</th>\n",
       "      <td>0</td>\n",
       "      <td>1</td>\n",
       "      <td>2010-02-05</td>\n",
       "      <td>1643690.90</td>\n",
       "      <td>0</td>\n",
       "      <td>42.31</td>\n",
       "      <td>2.572</td>\n",
       "      <td>211.096358</td>\n",
       "      <td>8.106</td>\n",
       "    </tr>\n",
       "    <tr>\n",
       "      <th>1</th>\n",
       "      <td>1</td>\n",
       "      <td>1</td>\n",
       "      <td>2010-02-12</td>\n",
       "      <td>1641957.44</td>\n",
       "      <td>1</td>\n",
       "      <td>38.51</td>\n",
       "      <td>2.548</td>\n",
       "      <td>211.242170</td>\n",
       "      <td>8.106</td>\n",
       "    </tr>\n",
       "    <tr>\n",
       "      <th>2</th>\n",
       "      <td>2</td>\n",
       "      <td>1</td>\n",
       "      <td>2010-02-19</td>\n",
       "      <td>1611968.17</td>\n",
       "      <td>0</td>\n",
       "      <td>39.93</td>\n",
       "      <td>2.514</td>\n",
       "      <td>211.289143</td>\n",
       "      <td>8.106</td>\n",
       "    </tr>\n",
       "    <tr>\n",
       "      <th>3</th>\n",
       "      <td>3</td>\n",
       "      <td>1</td>\n",
       "      <td>2010-02-26</td>\n",
       "      <td>1409727.59</td>\n",
       "      <td>0</td>\n",
       "      <td>46.63</td>\n",
       "      <td>2.561</td>\n",
       "      <td>211.319643</td>\n",
       "      <td>8.106</td>\n",
       "    </tr>\n",
       "    <tr>\n",
       "      <th>4</th>\n",
       "      <td>4</td>\n",
       "      <td>1</td>\n",
       "      <td>2010-03-05</td>\n",
       "      <td>1554806.68</td>\n",
       "      <td>0</td>\n",
       "      <td>46.50</td>\n",
       "      <td>2.625</td>\n",
       "      <td>211.350143</td>\n",
       "      <td>8.106</td>\n",
       "    </tr>\n",
       "  </tbody>\n",
       "</table>\n",
       "</div>"
      ],
      "text/plain": [
       "   index  Store       Date  Weekly_Sales  Holiday_Flag  Temperature  \\\n",
       "0      0      1 2010-02-05    1643690.90             0        42.31   \n",
       "1      1      1 2010-02-12    1641957.44             1        38.51   \n",
       "2      2      1 2010-02-19    1611968.17             0        39.93   \n",
       "3      3      1 2010-02-26    1409727.59             0        46.63   \n",
       "4      4      1 2010-03-05    1554806.68             0        46.50   \n",
       "\n",
       "   Fuel_Price         CPI  Unemployment  \n",
       "0       2.572  211.096358         8.106  \n",
       "1       2.548  211.242170         8.106  \n",
       "2       2.514  211.289143         8.106  \n",
       "3       2.561  211.319643         8.106  \n",
       "4       2.625  211.350143         8.106  "
      ]
     },
     "execution_count": 27,
     "metadata": {},
     "output_type": "execute_result"
    }
   ],
   "source": [
    "walmart.head()"
   ]
  },
  {
   "cell_type": "code",
   "execution_count": 28,
   "id": "8b5e7aca",
   "metadata": {
    "execution": {
     "iopub.execute_input": "2021-08-20T20:19:48.569889Z",
     "iopub.status.busy": "2021-08-20T20:19:48.569281Z",
     "iopub.status.idle": "2021-08-20T20:19:48.572972Z",
     "shell.execute_reply": "2021-08-20T20:19:48.573506Z",
     "shell.execute_reply.started": "2021-08-20T18:03:55.246547Z"
    },
    "papermill": {
     "duration": 0.086648,
     "end_time": "2021-08-20T20:19:48.573674",
     "exception": false,
     "start_time": "2021-08-20T20:19:48.487026",
     "status": "completed"
    },
    "tags": []
   },
   "outputs": [],
   "source": [
    "#defining a function q calculator"
   ]
  },
  {
   "cell_type": "code",
   "execution_count": 29,
   "id": "c9999a52",
   "metadata": {
    "execution": {
     "iopub.execute_input": "2021-08-20T20:19:48.741211Z",
     "iopub.status.busy": "2021-08-20T20:19:48.740560Z",
     "iopub.status.idle": "2021-08-20T20:19:48.748890Z",
     "shell.execute_reply": "2021-08-20T20:19:48.749466Z",
     "shell.execute_reply.started": "2021-08-20T18:03:55.254960Z"
    },
    "papermill": {
     "duration": 0.096167,
     "end_time": "2021-08-20T20:19:48.749651",
     "exception": false,
     "start_time": "2021-08-20T20:19:48.653484",
     "status": "completed"
    },
    "tags": []
   },
   "outputs": [],
   "source": [
    "def q1_calc(store_no):\n",
    "    return round(np.sum(walmart[(walmart['Date']>='2012-01-01') & (walmart['Date']<='2012-03-31')&(walmart['Store']==store_no)].Weekly_Sales),2)\n",
    "def q2_calc(store_no):\n",
    "    return round(np.sum(walmart[(walmart['Date']>='2012-04-1') & (walmart['Date']<='2012-06-30')&(walmart['Store']==store_no)].Weekly_Sales),2)\n",
    "def q3_calc(store_no):\n",
    "    return round(np.sum(walmart[(walmart['Date']>='2012-07-01') & (walmart['Date']<='2012-09-30')&(walmart['Store']==store_no)].Weekly_Sales),2)\n",
    "def q4_calc(store_no):\n",
    "    return round(np.sum(walmart[(walmart['Date']>='2012-10-01') & (walmart['Date']<='2012-12-31')&(walmart['Store']==store_no)].Weekly_Sales),2)\n",
    "       "
   ]
  },
  {
   "cell_type": "markdown",
   "id": "5d18fac9",
   "metadata": {
    "papermill": {
     "duration": 0.079686,
     "end_time": "2021-08-20T20:19:48.909560",
     "exception": false,
     "start_time": "2021-08-20T20:19:48.829874",
     "status": "completed"
    },
    "tags": []
   },
   "source": [
    "## The functions defined above calculates total sales for different quarters, I have defined four functions to avoid taking the dates as input thus reduce complexity"
   ]
  },
  {
   "cell_type": "code",
   "execution_count": 30,
   "id": "4b3e1f33",
   "metadata": {
    "execution": {
     "iopub.execute_input": "2021-08-20T20:19:49.072363Z",
     "iopub.status.busy": "2021-08-20T20:19:49.071734Z",
     "iopub.status.idle": "2021-08-20T20:19:49.076337Z",
     "shell.execute_reply": "2021-08-20T20:19:49.075822Z",
     "shell.execute_reply.started": "2021-08-20T18:03:55.267546Z"
    },
    "papermill": {
     "duration": 0.087008,
     "end_time": "2021-08-20T20:19:49.076480",
     "exception": false,
     "start_time": "2021-08-20T20:19:48.989472",
     "status": "completed"
    },
    "tags": []
   },
   "outputs": [],
   "source": [
    "Q1=[]\n",
    "Q2=[]\n",
    "Q3=[]\n",
    "Q4=[]       "
   ]
  },
  {
   "cell_type": "code",
   "execution_count": 31,
   "id": "57ac3040",
   "metadata": {
    "execution": {
     "iopub.execute_input": "2021-08-20T20:19:49.246684Z",
     "iopub.status.busy": "2021-08-20T20:19:49.245995Z",
     "iopub.status.idle": "2021-08-20T20:19:49.256349Z",
     "shell.execute_reply": "2021-08-20T20:19:49.255559Z",
     "shell.execute_reply.started": "2021-08-20T18:03:55.277203Z"
    },
    "papermill": {
     "duration": 0.099178,
     "end_time": "2021-08-20T20:19:49.256515",
     "exception": false,
     "start_time": "2021-08-20T20:19:49.157337",
     "status": "completed"
    },
    "tags": []
   },
   "outputs": [
    {
     "data": {
      "text/plain": [
       "(20723762.83, 20978760.12, 20253947.78, 6245587.29)"
      ]
     },
     "execution_count": 31,
     "metadata": {},
     "output_type": "execute_result"
    }
   ],
   "source": [
    "q1_calc(1),q2_calc(1),q3_calc(1),q4_calc(1)   #checking out the function for store 1"
   ]
  },
  {
   "cell_type": "code",
   "execution_count": 32,
   "id": "97686595",
   "metadata": {
    "execution": {
     "iopub.execute_input": "2021-08-20T20:19:49.423739Z",
     "iopub.status.busy": "2021-08-20T20:19:49.422996Z",
     "iopub.status.idle": "2021-08-20T20:19:49.689927Z",
     "shell.execute_reply": "2021-08-20T20:19:49.689337Z",
     "shell.execute_reply.started": "2021-08-20T18:03:55.299934Z"
    },
    "papermill": {
     "duration": 0.352652,
     "end_time": "2021-08-20T20:19:49.690106",
     "exception": false,
     "start_time": "2021-08-20T20:19:49.337454",
     "status": "completed"
    },
    "tags": []
   },
   "outputs": [],
   "source": [
    "for store in range(0,len(store_df)):\n",
    "    Q1.append(q1_calc(store+1))\n",
    "    Q2.append(q2_calc(store+1))\n",
    "    Q3.append(q3_calc(store+1))\n",
    "    Q4.append(q4_calc(store+1))              #Appending the data to the lists"
   ]
  },
  {
   "cell_type": "code",
   "execution_count": 33,
   "id": "d0f60275",
   "metadata": {
    "execution": {
     "iopub.execute_input": "2021-08-20T20:19:49.858782Z",
     "iopub.status.busy": "2021-08-20T20:19:49.858065Z",
     "iopub.status.idle": "2021-08-20T20:19:49.861310Z",
     "shell.execute_reply": "2021-08-20T20:19:49.860750Z",
     "shell.execute_reply.started": "2021-08-20T18:03:55.569261Z"
    },
    "papermill": {
     "duration": 0.089414,
     "end_time": "2021-08-20T20:19:49.861460",
     "exception": false,
     "start_time": "2021-08-20T20:19:49.772046",
     "status": "completed"
    },
    "tags": []
   },
   "outputs": [],
   "source": [
    "q_2012_sales = pd.DataFrame({'Q1':Q1,'Q2': Q2,'Q3':Q3,'Q4':Q4})"
   ]
  },
  {
   "cell_type": "code",
   "execution_count": 34,
   "id": "d2ee8d69",
   "metadata": {
    "execution": {
     "iopub.execute_input": "2021-08-20T20:19:50.029297Z",
     "iopub.status.busy": "2021-08-20T20:19:50.028287Z",
     "iopub.status.idle": "2021-08-20T20:19:50.032894Z",
     "shell.execute_reply": "2021-08-20T20:19:50.032363Z",
     "shell.execute_reply.started": "2021-08-20T18:03:55.577176Z"
    },
    "papermill": {
     "duration": 0.090961,
     "end_time": "2021-08-20T20:19:50.033030",
     "exception": false,
     "start_time": "2021-08-20T20:19:49.942069",
     "status": "completed"
    },
    "tags": []
   },
   "outputs": [
    {
     "data": {
      "text/plain": [
       "((45, 4), (45, 3))"
      ]
     },
     "execution_count": 34,
     "metadata": {},
     "output_type": "execute_result"
    }
   ],
   "source": [
    "q_2012_sales.shape,store_df.shape"
   ]
  },
  {
   "cell_type": "code",
   "execution_count": 35,
   "id": "d853db84",
   "metadata": {
    "execution": {
     "iopub.execute_input": "2021-08-20T20:19:50.198276Z",
     "iopub.status.busy": "2021-08-20T20:19:50.197308Z",
     "iopub.status.idle": "2021-08-20T20:19:50.202356Z",
     "shell.execute_reply": "2021-08-20T20:19:50.202856Z",
     "shell.execute_reply.started": "2021-08-20T18:03:55.589188Z"
    },
    "papermill": {
     "duration": 0.089592,
     "end_time": "2021-08-20T20:19:50.203028",
     "exception": false,
     "start_time": "2021-08-20T20:19:50.113436",
     "status": "completed"
    },
    "tags": []
   },
   "outputs": [],
   "source": [
    "store_df = store_df.reset_index() #Resetting the index so it dosent create problem during joining"
   ]
  },
  {
   "cell_type": "code",
   "execution_count": 36,
   "id": "64aae5bd",
   "metadata": {
    "execution": {
     "iopub.execute_input": "2021-08-20T20:19:50.369131Z",
     "iopub.status.busy": "2021-08-20T20:19:50.368164Z",
     "iopub.status.idle": "2021-08-20T20:19:50.380415Z",
     "shell.execute_reply": "2021-08-20T20:19:50.380876Z",
     "shell.execute_reply.started": "2021-08-20T18:03:55.608510Z"
    },
    "papermill": {
     "duration": 0.095994,
     "end_time": "2021-08-20T20:19:50.381052",
     "exception": false,
     "start_time": "2021-08-20T20:19:50.285058",
     "status": "completed"
    },
    "tags": []
   },
   "outputs": [
    {
     "data": {
      "text/html": [
       "<div>\n",
       "<style scoped>\n",
       "    .dataframe tbody tr th:only-of-type {\n",
       "        vertical-align: middle;\n",
       "    }\n",
       "\n",
       "    .dataframe tbody tr th {\n",
       "        vertical-align: top;\n",
       "    }\n",
       "\n",
       "    .dataframe thead th {\n",
       "        text-align: right;\n",
       "    }\n",
       "</style>\n",
       "<table border=\"1\" class=\"dataframe\">\n",
       "  <thead>\n",
       "    <tr style=\"text-align: right;\">\n",
       "      <th></th>\n",
       "      <th>Store</th>\n",
       "      <th>Weekly_Sales_std</th>\n",
       "      <th>Weekly_Sales_mean</th>\n",
       "      <th>coeff_mean_to_std</th>\n",
       "    </tr>\n",
       "  </thead>\n",
       "  <tbody>\n",
       "    <tr>\n",
       "      <th>0</th>\n",
       "      <td>1</td>\n",
       "      <td>155980.77</td>\n",
       "      <td>1555264.40</td>\n",
       "      <td>9.97</td>\n",
       "    </tr>\n",
       "    <tr>\n",
       "      <th>1</th>\n",
       "      <td>2</td>\n",
       "      <td>237683.69</td>\n",
       "      <td>1925751.34</td>\n",
       "      <td>8.10</td>\n",
       "    </tr>\n",
       "    <tr>\n",
       "      <th>2</th>\n",
       "      <td>3</td>\n",
       "      <td>46319.63</td>\n",
       "      <td>402704.44</td>\n",
       "      <td>8.69</td>\n",
       "    </tr>\n",
       "    <tr>\n",
       "      <th>3</th>\n",
       "      <td>4</td>\n",
       "      <td>266201.44</td>\n",
       "      <td>2094712.96</td>\n",
       "      <td>7.87</td>\n",
       "    </tr>\n",
       "    <tr>\n",
       "      <th>4</th>\n",
       "      <td>5</td>\n",
       "      <td>37737.97</td>\n",
       "      <td>318011.81</td>\n",
       "      <td>8.43</td>\n",
       "    </tr>\n",
       "  </tbody>\n",
       "</table>\n",
       "</div>"
      ],
      "text/plain": [
       "   Store  Weekly_Sales_std  Weekly_Sales_mean  coeff_mean_to_std\n",
       "0      1         155980.77         1555264.40               9.97\n",
       "1      2         237683.69         1925751.34               8.10\n",
       "2      3          46319.63          402704.44               8.69\n",
       "3      4         266201.44         2094712.96               7.87\n",
       "4      5          37737.97          318011.81               8.43"
      ]
     },
     "execution_count": 36,
     "metadata": {},
     "output_type": "execute_result"
    }
   ],
   "source": [
    "store_df.head()"
   ]
  },
  {
   "cell_type": "code",
   "execution_count": 37,
   "id": "5f72017f",
   "metadata": {
    "execution": {
     "iopub.execute_input": "2021-08-20T20:19:50.545736Z",
     "iopub.status.busy": "2021-08-20T20:19:50.545025Z",
     "iopub.status.idle": "2021-08-20T20:19:50.550845Z",
     "shell.execute_reply": "2021-08-20T20:19:50.550304Z",
     "shell.execute_reply.started": "2021-08-20T18:03:55.627769Z"
    },
    "papermill": {
     "duration": 0.088912,
     "end_time": "2021-08-20T20:19:50.550987",
     "exception": false,
     "start_time": "2021-08-20T20:19:50.462075",
     "status": "completed"
    },
    "tags": []
   },
   "outputs": [],
   "source": [
    "q_2012_sales['Store'] = store_df.Store   #adding the store column to create a common column for joining the dataframes"
   ]
  },
  {
   "cell_type": "code",
   "execution_count": 38,
   "id": "5d839296",
   "metadata": {
    "execution": {
     "iopub.execute_input": "2021-08-20T20:19:50.728966Z",
     "iopub.status.busy": "2021-08-20T20:19:50.728004Z",
     "iopub.status.idle": "2021-08-20T20:19:50.731515Z",
     "shell.execute_reply": "2021-08-20T20:19:50.731987Z",
     "shell.execute_reply.started": "2021-08-20T18:03:55.641633Z"
    },
    "papermill": {
     "duration": 0.10035,
     "end_time": "2021-08-20T20:19:50.732163",
     "exception": false,
     "start_time": "2021-08-20T20:19:50.631813",
     "status": "completed"
    },
    "tags": []
   },
   "outputs": [
    {
     "data": {
      "text/html": [
       "<div>\n",
       "<style scoped>\n",
       "    .dataframe tbody tr th:only-of-type {\n",
       "        vertical-align: middle;\n",
       "    }\n",
       "\n",
       "    .dataframe tbody tr th {\n",
       "        vertical-align: top;\n",
       "    }\n",
       "\n",
       "    .dataframe thead th {\n",
       "        text-align: right;\n",
       "    }\n",
       "</style>\n",
       "<table border=\"1\" class=\"dataframe\">\n",
       "  <thead>\n",
       "    <tr style=\"text-align: right;\">\n",
       "      <th></th>\n",
       "      <th>Q1</th>\n",
       "      <th>Q2</th>\n",
       "      <th>Q3</th>\n",
       "      <th>Q4</th>\n",
       "      <th>Store</th>\n",
       "    </tr>\n",
       "  </thead>\n",
       "  <tbody>\n",
       "    <tr>\n",
       "      <th>0</th>\n",
       "      <td>20723762.83</td>\n",
       "      <td>20978760.12</td>\n",
       "      <td>20253947.78</td>\n",
       "      <td>6245587.29</td>\n",
       "      <td>1</td>\n",
       "    </tr>\n",
       "    <tr>\n",
       "      <th>1</th>\n",
       "      <td>24528220.70</td>\n",
       "      <td>25083604.88</td>\n",
       "      <td>24303354.86</td>\n",
       "      <td>7581514.93</td>\n",
       "      <td>2</td>\n",
       "    </tr>\n",
       "    <tr>\n",
       "      <th>2</th>\n",
       "      <td>5421809.72</td>\n",
       "      <td>5620316.49</td>\n",
       "      <td>5298005.47</td>\n",
       "      <td>1684307.82</td>\n",
       "      <td>3</td>\n",
       "    </tr>\n",
       "    <tr>\n",
       "      <th>3</th>\n",
       "      <td>27930310.30</td>\n",
       "      <td>28454363.67</td>\n",
       "      <td>27796792.46</td>\n",
       "      <td>8589722.81</td>\n",
       "      <td>4</td>\n",
       "    </tr>\n",
       "    <tr>\n",
       "      <th>4</th>\n",
       "      <td>4237380.83</td>\n",
       "      <td>4466363.69</td>\n",
       "      <td>4163790.99</td>\n",
       "      <td>1301302.62</td>\n",
       "      <td>5</td>\n",
       "    </tr>\n",
       "  </tbody>\n",
       "</table>\n",
       "</div>"
      ],
      "text/plain": [
       "            Q1           Q2           Q3          Q4  Store\n",
       "0  20723762.83  20978760.12  20253947.78  6245587.29      1\n",
       "1  24528220.70  25083604.88  24303354.86  7581514.93      2\n",
       "2   5421809.72   5620316.49   5298005.47  1684307.82      3\n",
       "3  27930310.30  28454363.67  27796792.46  8589722.81      4\n",
       "4   4237380.83   4466363.69   4163790.99  1301302.62      5"
      ]
     },
     "execution_count": 38,
     "metadata": {},
     "output_type": "execute_result"
    }
   ],
   "source": [
    "q_2012_sales.head()"
   ]
  },
  {
   "cell_type": "code",
   "execution_count": 39,
   "id": "acd74de8",
   "metadata": {
    "execution": {
     "iopub.execute_input": "2021-08-20T20:19:50.901472Z",
     "iopub.status.busy": "2021-08-20T20:19:50.900489Z",
     "iopub.status.idle": "2021-08-20T20:19:50.910946Z",
     "shell.execute_reply": "2021-08-20T20:19:50.911448Z",
     "shell.execute_reply.started": "2021-08-20T18:03:55.665334Z"
    },
    "papermill": {
     "duration": 0.097274,
     "end_time": "2021-08-20T20:19:50.911640",
     "exception": false,
     "start_time": "2021-08-20T20:19:50.814366",
     "status": "completed"
    },
    "tags": []
   },
   "outputs": [],
   "source": [
    "store_df_q_2012 = pd.merge(store_df,q_2012_sales)"
   ]
  },
  {
   "cell_type": "code",
   "execution_count": 40,
   "id": "c2913245",
   "metadata": {
    "execution": {
     "iopub.execute_input": "2021-08-20T20:19:51.092601Z",
     "iopub.status.busy": "2021-08-20T20:19:51.091926Z",
     "iopub.status.idle": "2021-08-20T20:19:51.095565Z",
     "shell.execute_reply": "2021-08-20T20:19:51.094926Z",
     "shell.execute_reply.started": "2021-08-20T18:03:55.681745Z"
    },
    "papermill": {
     "duration": 0.101779,
     "end_time": "2021-08-20T20:19:51.095704",
     "exception": false,
     "start_time": "2021-08-20T20:19:50.993925",
     "status": "completed"
    },
    "tags": []
   },
   "outputs": [
    {
     "data": {
      "text/html": [
       "<div>\n",
       "<style scoped>\n",
       "    .dataframe tbody tr th:only-of-type {\n",
       "        vertical-align: middle;\n",
       "    }\n",
       "\n",
       "    .dataframe tbody tr th {\n",
       "        vertical-align: top;\n",
       "    }\n",
       "\n",
       "    .dataframe thead th {\n",
       "        text-align: right;\n",
       "    }\n",
       "</style>\n",
       "<table border=\"1\" class=\"dataframe\">\n",
       "  <thead>\n",
       "    <tr style=\"text-align: right;\">\n",
       "      <th></th>\n",
       "      <th>Store</th>\n",
       "      <th>Weekly_Sales_std</th>\n",
       "      <th>Weekly_Sales_mean</th>\n",
       "      <th>coeff_mean_to_std</th>\n",
       "      <th>Q1</th>\n",
       "      <th>Q2</th>\n",
       "      <th>Q3</th>\n",
       "      <th>Q4</th>\n",
       "    </tr>\n",
       "  </thead>\n",
       "  <tbody>\n",
       "    <tr>\n",
       "      <th>0</th>\n",
       "      <td>1</td>\n",
       "      <td>155980.77</td>\n",
       "      <td>1555264.40</td>\n",
       "      <td>9.97</td>\n",
       "      <td>20723762.83</td>\n",
       "      <td>20978760.12</td>\n",
       "      <td>20253947.78</td>\n",
       "      <td>6245587.29</td>\n",
       "    </tr>\n",
       "    <tr>\n",
       "      <th>1</th>\n",
       "      <td>2</td>\n",
       "      <td>237683.69</td>\n",
       "      <td>1925751.34</td>\n",
       "      <td>8.10</td>\n",
       "      <td>24528220.70</td>\n",
       "      <td>25083604.88</td>\n",
       "      <td>24303354.86</td>\n",
       "      <td>7581514.93</td>\n",
       "    </tr>\n",
       "    <tr>\n",
       "      <th>2</th>\n",
       "      <td>3</td>\n",
       "      <td>46319.63</td>\n",
       "      <td>402704.44</td>\n",
       "      <td>8.69</td>\n",
       "      <td>5421809.72</td>\n",
       "      <td>5620316.49</td>\n",
       "      <td>5298005.47</td>\n",
       "      <td>1684307.82</td>\n",
       "    </tr>\n",
       "    <tr>\n",
       "      <th>3</th>\n",
       "      <td>4</td>\n",
       "      <td>266201.44</td>\n",
       "      <td>2094712.96</td>\n",
       "      <td>7.87</td>\n",
       "      <td>27930310.30</td>\n",
       "      <td>28454363.67</td>\n",
       "      <td>27796792.46</td>\n",
       "      <td>8589722.81</td>\n",
       "    </tr>\n",
       "    <tr>\n",
       "      <th>4</th>\n",
       "      <td>5</td>\n",
       "      <td>37737.97</td>\n",
       "      <td>318011.81</td>\n",
       "      <td>8.43</td>\n",
       "      <td>4237380.83</td>\n",
       "      <td>4466363.69</td>\n",
       "      <td>4163790.99</td>\n",
       "      <td>1301302.62</td>\n",
       "    </tr>\n",
       "  </tbody>\n",
       "</table>\n",
       "</div>"
      ],
      "text/plain": [
       "   Store  Weekly_Sales_std  Weekly_Sales_mean  coeff_mean_to_std           Q1  \\\n",
       "0      1         155980.77         1555264.40               9.97  20723762.83   \n",
       "1      2         237683.69         1925751.34               8.10  24528220.70   \n",
       "2      3          46319.63          402704.44               8.69   5421809.72   \n",
       "3      4         266201.44         2094712.96               7.87  27930310.30   \n",
       "4      5          37737.97          318011.81               8.43   4237380.83   \n",
       "\n",
       "            Q2           Q3          Q4  \n",
       "0  20978760.12  20253947.78  6245587.29  \n",
       "1  25083604.88  24303354.86  7581514.93  \n",
       "2   5620316.49   5298005.47  1684307.82  \n",
       "3  28454363.67  27796792.46  8589722.81  \n",
       "4   4466363.69   4163790.99  1301302.62  "
      ]
     },
     "execution_count": 40,
     "metadata": {},
     "output_type": "execute_result"
    }
   ],
   "source": [
    "store_df_q_2012.head()\n"
   ]
  },
  {
   "cell_type": "code",
   "execution_count": 41,
   "id": "545d38d7",
   "metadata": {
    "execution": {
     "iopub.execute_input": "2021-08-20T20:19:51.270832Z",
     "iopub.status.busy": "2021-08-20T20:19:51.270151Z",
     "iopub.status.idle": "2021-08-20T20:19:51.273326Z",
     "shell.execute_reply": "2021-08-20T20:19:51.273837Z",
     "shell.execute_reply.started": "2021-08-20T18:03:55.707682Z"
    },
    "papermill": {
     "duration": 0.089376,
     "end_time": "2021-08-20T20:19:51.274005",
     "exception": false,
     "start_time": "2021-08-20T20:19:51.184629",
     "status": "completed"
    },
    "tags": []
   },
   "outputs": [],
   "source": [
    "#store_df_q_2012 = store_df_q_2012.drop(['index'],axis=1)"
   ]
  },
  {
   "cell_type": "code",
   "execution_count": 42,
   "id": "dcb2210f",
   "metadata": {
    "execution": {
     "iopub.execute_input": "2021-08-20T20:19:51.440783Z",
     "iopub.status.busy": "2021-08-20T20:19:51.440124Z",
     "iopub.status.idle": "2021-08-20T20:19:52.543705Z",
     "shell.execute_reply": "2021-08-20T20:19:52.543150Z",
     "shell.execute_reply.started": "2021-08-20T18:03:55.714343Z"
    },
    "papermill": {
     "duration": 1.187919,
     "end_time": "2021-08-20T20:19:52.543849",
     "exception": false,
     "start_time": "2021-08-20T20:19:51.355930",
     "status": "completed"
    },
    "tags": []
   },
   "outputs": [
    {
     "data": {
      "text/plain": [
       "<AxesSubplot:>"
      ]
     },
     "execution_count": 42,
     "metadata": {},
     "output_type": "execute_result"
    },
    {
     "data": {
      "image/png": "[encoded data removed]",
      "text/plain": [
       "<Figure size 2160x360 with 1 Axes>"
      ]
     },
     "metadata": {
      "needs_background": "light"
     },
     "output_type": "display_data"
    }
   ],
   "source": [
    "\n",
    "store_df_q_2012[['Q1','Q2','Q3','Q4']].plot(kind='bar',stacked=False,figsize=(30,5))  #shows the plot of \n",
    " "
   ]
  },
  {
   "cell_type": "code",
   "execution_count": 43,
   "id": "9f9cecab",
   "metadata": {
    "execution": {
     "iopub.execute_input": "2021-08-20T20:19:52.719403Z",
     "iopub.status.busy": "2021-08-20T20:19:52.718402Z",
     "iopub.status.idle": "2021-08-20T20:19:52.721130Z",
     "shell.execute_reply": "2021-08-20T20:19:52.720641Z",
     "shell.execute_reply.started": "2021-08-20T18:03:56.886753Z"
    },
    "papermill": {
     "duration": 0.093932,
     "end_time": "2021-08-20T20:19:52.721302",
     "exception": false,
     "start_time": "2021-08-20T20:19:52.627370",
     "status": "completed"
    },
    "tags": []
   },
   "outputs": [],
   "source": [
    "store_df_q_2012['Q3_growth_rate'] = (store_df_q_2012.Q3-store_df_q_2012.Q2)*100/store_df_q_2012.Q2"
   ]
  },
  {
   "cell_type": "code",
   "execution_count": 44,
   "id": "17574b2c",
   "metadata": {
    "execution": {
     "iopub.execute_input": "2021-08-20T20:19:52.894417Z",
     "iopub.status.busy": "2021-08-20T20:19:52.893642Z",
     "iopub.status.idle": "2021-08-20T20:19:52.896654Z",
     "shell.execute_reply": "2021-08-20T20:19:52.897168Z",
     "shell.execute_reply.started": "2021-08-20T18:03:56.895485Z"
    },
    "papermill": {
     "duration": 0.092429,
     "end_time": "2021-08-20T20:19:52.897359",
     "exception": false,
     "start_time": "2021-08-20T20:19:52.804930",
     "status": "completed"
    },
    "tags": []
   },
   "outputs": [
    {
     "data": {
      "text/plain": [
       "13.33077603073801"
      ]
     },
     "execution_count": 44,
     "metadata": {},
     "output_type": "execute_result"
    }
   ],
   "source": [
    "store_df_q_2012['Q3_growth_rate'].max()"
   ]
  },
  {
   "cell_type": "code",
   "execution_count": 45,
   "id": "a196b12b",
   "metadata": {
    "execution": {
     "iopub.execute_input": "2021-08-20T20:19:53.069600Z",
     "iopub.status.busy": "2021-08-20T20:19:53.068554Z",
     "iopub.status.idle": "2021-08-20T20:19:53.091104Z",
     "shell.execute_reply": "2021-08-20T20:19:53.091619Z",
     "shell.execute_reply.started": "2021-08-20T18:03:56.914923Z"
    },
    "papermill": {
     "duration": 0.110161,
     "end_time": "2021-08-20T20:19:53.091813",
     "exception": false,
     "start_time": "2021-08-20T20:19:52.981652",
     "status": "completed"
    },
    "tags": []
   },
   "outputs": [
    {
     "data": {
      "text/html": [
       "<div>\n",
       "<style scoped>\n",
       "    .dataframe tbody tr th:only-of-type {\n",
       "        vertical-align: middle;\n",
       "    }\n",
       "\n",
       "    .dataframe tbody tr th {\n",
       "        vertical-align: top;\n",
       "    }\n",
       "\n",
       "    .dataframe thead th {\n",
       "        text-align: right;\n",
       "    }\n",
       "</style>\n",
       "<table border=\"1\" class=\"dataframe\">\n",
       "  <thead>\n",
       "    <tr style=\"text-align: right;\">\n",
       "      <th></th>\n",
       "      <th>Store</th>\n",
       "      <th>Weekly_Sales_std</th>\n",
       "      <th>Weekly_Sales_mean</th>\n",
       "      <th>coeff_mean_to_std</th>\n",
       "      <th>Q1</th>\n",
       "      <th>Q2</th>\n",
       "      <th>Q3</th>\n",
       "      <th>Q4</th>\n",
       "      <th>Q3_growth_rate</th>\n",
       "    </tr>\n",
       "  </thead>\n",
       "  <tbody>\n",
       "    <tr>\n",
       "      <th>6</th>\n",
       "      <td>7</td>\n",
       "      <td>112585.47</td>\n",
       "      <td>570617.31</td>\n",
       "      <td>5.07</td>\n",
       "      <td>7792647.21</td>\n",
       "      <td>7290859.27</td>\n",
       "      <td>8262787.39</td>\n",
       "      <td>2021262.60</td>\n",
       "      <td>13.330776</td>\n",
       "    </tr>\n",
       "    <tr>\n",
       "      <th>15</th>\n",
       "      <td>16</td>\n",
       "      <td>85769.68</td>\n",
       "      <td>519247.73</td>\n",
       "      <td>6.05</td>\n",
       "      <td>6400479.72</td>\n",
       "      <td>6564335.98</td>\n",
       "      <td>7121541.64</td>\n",
       "      <td>2016067.98</td>\n",
       "      <td>8.488378</td>\n",
       "    </tr>\n",
       "    <tr>\n",
       "      <th>34</th>\n",
       "      <td>35</td>\n",
       "      <td>211243.46</td>\n",
       "      <td>919724.98</td>\n",
       "      <td>4.35</td>\n",
       "      <td>9642858.59</td>\n",
       "      <td>10838313.00</td>\n",
       "      <td>11322421.12</td>\n",
       "      <td>3434129.81</td>\n",
       "      <td>4.466637</td>\n",
       "    </tr>\n",
       "    <tr>\n",
       "      <th>25</th>\n",
       "      <td>26</td>\n",
       "      <td>110431.29</td>\n",
       "      <td>1002911.84</td>\n",
       "      <td>9.08</td>\n",
       "      <td>12071075.04</td>\n",
       "      <td>13155335.57</td>\n",
       "      <td>13675691.91</td>\n",
       "      <td>4074341.77</td>\n",
       "      <td>3.955478</td>\n",
       "    </tr>\n",
       "    <tr>\n",
       "      <th>38</th>\n",
       "      <td>39</td>\n",
       "      <td>217466.45</td>\n",
       "      <td>1450668.13</td>\n",
       "      <td>6.67</td>\n",
       "      <td>18740604.09</td>\n",
       "      <td>20214128.46</td>\n",
       "      <td>20715116.23</td>\n",
       "      <td>6215814.07</td>\n",
       "      <td>2.478404</td>\n",
       "    </tr>\n",
       "    <tr>\n",
       "      <th>40</th>\n",
       "      <td>41</td>\n",
       "      <td>187907.16</td>\n",
       "      <td>1268125.42</td>\n",
       "      <td>6.75</td>\n",
       "      <td>15681607.44</td>\n",
       "      <td>17659942.73</td>\n",
       "      <td>18093844.01</td>\n",
       "      <td>5452445.75</td>\n",
       "      <td>2.456980</td>\n",
       "    </tr>\n",
       "    <tr>\n",
       "      <th>43</th>\n",
       "      <td>44</td>\n",
       "      <td>24762.83</td>\n",
       "      <td>302748.87</td>\n",
       "      <td>12.23</td>\n",
       "      <td>4109696.37</td>\n",
       "      <td>4306405.78</td>\n",
       "      <td>4411251.16</td>\n",
       "      <td>1360020.41</td>\n",
       "      <td>2.434638</td>\n",
       "    </tr>\n",
       "    <tr>\n",
       "      <th>23</th>\n",
       "      <td>24</td>\n",
       "      <td>167745.68</td>\n",
       "      <td>1356755.39</td>\n",
       "      <td>8.09</td>\n",
       "      <td>16130180.70</td>\n",
       "      <td>17684218.91</td>\n",
       "      <td>17976377.72</td>\n",
       "      <td>5395618.84</td>\n",
       "      <td>1.652088</td>\n",
       "    </tr>\n",
       "    <tr>\n",
       "      <th>39</th>\n",
       "      <td>40</td>\n",
       "      <td>119002.11</td>\n",
       "      <td>964128.04</td>\n",
       "      <td>8.10</td>\n",
       "      <td>11680404.16</td>\n",
       "      <td>12727737.53</td>\n",
       "      <td>12873195.37</td>\n",
       "      <td>3891070.28</td>\n",
       "      <td>1.142841</td>\n",
       "    </tr>\n",
       "    <tr>\n",
       "      <th>22</th>\n",
       "      <td>23</td>\n",
       "      <td>249788.04</td>\n",
       "      <td>1389864.46</td>\n",
       "      <td>5.56</td>\n",
       "      <td>16049454.58</td>\n",
       "      <td>18488882.82</td>\n",
       "      <td>18641489.15</td>\n",
       "      <td>5588152.20</td>\n",
       "      <td>0.825395</td>\n",
       "    </tr>\n",
       "  </tbody>\n",
       "</table>\n",
       "</div>"
      ],
      "text/plain": [
       "    Store  Weekly_Sales_std  Weekly_Sales_mean  coeff_mean_to_std  \\\n",
       "6       7         112585.47          570617.31               5.07   \n",
       "15     16          85769.68          519247.73               6.05   \n",
       "34     35         211243.46          919724.98               4.35   \n",
       "25     26         110431.29         1002911.84               9.08   \n",
       "38     39         217466.45         1450668.13               6.67   \n",
       "40     41         187907.16         1268125.42               6.75   \n",
       "43     44          24762.83          302748.87              12.23   \n",
       "23     24         167745.68         1356755.39               8.09   \n",
       "39     40         119002.11          964128.04               8.10   \n",
       "22     23         249788.04         1389864.46               5.56   \n",
       "\n",
       "             Q1           Q2           Q3          Q4  Q3_growth_rate  \n",
       "6    7792647.21   7290859.27   8262787.39  2021262.60       13.330776  \n",
       "15   6400479.72   6564335.98   7121541.64  2016067.98        8.488378  \n",
       "34   9642858.59  10838313.00  11322421.12  3434129.81        4.466637  \n",
       "25  12071075.04  13155335.57  13675691.91  4074341.77        3.955478  \n",
       "38  18740604.09  20214128.46  20715116.23  6215814.07        2.478404  \n",
       "40  15681607.44  17659942.73  18093844.01  5452445.75        2.456980  \n",
       "43   4109696.37   4306405.78   4411251.16  1360020.41        2.434638  \n",
       "23  16130180.70  17684218.91  17976377.72  5395618.84        1.652088  \n",
       "39  11680404.16  12727737.53  12873195.37  3891070.28        1.142841  \n",
       "22  16049454.58  18488882.82  18641489.15  5588152.20        0.825395  "
      ]
     },
     "execution_count": 45,
     "metadata": {},
     "output_type": "execute_result"
    }
   ],
   "source": [
    "store_df_q_2012.sort_values('Q3_growth_rate',ascending=False).head(10)"
   ]
  },
  {
   "cell_type": "markdown",
   "id": "aeef0391",
   "metadata": {
    "papermill": {
     "duration": 0.0862,
     "end_time": "2021-08-20T20:19:53.262519",
     "exception": false,
     "start_time": "2021-08-20T20:19:53.176319",
     "status": "completed"
    },
    "tags": []
   },
   "source": [
    "### The above data clearly says that store 7 has the highest growth rate among all, and it is 13.330776\n"
   ]
  },
  {
   "cell_type": "code",
   "execution_count": 46,
   "id": "5ba17a8e",
   "metadata": {
    "execution": {
     "iopub.execute_input": "2021-08-20T20:19:53.440432Z",
     "iopub.status.busy": "2021-08-20T20:19:53.439681Z",
     "iopub.status.idle": "2021-08-20T20:19:53.442747Z",
     "shell.execute_reply": "2021-08-20T20:19:53.443200Z",
     "shell.execute_reply.started": "2021-08-20T18:03:56.945721Z"
    },
    "papermill": {
     "duration": 0.095595,
     "end_time": "2021-08-20T20:19:53.443421",
     "exception": false,
     "start_time": "2021-08-20T20:19:53.347826",
     "status": "completed"
    },
    "tags": []
   },
   "outputs": [],
   "source": [
    "walmart = walmart.drop(['index'],axis=1)"
   ]
  },
  {
   "cell_type": "code",
   "execution_count": 47,
   "id": "fd2a4daf",
   "metadata": {
    "execution": {
     "iopub.execute_input": "2021-08-20T20:19:53.632040Z",
     "iopub.status.busy": "2021-08-20T20:19:53.630978Z",
     "iopub.status.idle": "2021-08-20T20:19:53.635789Z",
     "shell.execute_reply": "2021-08-20T20:19:53.635113Z",
     "shell.execute_reply.started": "2021-08-20T18:03:56.956301Z"
    },
    "papermill": {
     "duration": 0.106885,
     "end_time": "2021-08-20T20:19:53.635959",
     "exception": false,
     "start_time": "2021-08-20T20:19:53.529074",
     "status": "completed"
    },
    "tags": []
   },
   "outputs": [
    {
     "data": {
      "text/html": [
       "<div>\n",
       "<style scoped>\n",
       "    .dataframe tbody tr th:only-of-type {\n",
       "        vertical-align: middle;\n",
       "    }\n",
       "\n",
       "    .dataframe tbody tr th {\n",
       "        vertical-align: top;\n",
       "    }\n",
       "\n",
       "    .dataframe thead th {\n",
       "        text-align: right;\n",
       "    }\n",
       "</style>\n",
       "<table border=\"1\" class=\"dataframe\">\n",
       "  <thead>\n",
       "    <tr style=\"text-align: right;\">\n",
       "      <th></th>\n",
       "      <th>Store</th>\n",
       "      <th>Date</th>\n",
       "      <th>Weekly_Sales</th>\n",
       "      <th>Holiday_Flag</th>\n",
       "      <th>Temperature</th>\n",
       "      <th>Fuel_Price</th>\n",
       "      <th>CPI</th>\n",
       "      <th>Unemployment</th>\n",
       "    </tr>\n",
       "  </thead>\n",
       "  <tbody>\n",
       "    <tr>\n",
       "      <th>0</th>\n",
       "      <td>1</td>\n",
       "      <td>2010-02-05</td>\n",
       "      <td>1643690.90</td>\n",
       "      <td>0</td>\n",
       "      <td>42.31</td>\n",
       "      <td>2.572</td>\n",
       "      <td>211.096358</td>\n",
       "      <td>8.106</td>\n",
       "    </tr>\n",
       "    <tr>\n",
       "      <th>1</th>\n",
       "      <td>1</td>\n",
       "      <td>2010-02-12</td>\n",
       "      <td>1641957.44</td>\n",
       "      <td>1</td>\n",
       "      <td>38.51</td>\n",
       "      <td>2.548</td>\n",
       "      <td>211.242170</td>\n",
       "      <td>8.106</td>\n",
       "    </tr>\n",
       "    <tr>\n",
       "      <th>2</th>\n",
       "      <td>1</td>\n",
       "      <td>2010-02-19</td>\n",
       "      <td>1611968.17</td>\n",
       "      <td>0</td>\n",
       "      <td>39.93</td>\n",
       "      <td>2.514</td>\n",
       "      <td>211.289143</td>\n",
       "      <td>8.106</td>\n",
       "    </tr>\n",
       "    <tr>\n",
       "      <th>3</th>\n",
       "      <td>1</td>\n",
       "      <td>2010-02-26</td>\n",
       "      <td>1409727.59</td>\n",
       "      <td>0</td>\n",
       "      <td>46.63</td>\n",
       "      <td>2.561</td>\n",
       "      <td>211.319643</td>\n",
       "      <td>8.106</td>\n",
       "    </tr>\n",
       "    <tr>\n",
       "      <th>4</th>\n",
       "      <td>1</td>\n",
       "      <td>2010-03-05</td>\n",
       "      <td>1554806.68</td>\n",
       "      <td>0</td>\n",
       "      <td>46.50</td>\n",
       "      <td>2.625</td>\n",
       "      <td>211.350143</td>\n",
       "      <td>8.106</td>\n",
       "    </tr>\n",
       "  </tbody>\n",
       "</table>\n",
       "</div>"
      ],
      "text/plain": [
       "   Store       Date  Weekly_Sales  Holiday_Flag  Temperature  Fuel_Price  \\\n",
       "0      1 2010-02-05    1643690.90             0        42.31       2.572   \n",
       "1      1 2010-02-12    1641957.44             1        38.51       2.548   \n",
       "2      1 2010-02-19    1611968.17             0        39.93       2.514   \n",
       "3      1 2010-02-26    1409727.59             0        46.63       2.561   \n",
       "4      1 2010-03-05    1554806.68             0        46.50       2.625   \n",
       "\n",
       "          CPI  Unemployment  \n",
       "0  211.096358         8.106  \n",
       "1  211.242170         8.106  \n",
       "2  211.289143         8.106  \n",
       "3  211.319643         8.106  \n",
       "4  211.350143         8.106  "
      ]
     },
     "execution_count": 47,
     "metadata": {},
     "output_type": "execute_result"
    }
   ],
   "source": [
    "walmart.head()"
   ]
  },
  {
   "cell_type": "code",
   "execution_count": 48,
   "id": "2d65e178",
   "metadata": {
    "execution": {
     "iopub.execute_input": "2021-08-20T20:19:53.816167Z",
     "iopub.status.busy": "2021-08-20T20:19:53.815494Z",
     "iopub.status.idle": "2021-08-20T20:19:53.819697Z",
     "shell.execute_reply": "2021-08-20T20:19:53.819102Z",
     "shell.execute_reply.started": "2021-08-20T18:03:56.981675Z"
    },
    "papermill": {
     "duration": 0.097511,
     "end_time": "2021-08-20T20:19:53.819856",
     "exception": false,
     "start_time": "2021-08-20T20:19:53.722345",
     "status": "completed"
    },
    "tags": []
   },
   "outputs": [
    {
     "data": {
      "text/plain": [
       "Store                    int64\n",
       "Date            datetime64[ns]\n",
       "Weekly_Sales           float64\n",
       "Holiday_Flag             int64\n",
       "Temperature            float64\n",
       "Fuel_Price             float64\n",
       "CPI                    float64\n",
       "Unemployment           float64\n",
       "dtype: object"
      ]
     },
     "execution_count": 48,
     "metadata": {},
     "output_type": "execute_result"
    }
   ],
   "source": [
    "walmart.dtypes"
   ]
  },
  {
   "cell_type": "code",
   "execution_count": 49,
   "id": "f0d7133a",
   "metadata": {
    "execution": {
     "iopub.execute_input": "2021-08-20T20:19:53.998516Z",
     "iopub.status.busy": "2021-08-20T20:19:53.997794Z",
     "iopub.status.idle": "2021-08-20T20:19:54.001441Z",
     "shell.execute_reply": "2021-08-20T20:19:54.002024Z",
     "shell.execute_reply.started": "2021-08-20T18:03:56.997213Z"
    },
    "papermill": {
     "duration": 0.093849,
     "end_time": "2021-08-20T20:19:54.002254",
     "exception": false,
     "start_time": "2021-08-20T20:19:53.908405",
     "status": "completed"
    },
    "tags": []
   },
   "outputs": [],
   "source": [
    "#walmart['Date'] = walmart['Date'].astype('str')"
   ]
  },
  {
   "cell_type": "code",
   "execution_count": 50,
   "id": "42431eea",
   "metadata": {
    "execution": {
     "iopub.execute_input": "2021-08-20T20:19:54.253993Z",
     "iopub.status.busy": "2021-08-20T20:19:54.253227Z",
     "iopub.status.idle": "2021-08-20T20:19:54.260780Z",
     "shell.execute_reply": "2021-08-20T20:19:54.261334Z",
     "shell.execute_reply.started": "2021-08-20T18:03:57.064405Z"
    },
    "papermill": {
     "duration": 0.172084,
     "end_time": "2021-08-20T20:19:54.261547",
     "exception": false,
     "start_time": "2021-08-20T20:19:54.089463",
     "status": "completed"
    },
    "tags": []
   },
   "outputs": [
    {
     "data": {
      "text/plain": [
       "Store                    int64\n",
       "Date            datetime64[ns]\n",
       "Weekly_Sales           float64\n",
       "Holiday_Flag             int64\n",
       "Temperature            float64\n",
       "Fuel_Price             float64\n",
       "CPI                    float64\n",
       "Unemployment           float64\n",
       "dtype: object"
      ]
     },
     "execution_count": 50,
     "metadata": {},
     "output_type": "execute_result"
    }
   ],
   "source": [
    "walmart.dtypes"
   ]
  },
  {
   "cell_type": "code",
   "execution_count": 51,
   "id": "4066c31c",
   "metadata": {
    "execution": {
     "iopub.execute_input": "2021-08-20T20:19:54.438627Z",
     "iopub.status.busy": "2021-08-20T20:19:54.437968Z",
     "iopub.status.idle": "2021-08-20T20:19:54.454368Z",
     "shell.execute_reply": "2021-08-20T20:19:54.453791Z",
     "shell.execute_reply.started": "2021-08-20T18:03:57.082691Z"
    },
    "papermill": {
     "duration": 0.104854,
     "end_time": "2021-08-20T20:19:54.454521",
     "exception": false,
     "start_time": "2021-08-20T20:19:54.349667",
     "status": "completed"
    },
    "tags": []
   },
   "outputs": [
    {
     "data": {
      "text/html": [
       "<div>\n",
       "<style scoped>\n",
       "    .dataframe tbody tr th:only-of-type {\n",
       "        vertical-align: middle;\n",
       "    }\n",
       "\n",
       "    .dataframe tbody tr th {\n",
       "        vertical-align: top;\n",
       "    }\n",
       "\n",
       "    .dataframe thead th {\n",
       "        text-align: right;\n",
       "    }\n",
       "</style>\n",
       "<table border=\"1\" class=\"dataframe\">\n",
       "  <thead>\n",
       "    <tr style=\"text-align: right;\">\n",
       "      <th></th>\n",
       "      <th>Store</th>\n",
       "      <th>Date</th>\n",
       "      <th>Weekly_Sales</th>\n",
       "      <th>Holiday_Flag</th>\n",
       "      <th>Temperature</th>\n",
       "      <th>Fuel_Price</th>\n",
       "      <th>CPI</th>\n",
       "      <th>Unemployment</th>\n",
       "    </tr>\n",
       "  </thead>\n",
       "  <tbody>\n",
       "    <tr>\n",
       "      <th>0</th>\n",
       "      <td>1</td>\n",
       "      <td>2010-02-05</td>\n",
       "      <td>1643690.90</td>\n",
       "      <td>0</td>\n",
       "      <td>42.31</td>\n",
       "      <td>2.572</td>\n",
       "      <td>211.096358</td>\n",
       "      <td>8.106</td>\n",
       "    </tr>\n",
       "    <tr>\n",
       "      <th>1</th>\n",
       "      <td>1</td>\n",
       "      <td>2010-02-12</td>\n",
       "      <td>1641957.44</td>\n",
       "      <td>1</td>\n",
       "      <td>38.51</td>\n",
       "      <td>2.548</td>\n",
       "      <td>211.242170</td>\n",
       "      <td>8.106</td>\n",
       "    </tr>\n",
       "    <tr>\n",
       "      <th>2</th>\n",
       "      <td>1</td>\n",
       "      <td>2010-02-19</td>\n",
       "      <td>1611968.17</td>\n",
       "      <td>0</td>\n",
       "      <td>39.93</td>\n",
       "      <td>2.514</td>\n",
       "      <td>211.289143</td>\n",
       "      <td>8.106</td>\n",
       "    </tr>\n",
       "    <tr>\n",
       "      <th>3</th>\n",
       "      <td>1</td>\n",
       "      <td>2010-02-26</td>\n",
       "      <td>1409727.59</td>\n",
       "      <td>0</td>\n",
       "      <td>46.63</td>\n",
       "      <td>2.561</td>\n",
       "      <td>211.319643</td>\n",
       "      <td>8.106</td>\n",
       "    </tr>\n",
       "    <tr>\n",
       "      <th>4</th>\n",
       "      <td>1</td>\n",
       "      <td>2010-03-05</td>\n",
       "      <td>1554806.68</td>\n",
       "      <td>0</td>\n",
       "      <td>46.50</td>\n",
       "      <td>2.625</td>\n",
       "      <td>211.350143</td>\n",
       "      <td>8.106</td>\n",
       "    </tr>\n",
       "  </tbody>\n",
       "</table>\n",
       "</div>"
      ],
      "text/plain": [
       "   Store       Date  Weekly_Sales  Holiday_Flag  Temperature  Fuel_Price  \\\n",
       "0      1 2010-02-05    1643690.90             0        42.31       2.572   \n",
       "1      1 2010-02-12    1641957.44             1        38.51       2.548   \n",
       "2      1 2010-02-19    1611968.17             0        39.93       2.514   \n",
       "3      1 2010-02-26    1409727.59             0        46.63       2.561   \n",
       "4      1 2010-03-05    1554806.68             0        46.50       2.625   \n",
       "\n",
       "          CPI  Unemployment  \n",
       "0  211.096358         8.106  \n",
       "1  211.242170         8.106  \n",
       "2  211.289143         8.106  \n",
       "3  211.319643         8.106  \n",
       "4  211.350143         8.106  "
      ]
     },
     "execution_count": 51,
     "metadata": {},
     "output_type": "execute_result"
    }
   ],
   "source": [
    "walmart.head()"
   ]
  },
  {
   "cell_type": "code",
   "execution_count": 52,
   "id": "2947d66c",
   "metadata": {
    "execution": {
     "iopub.execute_input": "2021-08-20T20:19:54.638958Z",
     "iopub.status.busy": "2021-08-20T20:19:54.633219Z",
     "iopub.status.idle": "2021-08-20T20:19:54.642013Z",
     "shell.execute_reply": "2021-08-20T20:19:54.642569Z",
     "shell.execute_reply.started": "2021-08-20T18:03:57.110395Z"
    },
    "papermill": {
     "duration": 0.101523,
     "end_time": "2021-08-20T20:19:54.642742",
     "exception": false,
     "start_time": "2021-08-20T20:19:54.541219",
     "status": "completed"
    },
    "tags": []
   },
   "outputs": [
    {
     "data": {
      "text/html": [
       "<div>\n",
       "<style scoped>\n",
       "    .dataframe tbody tr th:only-of-type {\n",
       "        vertical-align: middle;\n",
       "    }\n",
       "\n",
       "    .dataframe tbody tr th {\n",
       "        vertical-align: top;\n",
       "    }\n",
       "\n",
       "    .dataframe thead th {\n",
       "        text-align: right;\n",
       "    }\n",
       "</style>\n",
       "<table border=\"1\" class=\"dataframe\">\n",
       "  <thead>\n",
       "    <tr style=\"text-align: right;\">\n",
       "      <th></th>\n",
       "      <th>Store</th>\n",
       "      <th>Date</th>\n",
       "      <th>Weekly_Sales</th>\n",
       "      <th>Holiday_Flag</th>\n",
       "      <th>Temperature</th>\n",
       "      <th>Fuel_Price</th>\n",
       "      <th>CPI</th>\n",
       "      <th>Unemployment</th>\n",
       "    </tr>\n",
       "  </thead>\n",
       "  <tbody>\n",
       "  </tbody>\n",
       "</table>\n",
       "</div>"
      ],
      "text/plain": [
       "Empty DataFrame\n",
       "Columns: [Store, Date, Weekly_Sales, Holiday_Flag, Temperature, Fuel_Price, CPI, Unemployment]\n",
       "Index: []"
      ]
     },
     "execution_count": 52,
     "metadata": {},
     "output_type": "execute_result"
    }
   ],
   "source": [
    "walmart[walmart.Date=='2012-11-26']"
   ]
  },
  {
   "cell_type": "code",
   "execution_count": 53,
   "id": "b05b6e2a",
   "metadata": {
    "execution": {
     "iopub.execute_input": "2021-08-20T20:19:54.820026Z",
     "iopub.status.busy": "2021-08-20T20:19:54.819410Z",
     "iopub.status.idle": "2021-08-20T20:19:54.823281Z",
     "shell.execute_reply": "2021-08-20T20:19:54.823802Z",
     "shell.execute_reply.started": "2021-08-20T18:03:57.126835Z"
    },
    "papermill": {
     "duration": 0.094191,
     "end_time": "2021-08-20T20:19:54.823968",
     "exception": false,
     "start_time": "2021-08-20T20:19:54.729777",
     "status": "completed"
    },
    "tags": []
   },
   "outputs": [],
   "source": [
    "Super_Bowl=[]\n",
    "Labour_Day =[]\n",
    "Thank_Giving=[]\n",
    "Christmas=[]"
   ]
  },
  {
   "cell_type": "code",
   "execution_count": 54,
   "id": "2101cdab",
   "metadata": {
    "execution": {
     "iopub.execute_input": "2021-08-20T20:19:55.002715Z",
     "iopub.status.busy": "2021-08-20T20:19:55.002016Z",
     "iopub.status.idle": "2021-08-20T20:19:57.121942Z",
     "shell.execute_reply": "2021-08-20T20:19:57.122511Z",
     "shell.execute_reply.started": "2021-08-20T18:03:57.133531Z"
    },
    "papermill": {
     "duration": 2.21085,
     "end_time": "2021-08-20T20:19:57.122697",
     "exception": false,
     "start_time": "2021-08-20T20:19:54.911847",
     "status": "completed"
    },
    "tags": []
   },
   "outputs": [],
   "source": [
    "     for date in range(0,len(walmart['Date'])):\n",
    "        if  (walmart['Date'][date] == '2010-12-02'or walmart['Date'][date] =='2011-02-11' or walmart['Date'][date] == '2012-02-10' or walmart['Date'][date] == '2012-10-02' or walmart['Date'][date] == '2011-11-02' or walmart['Date'][date] == '2012-10-02' or walmart['Date'][date] == '2010-02-12'):            \n",
    "            Super_Bowl.append(1)\n",
    "            Labour_Day.append(0)\n",
    "            Thank_Giving.append(0)\n",
    "            Christmas.append(0)\n",
    "        elif (walmart['Date'][date] == '2010-09-10'or walmart['Date'][date] == '2011-09-09'or walmart['Date'][date] == '2012-09-07' or walmart['Date'][date] == '2012-07-09'or walmart['Date'][date] == '2010-10-09'):\n",
    "            Labour_Day.append(1)\n",
    "            Super_Bowl.append(0)\n",
    "            Thank_Giving.append(0)\n",
    "            Christmas.append(0)\n",
    "        elif ( walmart['Date'][date] == '2010-11-26'or  walmart['Date'][date] == '2011-11-25'or  walmart['Date'][date] == '2012-11-23'):\n",
    "            Super_Bowl.append(0)\n",
    "            Labour_Day.append(0)\n",
    "            Thank_Giving.append(1)\n",
    "            Christmas.append(0)\n",
    "        elif ( walmart['Date'][date] == '2010-12-31'or  walmart['Date'][date] == '2011-12-30'or  walmart['Date'][date] == '2012-12-28'):\n",
    "            Super_Bowl.append(0)\n",
    "            Labour_Day.append(0)\n",
    "            Thank_Giving.append(0)\n",
    "            Christmas.append(1)\n",
    "        else:\n",
    "            Super_Bowl.append(0)\n",
    "            Labour_Day.append(0)\n",
    "            Thank_Giving.append(0)\n",
    "            Christmas.append(0)"
   ]
  },
  {
   "cell_type": "markdown",
   "id": "05f08b15",
   "metadata": {
    "papermill": {
     "duration": 0.088712,
     "end_time": "2021-08-20T20:19:57.298142",
     "exception": false,
     "start_time": "2021-08-20T20:19:57.209430",
     "status": "completed"
    },
    "tags": []
   },
   "source": [
    "### In the above loop i have defined how to fill the data after checking the date"
   ]
  },
  {
   "cell_type": "code",
   "execution_count": 55,
   "id": "8a417796",
   "metadata": {
    "execution": {
     "iopub.execute_input": "2021-08-20T20:19:57.477536Z",
     "iopub.status.busy": "2021-08-20T20:19:57.476833Z",
     "iopub.status.idle": "2021-08-20T20:19:57.481840Z",
     "shell.execute_reply": "2021-08-20T20:19:57.482457Z",
     "shell.execute_reply.started": "2021-08-20T18:03:58.093786Z"
    },
    "papermill": {
     "duration": 0.096508,
     "end_time": "2021-08-20T20:19:57.482644",
     "exception": false,
     "start_time": "2021-08-20T20:19:57.386136",
     "status": "completed"
    },
    "tags": []
   },
   "outputs": [
    {
     "data": {
      "text/plain": [
       "0"
      ]
     },
     "execution_count": 55,
     "metadata": {},
     "output_type": "execute_result"
    }
   ],
   "source": [
    "sum(Christmas)"
   ]
  },
  {
   "cell_type": "code",
   "execution_count": 56,
   "id": "02c4e3fa",
   "metadata": {
    "execution": {
     "iopub.execute_input": "2021-08-20T20:19:57.661762Z",
     "iopub.status.busy": "2021-08-20T20:19:57.661017Z",
     "iopub.status.idle": "2021-08-20T20:19:57.667343Z",
     "shell.execute_reply": "2021-08-20T20:19:57.667888Z",
     "shell.execute_reply.started": "2021-08-20T18:03:58.101076Z"
    },
    "papermill": {
     "duration": 0.09766,
     "end_time": "2021-08-20T20:19:57.668082",
     "exception": false,
     "start_time": "2021-08-20T20:19:57.570422",
     "status": "completed"
    },
    "tags": []
   },
   "outputs": [
    {
     "data": {
      "text/plain": [
       "(0, 0, 0, 0)"
      ]
     },
     "execution_count": 56,
     "metadata": {},
     "output_type": "execute_result"
    }
   ],
   "source": [
    "\n",
    "sum(Thank_Giving),sum(Super_Bowl),sum(Labour_Day),sum(Christmas)"
   ]
  },
  {
   "cell_type": "code",
   "execution_count": 57,
   "id": "99eae90e",
   "metadata": {
    "execution": {
     "iopub.execute_input": "2021-08-20T20:19:57.848781Z",
     "iopub.status.busy": "2021-08-20T20:19:57.847959Z",
     "iopub.status.idle": "2021-08-20T20:19:57.866720Z",
     "shell.execute_reply": "2021-08-20T20:19:57.867302Z",
     "shell.execute_reply.started": "2021-08-20T18:03:58.114915Z"
    },
    "papermill": {
     "duration": 0.110401,
     "end_time": "2021-08-20T20:19:57.867509",
     "exception": false,
     "start_time": "2021-08-20T20:19:57.757108",
     "status": "completed"
    },
    "tags": []
   },
   "outputs": [],
   "source": [
    "walmart['Thanks_Giving'] = Thank_Giving\n",
    "walmart['Super_Bowl'] = Super_Bowl\n",
    "walmart['Labor_Day'] = Labour_Day\n",
    "walmart['Christmas'] = Christmas"
   ]
  },
  {
   "cell_type": "code",
   "execution_count": 58,
   "id": "17f72d9e",
   "metadata": {
    "execution": {
     "iopub.execute_input": "2021-08-20T20:19:58.051290Z",
     "iopub.status.busy": "2021-08-20T20:19:58.050575Z",
     "iopub.status.idle": "2021-08-20T20:19:58.056996Z",
     "shell.execute_reply": "2021-08-20T20:19:58.057569Z",
     "shell.execute_reply.started": "2021-08-20T18:03:58.138987Z"
    },
    "papermill": {
     "duration": 0.100373,
     "end_time": "2021-08-20T20:19:58.057769",
     "exception": false,
     "start_time": "2021-08-20T20:19:57.957396",
     "status": "completed"
    },
    "tags": []
   },
   "outputs": [],
   "source": [
    "walmart['Holiday'] = walmart.Thanks_Giving+walmart.Super_Bowl+walmart.Labor_Day+walmart.Christmas"
   ]
  },
  {
   "cell_type": "code",
   "execution_count": 59,
   "id": "589f0f8a",
   "metadata": {
    "execution": {
     "iopub.execute_input": "2021-08-20T20:19:58.242804Z",
     "iopub.status.busy": "2021-08-20T20:19:58.242089Z",
     "iopub.status.idle": "2021-08-20T20:19:58.268269Z",
     "shell.execute_reply": "2021-08-20T20:19:58.268762Z",
     "shell.execute_reply.started": "2021-08-20T18:03:58.156995Z"
    },
    "papermill": {
     "duration": 0.12193,
     "end_time": "2021-08-20T20:19:58.268963",
     "exception": false,
     "start_time": "2021-08-20T20:19:58.147033",
     "status": "completed"
    },
    "tags": []
   },
   "outputs": [
    {
     "data": {
      "text/html": [
       "<div>\n",
       "<style scoped>\n",
       "    .dataframe tbody tr th:only-of-type {\n",
       "        vertical-align: middle;\n",
       "    }\n",
       "\n",
       "    .dataframe tbody tr th {\n",
       "        vertical-align: top;\n",
       "    }\n",
       "\n",
       "    .dataframe thead th {\n",
       "        text-align: right;\n",
       "    }\n",
       "</style>\n",
       "<table border=\"1\" class=\"dataframe\">\n",
       "  <thead>\n",
       "    <tr style=\"text-align: right;\">\n",
       "      <th></th>\n",
       "      <th>Store</th>\n",
       "      <th>Date</th>\n",
       "      <th>Weekly_Sales</th>\n",
       "      <th>Holiday_Flag</th>\n",
       "      <th>Temperature</th>\n",
       "      <th>Fuel_Price</th>\n",
       "      <th>CPI</th>\n",
       "      <th>Unemployment</th>\n",
       "      <th>Thanks_Giving</th>\n",
       "      <th>Super_Bowl</th>\n",
       "      <th>Labor_Day</th>\n",
       "      <th>Christmas</th>\n",
       "      <th>Holiday</th>\n",
       "    </tr>\n",
       "  </thead>\n",
       "  <tbody>\n",
       "    <tr>\n",
       "      <th>1</th>\n",
       "      <td>1</td>\n",
       "      <td>2010-02-12</td>\n",
       "      <td>1641957.44</td>\n",
       "      <td>1</td>\n",
       "      <td>38.51</td>\n",
       "      <td>2.548</td>\n",
       "      <td>211.242170</td>\n",
       "      <td>8.106</td>\n",
       "      <td>0</td>\n",
       "      <td>0</td>\n",
       "      <td>0</td>\n",
       "      <td>0</td>\n",
       "      <td>0</td>\n",
       "    </tr>\n",
       "    <tr>\n",
       "      <th>31</th>\n",
       "      <td>1</td>\n",
       "      <td>2010-09-10</td>\n",
       "      <td>1507460.69</td>\n",
       "      <td>1</td>\n",
       "      <td>78.69</td>\n",
       "      <td>2.565</td>\n",
       "      <td>211.495190</td>\n",
       "      <td>7.787</td>\n",
       "      <td>0</td>\n",
       "      <td>0</td>\n",
       "      <td>0</td>\n",
       "      <td>0</td>\n",
       "      <td>0</td>\n",
       "    </tr>\n",
       "    <tr>\n",
       "      <th>42</th>\n",
       "      <td>1</td>\n",
       "      <td>2010-11-26</td>\n",
       "      <td>1955624.11</td>\n",
       "      <td>1</td>\n",
       "      <td>64.52</td>\n",
       "      <td>2.735</td>\n",
       "      <td>211.748433</td>\n",
       "      <td>7.838</td>\n",
       "      <td>0</td>\n",
       "      <td>0</td>\n",
       "      <td>0</td>\n",
       "      <td>0</td>\n",
       "      <td>0</td>\n",
       "    </tr>\n",
       "    <tr>\n",
       "      <th>47</th>\n",
       "      <td>1</td>\n",
       "      <td>2010-12-31</td>\n",
       "      <td>1367320.01</td>\n",
       "      <td>1</td>\n",
       "      <td>48.43</td>\n",
       "      <td>2.943</td>\n",
       "      <td>211.404932</td>\n",
       "      <td>7.838</td>\n",
       "      <td>0</td>\n",
       "      <td>0</td>\n",
       "      <td>0</td>\n",
       "      <td>0</td>\n",
       "      <td>0</td>\n",
       "    </tr>\n",
       "    <tr>\n",
       "      <th>53</th>\n",
       "      <td>1</td>\n",
       "      <td>2011-02-11</td>\n",
       "      <td>1649614.93</td>\n",
       "      <td>1</td>\n",
       "      <td>36.39</td>\n",
       "      <td>3.022</td>\n",
       "      <td>212.936705</td>\n",
       "      <td>7.742</td>\n",
       "      <td>0</td>\n",
       "      <td>0</td>\n",
       "      <td>0</td>\n",
       "      <td>0</td>\n",
       "      <td>0</td>\n",
       "    </tr>\n",
       "    <tr>\n",
       "      <th>...</th>\n",
       "      <td>...</td>\n",
       "      <td>...</td>\n",
       "      <td>...</td>\n",
       "      <td>...</td>\n",
       "      <td>...</td>\n",
       "      <td>...</td>\n",
       "      <td>...</td>\n",
       "      <td>...</td>\n",
       "      <td>...</td>\n",
       "      <td>...</td>\n",
       "      <td>...</td>\n",
       "      <td>...</td>\n",
       "      <td>...</td>\n",
       "    </tr>\n",
       "    <tr>\n",
       "      <th>6375</th>\n",
       "      <td>45</td>\n",
       "      <td>2011-09-09</td>\n",
       "      <td>746129.56</td>\n",
       "      <td>1</td>\n",
       "      <td>71.48</td>\n",
       "      <td>3.738</td>\n",
       "      <td>186.673738</td>\n",
       "      <td>8.625</td>\n",
       "      <td>0</td>\n",
       "      <td>0</td>\n",
       "      <td>0</td>\n",
       "      <td>0</td>\n",
       "      <td>0</td>\n",
       "    </tr>\n",
       "    <tr>\n",
       "      <th>6386</th>\n",
       "      <td>45</td>\n",
       "      <td>2011-11-25</td>\n",
       "      <td>1170672.94</td>\n",
       "      <td>1</td>\n",
       "      <td>48.71</td>\n",
       "      <td>3.492</td>\n",
       "      <td>188.350400</td>\n",
       "      <td>8.523</td>\n",
       "      <td>0</td>\n",
       "      <td>0</td>\n",
       "      <td>0</td>\n",
       "      <td>0</td>\n",
       "      <td>0</td>\n",
       "    </tr>\n",
       "    <tr>\n",
       "      <th>6391</th>\n",
       "      <td>45</td>\n",
       "      <td>2011-12-30</td>\n",
       "      <td>869403.63</td>\n",
       "      <td>1</td>\n",
       "      <td>37.79</td>\n",
       "      <td>3.389</td>\n",
       "      <td>189.062016</td>\n",
       "      <td>8.523</td>\n",
       "      <td>0</td>\n",
       "      <td>0</td>\n",
       "      <td>0</td>\n",
       "      <td>0</td>\n",
       "      <td>0</td>\n",
       "    </tr>\n",
       "    <tr>\n",
       "      <th>6397</th>\n",
       "      <td>45</td>\n",
       "      <td>2012-02-10</td>\n",
       "      <td>803657.12</td>\n",
       "      <td>1</td>\n",
       "      <td>37.00</td>\n",
       "      <td>3.640</td>\n",
       "      <td>189.707605</td>\n",
       "      <td>8.424</td>\n",
       "      <td>0</td>\n",
       "      <td>0</td>\n",
       "      <td>0</td>\n",
       "      <td>0</td>\n",
       "      <td>0</td>\n",
       "    </tr>\n",
       "    <tr>\n",
       "      <th>6427</th>\n",
       "      <td>45</td>\n",
       "      <td>2012-09-07</td>\n",
       "      <td>766512.66</td>\n",
       "      <td>1</td>\n",
       "      <td>75.70</td>\n",
       "      <td>3.911</td>\n",
       "      <td>191.577676</td>\n",
       "      <td>8.684</td>\n",
       "      <td>0</td>\n",
       "      <td>0</td>\n",
       "      <td>0</td>\n",
       "      <td>0</td>\n",
       "      <td>0</td>\n",
       "    </tr>\n",
       "  </tbody>\n",
       "</table>\n",
       "<p>450 rows × 13 columns</p>\n",
       "</div>"
      ],
      "text/plain": [
       "      Store       Date  Weekly_Sales  Holiday_Flag  Temperature  Fuel_Price  \\\n",
       "1         1 2010-02-12    1641957.44             1        38.51       2.548   \n",
       "31        1 2010-09-10    1507460.69             1        78.69       2.565   \n",
       "42        1 2010-11-26    1955624.11             1        64.52       2.735   \n",
       "47        1 2010-12-31    1367320.01             1        48.43       2.943   \n",
       "53        1 2011-02-11    1649614.93             1        36.39       3.022   \n",
       "...     ...        ...           ...           ...          ...         ...   \n",
       "6375     45 2011-09-09     746129.56             1        71.48       3.738   \n",
       "6386     45 2011-11-25    1170672.94             1        48.71       3.492   \n",
       "6391     45 2011-12-30     869403.63             1        37.79       3.389   \n",
       "6397     45 2012-02-10     803657.12             1        37.00       3.640   \n",
       "6427     45 2012-09-07     766512.66             1        75.70       3.911   \n",
       "\n",
       "             CPI  Unemployment  Thanks_Giving  Super_Bowl  Labor_Day  \\\n",
       "1     211.242170         8.106              0           0          0   \n",
       "31    211.495190         7.787              0           0          0   \n",
       "42    211.748433         7.838              0           0          0   \n",
       "47    211.404932         7.838              0           0          0   \n",
       "53    212.936705         7.742              0           0          0   \n",
       "...          ...           ...            ...         ...        ...   \n",
       "6375  186.673738         8.625              0           0          0   \n",
       "6386  188.350400         8.523              0           0          0   \n",
       "6391  189.062016         8.523              0           0          0   \n",
       "6397  189.707605         8.424              0           0          0   \n",
       "6427  191.577676         8.684              0           0          0   \n",
       "\n",
       "      Christmas  Holiday  \n",
       "1             0        0  \n",
       "31            0        0  \n",
       "42            0        0  \n",
       "47            0        0  \n",
       "53            0        0  \n",
       "...         ...      ...  \n",
       "6375          0        0  \n",
       "6386          0        0  \n",
       "6391          0        0  \n",
       "6397          0        0  \n",
       "6427          0        0  \n",
       "\n",
       "[450 rows x 13 columns]"
      ]
     },
     "execution_count": 59,
     "metadata": {},
     "output_type": "execute_result"
    }
   ],
   "source": [
    "walmart[(walmart.Holiday==0)&(walmart.Holiday_Flag==1)]"
   ]
  },
  {
   "cell_type": "code",
   "execution_count": 60,
   "id": "7c5e5dd9",
   "metadata": {
    "execution": {
     "iopub.execute_input": "2021-08-20T20:19:58.484976Z",
     "iopub.status.busy": "2021-08-20T20:19:58.484294Z",
     "iopub.status.idle": "2021-08-20T20:19:58.508185Z",
     "shell.execute_reply": "2021-08-20T20:19:58.508849Z",
     "shell.execute_reply.started": "2021-08-20T18:03:58.176000Z"
    },
    "papermill": {
     "duration": 0.148183,
     "end_time": "2021-08-20T20:19:58.509054",
     "exception": false,
     "start_time": "2021-08-20T20:19:58.360871",
     "status": "completed"
    },
    "tags": []
   },
   "outputs": [
    {
     "data": {
      "text/html": [
       "<div>\n",
       "<style scoped>\n",
       "    .dataframe tbody tr th:only-of-type {\n",
       "        vertical-align: middle;\n",
       "    }\n",
       "\n",
       "    .dataframe tbody tr th {\n",
       "        vertical-align: top;\n",
       "    }\n",
       "\n",
       "    .dataframe thead th {\n",
       "        text-align: right;\n",
       "    }\n",
       "</style>\n",
       "<table border=\"1\" class=\"dataframe\">\n",
       "  <thead>\n",
       "    <tr style=\"text-align: right;\">\n",
       "      <th></th>\n",
       "      <th>Store</th>\n",
       "      <th>Date</th>\n",
       "      <th>Weekly_Sales</th>\n",
       "      <th>Holiday_Flag</th>\n",
       "      <th>Temperature</th>\n",
       "      <th>Fuel_Price</th>\n",
       "      <th>CPI</th>\n",
       "      <th>Unemployment</th>\n",
       "      <th>Thanks_Giving</th>\n",
       "      <th>Super_Bowl</th>\n",
       "      <th>Labor_Day</th>\n",
       "      <th>Christmas</th>\n",
       "      <th>Holiday</th>\n",
       "    </tr>\n",
       "  </thead>\n",
       "  <tbody>\n",
       "    <tr>\n",
       "      <th>0</th>\n",
       "      <td>1</td>\n",
       "      <td>2010-02-05</td>\n",
       "      <td>1643690.90</td>\n",
       "      <td>0</td>\n",
       "      <td>42.31</td>\n",
       "      <td>2.572</td>\n",
       "      <td>211.096358</td>\n",
       "      <td>8.106</td>\n",
       "      <td>0</td>\n",
       "      <td>0</td>\n",
       "      <td>0</td>\n",
       "      <td>0</td>\n",
       "      <td>0</td>\n",
       "    </tr>\n",
       "    <tr>\n",
       "      <th>1</th>\n",
       "      <td>1</td>\n",
       "      <td>2010-02-12</td>\n",
       "      <td>1641957.44</td>\n",
       "      <td>1</td>\n",
       "      <td>38.51</td>\n",
       "      <td>2.548</td>\n",
       "      <td>211.242170</td>\n",
       "      <td>8.106</td>\n",
       "      <td>0</td>\n",
       "      <td>0</td>\n",
       "      <td>0</td>\n",
       "      <td>0</td>\n",
       "      <td>0</td>\n",
       "    </tr>\n",
       "    <tr>\n",
       "      <th>2</th>\n",
       "      <td>1</td>\n",
       "      <td>2010-02-19</td>\n",
       "      <td>1611968.17</td>\n",
       "      <td>0</td>\n",
       "      <td>39.93</td>\n",
       "      <td>2.514</td>\n",
       "      <td>211.289143</td>\n",
       "      <td>8.106</td>\n",
       "      <td>0</td>\n",
       "      <td>0</td>\n",
       "      <td>0</td>\n",
       "      <td>0</td>\n",
       "      <td>0</td>\n",
       "    </tr>\n",
       "    <tr>\n",
       "      <th>3</th>\n",
       "      <td>1</td>\n",
       "      <td>2010-02-26</td>\n",
       "      <td>1409727.59</td>\n",
       "      <td>0</td>\n",
       "      <td>46.63</td>\n",
       "      <td>2.561</td>\n",
       "      <td>211.319643</td>\n",
       "      <td>8.106</td>\n",
       "      <td>0</td>\n",
       "      <td>0</td>\n",
       "      <td>0</td>\n",
       "      <td>0</td>\n",
       "      <td>0</td>\n",
       "    </tr>\n",
       "    <tr>\n",
       "      <th>4</th>\n",
       "      <td>1</td>\n",
       "      <td>2010-03-05</td>\n",
       "      <td>1554806.68</td>\n",
       "      <td>0</td>\n",
       "      <td>46.50</td>\n",
       "      <td>2.625</td>\n",
       "      <td>211.350143</td>\n",
       "      <td>8.106</td>\n",
       "      <td>0</td>\n",
       "      <td>0</td>\n",
       "      <td>0</td>\n",
       "      <td>0</td>\n",
       "      <td>0</td>\n",
       "    </tr>\n",
       "  </tbody>\n",
       "</table>\n",
       "</div>"
      ],
      "text/plain": [
       "   Store       Date  Weekly_Sales  Holiday_Flag  Temperature  Fuel_Price  \\\n",
       "0      1 2010-02-05    1643690.90             0        42.31       2.572   \n",
       "1      1 2010-02-12    1641957.44             1        38.51       2.548   \n",
       "2      1 2010-02-19    1611968.17             0        39.93       2.514   \n",
       "3      1 2010-02-26    1409727.59             0        46.63       2.561   \n",
       "4      1 2010-03-05    1554806.68             0        46.50       2.625   \n",
       "\n",
       "          CPI  Unemployment  Thanks_Giving  Super_Bowl  Labor_Day  Christmas  \\\n",
       "0  211.096358         8.106              0           0          0          0   \n",
       "1  211.242170         8.106              0           0          0          0   \n",
       "2  211.289143         8.106              0           0          0          0   \n",
       "3  211.319643         8.106              0           0          0          0   \n",
       "4  211.350143         8.106              0           0          0          0   \n",
       "\n",
       "   Holiday  \n",
       "0        0  \n",
       "1        0  \n",
       "2        0  \n",
       "3        0  \n",
       "4        0  "
      ]
     },
     "execution_count": 60,
     "metadata": {},
     "output_type": "execute_result"
    }
   ],
   "source": [
    "walmart.head()"
   ]
  },
  {
   "cell_type": "code",
   "execution_count": 61,
   "id": "55c9b824",
   "metadata": {
    "execution": {
     "iopub.execute_input": "2021-08-20T20:19:58.712790Z",
     "iopub.status.busy": "2021-08-20T20:19:58.711834Z",
     "iopub.status.idle": "2021-08-20T20:19:58.726203Z",
     "shell.execute_reply": "2021-08-20T20:19:58.726820Z",
     "shell.execute_reply.started": "2021-08-20T18:03:58.206598Z"
    },
    "papermill": {
     "duration": 0.122942,
     "end_time": "2021-08-20T20:19:58.727006",
     "exception": false,
     "start_time": "2021-08-20T20:19:58.604064",
     "status": "completed"
    },
    "tags": []
   },
   "outputs": [],
   "source": [
    "walmart_gist = round(walmart.groupby(['Holiday']).mean(),2)"
   ]
  },
  {
   "cell_type": "markdown",
   "id": "5e90dace",
   "metadata": {
    "papermill": {
     "duration": 0.089734,
     "end_time": "2021-08-20T20:19:58.906929",
     "exception": false,
     "start_time": "2021-08-20T20:19:58.817195",
     "status": "completed"
    },
    "tags": []
   },
   "source": [
    "## In the above code we can "
   ]
  },
  {
   "cell_type": "code",
   "execution_count": 62,
   "id": "e5eb7160",
   "metadata": {
    "execution": {
     "iopub.execute_input": "2021-08-20T20:19:59.089587Z",
     "iopub.status.busy": "2021-08-20T20:19:59.088872Z",
     "iopub.status.idle": "2021-08-20T20:19:59.108624Z",
     "shell.execute_reply": "2021-08-20T20:19:59.109150Z",
     "shell.execute_reply.started": "2021-08-20T18:03:58.226326Z"
    },
    "papermill": {
     "duration": 0.112835,
     "end_time": "2021-08-20T20:19:59.109338",
     "exception": false,
     "start_time": "2021-08-20T20:19:58.996503",
     "status": "completed"
    },
    "tags": []
   },
   "outputs": [
    {
     "data": {
      "text/html": [
       "<div>\n",
       "<style scoped>\n",
       "    .dataframe tbody tr th:only-of-type {\n",
       "        vertical-align: middle;\n",
       "    }\n",
       "\n",
       "    .dataframe tbody tr th {\n",
       "        vertical-align: top;\n",
       "    }\n",
       "\n",
       "    .dataframe thead th {\n",
       "        text-align: right;\n",
       "    }\n",
       "</style>\n",
       "<table border=\"1\" class=\"dataframe\">\n",
       "  <thead>\n",
       "    <tr style=\"text-align: right;\">\n",
       "      <th></th>\n",
       "      <th>Store</th>\n",
       "      <th>Weekly_Sales</th>\n",
       "      <th>Holiday_Flag</th>\n",
       "      <th>Temperature</th>\n",
       "      <th>Fuel_Price</th>\n",
       "      <th>CPI</th>\n",
       "      <th>Unemployment</th>\n",
       "      <th>Thanks_Giving</th>\n",
       "      <th>Super_Bowl</th>\n",
       "      <th>Labor_Day</th>\n",
       "      <th>Christmas</th>\n",
       "    </tr>\n",
       "    <tr>\n",
       "      <th>Holiday</th>\n",
       "      <th></th>\n",
       "      <th></th>\n",
       "      <th></th>\n",
       "      <th></th>\n",
       "      <th></th>\n",
       "      <th></th>\n",
       "      <th></th>\n",
       "      <th></th>\n",
       "      <th></th>\n",
       "      <th></th>\n",
       "      <th></th>\n",
       "    </tr>\n",
       "  </thead>\n",
       "  <tbody>\n",
       "    <tr>\n",
       "      <th>0</th>\n",
       "      <td>23.0</td>\n",
       "      <td>1046964.88</td>\n",
       "      <td>0.07</td>\n",
       "      <td>60.66</td>\n",
       "      <td>3.36</td>\n",
       "      <td>171.58</td>\n",
       "      <td>8.0</td>\n",
       "      <td>0.0</td>\n",
       "      <td>0.0</td>\n",
       "      <td>0.0</td>\n",
       "      <td>0.0</td>\n",
       "    </tr>\n",
       "  </tbody>\n",
       "</table>\n",
       "</div>"
      ],
      "text/plain": [
       "         Store  Weekly_Sales  Holiday_Flag  Temperature  Fuel_Price     CPI  \\\n",
       "Holiday                                                                       \n",
       "0         23.0    1046964.88          0.07        60.66        3.36  171.58   \n",
       "\n",
       "         Unemployment  Thanks_Giving  Super_Bowl  Labor_Day  Christmas  \n",
       "Holiday                                                                 \n",
       "0                 8.0            0.0         0.0        0.0        0.0  "
      ]
     },
     "execution_count": 62,
     "metadata": {},
     "output_type": "execute_result"
    }
   ],
   "source": [
    "walmart_gist"
   ]
  },
  {
   "cell_type": "code",
   "execution_count": 63,
   "id": "b79f82bd",
   "metadata": {
    "execution": {
     "iopub.execute_input": "2021-08-20T20:19:59.304805Z",
     "iopub.status.busy": "2021-08-20T20:19:59.304151Z",
     "iopub.status.idle": "2021-08-20T20:19:59.424663Z",
     "shell.execute_reply": "2021-08-20T20:19:59.425460Z",
     "shell.execute_reply.started": "2021-08-20T18:04:16.295465Z"
    },
    "papermill": {
     "duration": 0.218988,
     "end_time": "2021-08-20T20:19:59.425657",
     "exception": false,
     "start_time": "2021-08-20T20:19:59.206669",
     "status": "completed"
    },
    "tags": []
   },
   "outputs": [
    {
     "data": {
      "text/plain": [
       "<AxesSubplot:xlabel='Holiday_Flag', ylabel='Weekly_Sales'>"
      ]
     },
     "execution_count": 63,
     "metadata": {},
     "output_type": "execute_result"
    },
    {
     "data": {
      "image/png": "[encoded data removed]",
      "text/plain": [
       "<Figure size 432x288 with 1 Axes>"
      ]
     },
     "metadata": {
      "needs_background": "light"
     },
     "output_type": "display_data"
    }
   ],
   "source": [
    "sns.barplot(data=walmart_gist,x='Holiday_Flag',y='Weekly_Sales')"
   ]
  },
  {
   "cell_type": "markdown",
   "id": "49025434",
   "metadata": {
    "papermill": {
     "duration": 0.091047,
     "end_time": "2021-08-20T20:19:59.608558",
     "exception": false,
     "start_time": "2021-08-20T20:19:59.517511",
     "status": "completed"
    },
    "tags": []
   },
   "source": []
  },
  {
   "cell_type": "code",
   "execution_count": 64,
   "id": "4089de45",
   "metadata": {
    "execution": {
     "iopub.execute_input": "2021-08-20T20:19:59.797084Z",
     "iopub.status.busy": "2021-08-20T20:19:59.796254Z",
     "iopub.status.idle": "2021-08-20T20:19:59.800534Z",
     "shell.execute_reply": "2021-08-20T20:19:59.799801Z",
     "shell.execute_reply.started": "2021-08-20T18:05:07.083540Z"
    },
    "papermill": {
     "duration": 0.100291,
     "end_time": "2021-08-20T20:19:59.800686",
     "exception": false,
     "start_time": "2021-08-20T20:19:59.700395",
     "status": "completed"
    },
    "tags": []
   },
   "outputs": [],
   "source": [
    "#clearly we can see that the mean sales in holidays is more than than of mean sales in non holidays"
   ]
  },
  {
   "cell_type": "code",
   "execution_count": 65,
   "id": "b6430a08",
   "metadata": {
    "execution": {
     "iopub.execute_input": "2021-08-20T20:20:00.001729Z",
     "iopub.status.busy": "2021-08-20T20:20:00.000957Z",
     "iopub.status.idle": "2021-08-20T20:20:00.004283Z",
     "shell.execute_reply": "2021-08-20T20:20:00.003732Z",
     "shell.execute_reply.started": "2021-08-20T18:09:57.500989Z"
    },
    "papermill": {
     "duration": 0.109295,
     "end_time": "2021-08-20T20:20:00.004428",
     "exception": false,
     "start_time": "2021-08-20T20:19:59.895133",
     "status": "completed"
    },
    "tags": []
   },
   "outputs": [],
   "source": [
    "mean_Thanks_giving = round(np.mean(walmart[walmart.Thanks_Giving==1]['Weekly_Sales']),2)\n",
    "mean_Super_Bowl = round(np.mean(walmart[walmart.Super_Bowl==1]['Weekly_Sales']),2)\n",
    "mean_Labor_Day = round(np.mean(walmart[walmart.Labor_Day==1]['Weekly_Sales']),2)\n",
    "mean_Christmas = round(np.mean(walmart[walmart.Christmas==1]['Weekly_Sales']),2)"
   ]
  },
  {
   "cell_type": "code",
   "execution_count": 66,
   "id": "d2ed60f5",
   "metadata": {
    "execution": {
     "iopub.execute_input": "2021-08-20T20:20:00.189416Z",
     "iopub.status.busy": "2021-08-20T20:20:00.188680Z",
     "iopub.status.idle": "2021-08-20T20:20:00.194389Z",
     "shell.execute_reply": "2021-08-20T20:20:00.194947Z",
     "shell.execute_reply.started": "2021-08-20T18:13:06.974432Z"
    },
    "papermill": {
     "duration": 0.099633,
     "end_time": "2021-08-20T20:20:00.195119",
     "exception": false,
     "start_time": "2021-08-20T20:20:00.095486",
     "status": "completed"
    },
    "tags": []
   },
   "outputs": [
    {
     "data": {
      "text/plain": [
       "(nan, nan, nan, nan)"
      ]
     },
     "execution_count": 66,
     "metadata": {},
     "output_type": "execute_result"
    }
   ],
   "source": [
    "mean_Thanks_giving,mean_Super_Bowl,mean_Labor_Day,mean_Christmas  #mean sales in the holidays"
   ]
  },
  {
   "cell_type": "code",
   "execution_count": 67,
   "id": "4869a721",
   "metadata": {
    "execution": {
     "iopub.execute_input": "2021-08-20T20:20:00.379254Z",
     "iopub.status.busy": "2021-08-20T20:20:00.378646Z",
     "iopub.status.idle": "2021-08-20T20:20:00.395955Z",
     "shell.execute_reply": "2021-08-20T20:20:00.396482Z",
     "shell.execute_reply.started": "2021-08-20T18:18:22.701245Z"
    },
    "papermill": {
     "duration": 0.110253,
     "end_time": "2021-08-20T20:20:00.396677",
     "exception": false,
     "start_time": "2021-08-20T20:20:00.286424",
     "status": "completed"
    },
    "tags": []
   },
   "outputs": [
    {
     "data": {
      "text/html": [
       "<div>\n",
       "<style scoped>\n",
       "    .dataframe tbody tr th:only-of-type {\n",
       "        vertical-align: middle;\n",
       "    }\n",
       "\n",
       "    .dataframe tbody tr th {\n",
       "        vertical-align: top;\n",
       "    }\n",
       "\n",
       "    .dataframe thead th {\n",
       "        text-align: right;\n",
       "    }\n",
       "</style>\n",
       "<table border=\"1\" class=\"dataframe\">\n",
       "  <thead>\n",
       "    <tr style=\"text-align: right;\">\n",
       "      <th></th>\n",
       "      <th>Store</th>\n",
       "      <th>Weekly_Sales</th>\n",
       "      <th>Holiday_Flag</th>\n",
       "      <th>Temperature</th>\n",
       "      <th>Fuel_Price</th>\n",
       "      <th>CPI</th>\n",
       "      <th>Unemployment</th>\n",
       "      <th>Thanks_Giving</th>\n",
       "      <th>Super_Bowl</th>\n",
       "      <th>Labor_Day</th>\n",
       "      <th>Christmas</th>\n",
       "    </tr>\n",
       "    <tr>\n",
       "      <th>Holiday</th>\n",
       "      <th></th>\n",
       "      <th></th>\n",
       "      <th></th>\n",
       "      <th></th>\n",
       "      <th></th>\n",
       "      <th></th>\n",
       "      <th></th>\n",
       "      <th></th>\n",
       "      <th></th>\n",
       "      <th></th>\n",
       "      <th></th>\n",
       "    </tr>\n",
       "  </thead>\n",
       "  <tbody>\n",
       "    <tr>\n",
       "      <th>0</th>\n",
       "      <td>23.0</td>\n",
       "      <td>1046964.88</td>\n",
       "      <td>0.07</td>\n",
       "      <td>60.66</td>\n",
       "      <td>3.36</td>\n",
       "      <td>171.58</td>\n",
       "      <td>8.0</td>\n",
       "      <td>0.0</td>\n",
       "      <td>0.0</td>\n",
       "      <td>0.0</td>\n",
       "      <td>0.0</td>\n",
       "    </tr>\n",
       "  </tbody>\n",
       "</table>\n",
       "</div>"
      ],
      "text/plain": [
       "         Store  Weekly_Sales  Holiday_Flag  Temperature  Fuel_Price     CPI  \\\n",
       "Holiday                                                                       \n",
       "0         23.0    1046964.88          0.07        60.66        3.36  171.58   \n",
       "\n",
       "         Unemployment  Thanks_Giving  Super_Bowl  Labor_Day  Christmas  \n",
       "Holiday                                                                 \n",
       "0                 8.0            0.0         0.0        0.0        0.0  "
      ]
     },
     "execution_count": 67,
     "metadata": {},
     "output_type": "execute_result"
    }
   ],
   "source": [
    "walmart_gist"
   ]
  },
  {
   "cell_type": "code",
   "execution_count": 68,
   "id": "7d057e92",
   "metadata": {
    "execution": {
     "iopub.execute_input": "2021-08-20T20:20:00.584524Z",
     "iopub.status.busy": "2021-08-20T20:20:00.583763Z",
     "iopub.status.idle": "2021-08-20T20:20:00.587128Z",
     "shell.execute_reply": "2021-08-20T20:20:00.587692Z",
     "shell.execute_reply.started": "2021-08-20T18:21:37.218439Z"
    },
    "papermill": {
     "duration": 0.099995,
     "end_time": "2021-08-20T20:20:00.587872",
     "exception": false,
     "start_time": "2021-08-20T20:20:00.487877",
     "status": "completed"
    },
    "tags": []
   },
   "outputs": [],
   "source": [
    "#we can see that mean weekly sales for Thanks Giving,Super Bowl and Labor Day are greater than the non holidays weekly sales"
   ]
  },
  {
   "cell_type": "code",
   "execution_count": 69,
   "id": "367b1126",
   "metadata": {
    "execution": {
     "iopub.execute_input": "2021-08-20T20:20:00.778415Z",
     "iopub.status.busy": "2021-08-20T20:20:00.777661Z",
     "iopub.status.idle": "2021-08-20T20:20:00.793084Z",
     "shell.execute_reply": "2021-08-20T20:20:00.793792Z",
     "shell.execute_reply.started": "2021-08-20T18:35:02.271685Z"
    },
    "papermill": {
     "duration": 0.111877,
     "end_time": "2021-08-20T20:20:00.794055",
     "exception": false,
     "start_time": "2021-08-20T20:20:00.682178",
     "status": "completed"
    },
    "tags": []
   },
   "outputs": [
    {
     "name": "stdout",
     "output_type": "stream",
     "text": [
      "<class 'pandas.core.frame.DataFrame'>\n",
      "RangeIndex: 6435 entries, 0 to 6434\n",
      "Data columns (total 13 columns):\n",
      " #   Column         Non-Null Count  Dtype         \n",
      "---  ------         --------------  -----         \n",
      " 0   Store          6435 non-null   int64         \n",
      " 1   Date           6435 non-null   datetime64[ns]\n",
      " 2   Weekly_Sales   6435 non-null   float64       \n",
      " 3   Holiday_Flag   6435 non-null   int64         \n",
      " 4   Temperature    6435 non-null   float64       \n",
      " 5   Fuel_Price     6435 non-null   float64       \n",
      " 6   CPI            6435 non-null   float64       \n",
      " 7   Unemployment   6435 non-null   float64       \n",
      " 8   Thanks_Giving  6435 non-null   int64         \n",
      " 9   Super_Bowl     6435 non-null   int64         \n",
      " 10  Labor_Day      6435 non-null   int64         \n",
      " 11  Christmas      6435 non-null   int64         \n",
      " 12  Holiday        6435 non-null   int64         \n",
      "dtypes: datetime64[ns](1), float64(5), int64(7)\n",
      "memory usage: 653.7 KB\n"
     ]
    }
   ],
   "source": [
    "walmart.info()"
   ]
  },
  {
   "cell_type": "code",
   "execution_count": 70,
   "id": "1e145d56",
   "metadata": {
    "execution": {
     "iopub.execute_input": "2021-08-20T20:20:00.990633Z",
     "iopub.status.busy": "2021-08-20T20:20:00.989876Z",
     "iopub.status.idle": "2021-08-20T20:20:00.996288Z",
     "shell.execute_reply": "2021-08-20T20:20:00.995634Z",
     "shell.execute_reply.started": "2021-08-20T18:39:41.815673Z"
    },
    "papermill": {
     "duration": 0.106924,
     "end_time": "2021-08-20T20:20:00.996441",
     "exception": false,
     "start_time": "2021-08-20T20:20:00.889517",
     "status": "completed"
    },
    "tags": []
   },
   "outputs": [],
   "source": [
    "walmart['Month']  = pd.DatetimeIndex(walmart['Date']).month\n",
    "walmart['Year']  =  pd.DatetimeIndex(walmart['Date']).year         #separating year and month for our convenience"
   ]
  },
  {
   "cell_type": "code",
   "execution_count": 71,
   "id": "c1c8ce06",
   "metadata": {
    "execution": {
     "iopub.execute_input": "2021-08-20T20:20:01.206182Z",
     "iopub.status.busy": "2021-08-20T20:20:01.198428Z",
     "iopub.status.idle": "2021-08-20T20:20:01.210315Z",
     "shell.execute_reply": "2021-08-20T20:20:01.210767Z",
     "shell.execute_reply.started": "2021-08-20T18:39:43.035759Z"
    },
    "papermill": {
     "duration": 0.119067,
     "end_time": "2021-08-20T20:20:01.210942",
     "exception": false,
     "start_time": "2021-08-20T20:20:01.091875",
     "status": "completed"
    },
    "tags": []
   },
   "outputs": [
    {
     "data": {
      "text/html": [
       "<div>\n",
       "<style scoped>\n",
       "    .dataframe tbody tr th:only-of-type {\n",
       "        vertical-align: middle;\n",
       "    }\n",
       "\n",
       "    .dataframe tbody tr th {\n",
       "        vertical-align: top;\n",
       "    }\n",
       "\n",
       "    .dataframe thead th {\n",
       "        text-align: right;\n",
       "    }\n",
       "</style>\n",
       "<table border=\"1\" class=\"dataframe\">\n",
       "  <thead>\n",
       "    <tr style=\"text-align: right;\">\n",
       "      <th></th>\n",
       "      <th>Store</th>\n",
       "      <th>Date</th>\n",
       "      <th>Weekly_Sales</th>\n",
       "      <th>Holiday_Flag</th>\n",
       "      <th>Temperature</th>\n",
       "      <th>Fuel_Price</th>\n",
       "      <th>CPI</th>\n",
       "      <th>Unemployment</th>\n",
       "      <th>Thanks_Giving</th>\n",
       "      <th>Super_Bowl</th>\n",
       "      <th>Labor_Day</th>\n",
       "      <th>Christmas</th>\n",
       "      <th>Holiday</th>\n",
       "      <th>Month</th>\n",
       "      <th>Year</th>\n",
       "    </tr>\n",
       "  </thead>\n",
       "  <tbody>\n",
       "    <tr>\n",
       "      <th>0</th>\n",
       "      <td>1</td>\n",
       "      <td>2010-02-05</td>\n",
       "      <td>1643690.90</td>\n",
       "      <td>0</td>\n",
       "      <td>42.31</td>\n",
       "      <td>2.572</td>\n",
       "      <td>211.096358</td>\n",
       "      <td>8.106</td>\n",
       "      <td>0</td>\n",
       "      <td>0</td>\n",
       "      <td>0</td>\n",
       "      <td>0</td>\n",
       "      <td>0</td>\n",
       "      <td>2</td>\n",
       "      <td>2010</td>\n",
       "    </tr>\n",
       "    <tr>\n",
       "      <th>1</th>\n",
       "      <td>1</td>\n",
       "      <td>2010-02-12</td>\n",
       "      <td>1641957.44</td>\n",
       "      <td>1</td>\n",
       "      <td>38.51</td>\n",
       "      <td>2.548</td>\n",
       "      <td>211.242170</td>\n",
       "      <td>8.106</td>\n",
       "      <td>0</td>\n",
       "      <td>0</td>\n",
       "      <td>0</td>\n",
       "      <td>0</td>\n",
       "      <td>0</td>\n",
       "      <td>2</td>\n",
       "      <td>2010</td>\n",
       "    </tr>\n",
       "    <tr>\n",
       "      <th>2</th>\n",
       "      <td>1</td>\n",
       "      <td>2010-02-19</td>\n",
       "      <td>1611968.17</td>\n",
       "      <td>0</td>\n",
       "      <td>39.93</td>\n",
       "      <td>2.514</td>\n",
       "      <td>211.289143</td>\n",
       "      <td>8.106</td>\n",
       "      <td>0</td>\n",
       "      <td>0</td>\n",
       "      <td>0</td>\n",
       "      <td>0</td>\n",
       "      <td>0</td>\n",
       "      <td>2</td>\n",
       "      <td>2010</td>\n",
       "    </tr>\n",
       "    <tr>\n",
       "      <th>3</th>\n",
       "      <td>1</td>\n",
       "      <td>2010-02-26</td>\n",
       "      <td>1409727.59</td>\n",
       "      <td>0</td>\n",
       "      <td>46.63</td>\n",
       "      <td>2.561</td>\n",
       "      <td>211.319643</td>\n",
       "      <td>8.106</td>\n",
       "      <td>0</td>\n",
       "      <td>0</td>\n",
       "      <td>0</td>\n",
       "      <td>0</td>\n",
       "      <td>0</td>\n",
       "      <td>2</td>\n",
       "      <td>2010</td>\n",
       "    </tr>\n",
       "    <tr>\n",
       "      <th>4</th>\n",
       "      <td>1</td>\n",
       "      <td>2010-03-05</td>\n",
       "      <td>1554806.68</td>\n",
       "      <td>0</td>\n",
       "      <td>46.50</td>\n",
       "      <td>2.625</td>\n",
       "      <td>211.350143</td>\n",
       "      <td>8.106</td>\n",
       "      <td>0</td>\n",
       "      <td>0</td>\n",
       "      <td>0</td>\n",
       "      <td>0</td>\n",
       "      <td>0</td>\n",
       "      <td>3</td>\n",
       "      <td>2010</td>\n",
       "    </tr>\n",
       "  </tbody>\n",
       "</table>\n",
       "</div>"
      ],
      "text/plain": [
       "   Store       Date  Weekly_Sales  Holiday_Flag  Temperature  Fuel_Price  \\\n",
       "0      1 2010-02-05    1643690.90             0        42.31       2.572   \n",
       "1      1 2010-02-12    1641957.44             1        38.51       2.548   \n",
       "2      1 2010-02-19    1611968.17             0        39.93       2.514   \n",
       "3      1 2010-02-26    1409727.59             0        46.63       2.561   \n",
       "4      1 2010-03-05    1554806.68             0        46.50       2.625   \n",
       "\n",
       "          CPI  Unemployment  Thanks_Giving  Super_Bowl  Labor_Day  Christmas  \\\n",
       "0  211.096358         8.106              0           0          0          0   \n",
       "1  211.242170         8.106              0           0          0          0   \n",
       "2  211.289143         8.106              0           0          0          0   \n",
       "3  211.319643         8.106              0           0          0          0   \n",
       "4  211.350143         8.106              0           0          0          0   \n",
       "\n",
       "   Holiday  Month  Year  \n",
       "0        0      2  2010  \n",
       "1        0      2  2010  \n",
       "2        0      2  2010  \n",
       "3        0      2  2010  \n",
       "4        0      3  2010  "
      ]
     },
     "execution_count": 71,
     "metadata": {},
     "output_type": "execute_result"
    }
   ],
   "source": [
    "walmart.head()"
   ]
  },
  {
   "cell_type": "code",
   "execution_count": 72,
   "id": "d04cf59b",
   "metadata": {
    "execution": {
     "iopub.execute_input": "2021-08-20T20:20:01.403780Z",
     "iopub.status.busy": "2021-08-20T20:20:01.403085Z",
     "iopub.status.idle": "2021-08-20T20:20:01.416301Z",
     "shell.execute_reply": "2021-08-20T20:20:01.415538Z",
     "shell.execute_reply.started": "2021-08-20T18:50:08.410791Z"
    },
    "papermill": {
     "duration": 0.111275,
     "end_time": "2021-08-20T20:20:01.416496",
     "exception": false,
     "start_time": "2021-08-20T20:20:01.305221",
     "status": "completed"
    },
    "tags": []
   },
   "outputs": [
    {
     "name": "stdout",
     "output_type": "stream",
     "text": [
      "<class 'pandas.core.frame.DataFrame'>\n",
      "RangeIndex: 6435 entries, 0 to 6434\n",
      "Data columns (total 15 columns):\n",
      " #   Column         Non-Null Count  Dtype         \n",
      "---  ------         --------------  -----         \n",
      " 0   Store          6435 non-null   int64         \n",
      " 1   Date           6435 non-null   datetime64[ns]\n",
      " 2   Weekly_Sales   6435 non-null   float64       \n",
      " 3   Holiday_Flag   6435 non-null   int64         \n",
      " 4   Temperature    6435 non-null   float64       \n",
      " 5   Fuel_Price     6435 non-null   float64       \n",
      " 6   CPI            6435 non-null   float64       \n",
      " 7   Unemployment   6435 non-null   float64       \n",
      " 8   Thanks_Giving  6435 non-null   int64         \n",
      " 9   Super_Bowl     6435 non-null   int64         \n",
      " 10  Labor_Day      6435 non-null   int64         \n",
      " 11  Christmas      6435 non-null   int64         \n",
      " 12  Holiday        6435 non-null   int64         \n",
      " 13  Month          6435 non-null   int64         \n",
      " 14  Year           6435 non-null   int64         \n",
      "dtypes: datetime64[ns](1), float64(5), int64(9)\n",
      "memory usage: 754.2 KB\n"
     ]
    }
   ],
   "source": [
    "walmart.info()"
   ]
  },
  {
   "cell_type": "code",
   "execution_count": 73,
   "id": "d176e742",
   "metadata": {
    "execution": {
     "iopub.execute_input": "2021-08-20T20:20:01.613422Z",
     "iopub.status.busy": "2021-08-20T20:20:01.612740Z",
     "iopub.status.idle": "2021-08-20T20:20:01.615605Z",
     "shell.execute_reply": "2021-08-20T20:20:01.616104Z",
     "shell.execute_reply.started": "2021-08-20T20:10:07.702280Z"
    },
    "papermill": {
     "duration": 0.10351,
     "end_time": "2021-08-20T20:20:01.616298",
     "exception": false,
     "start_time": "2021-08-20T20:20:01.512788",
     "status": "completed"
    },
    "tags": []
   },
   "outputs": [],
   "source": [
    "monthly_sales_2010 = []\n",
    "monthly_sales_2011 = []\n",
    "monthly_sales_2012 = []\n",
    "monthly_sales_2013 = []\n",
    "\n"
   ]
  },
  {
   "cell_type": "code",
   "execution_count": 74,
   "id": "d269ecca",
   "metadata": {
    "execution": {
     "iopub.execute_input": "2021-08-20T20:20:01.811554Z",
     "iopub.status.busy": "2021-08-20T20:20:01.810840Z",
     "iopub.status.idle": "2021-08-20T20:20:01.814739Z",
     "shell.execute_reply": "2021-08-20T20:20:01.814035Z",
     "shell.execute_reply.started": "2021-08-20T20:10:08.049900Z"
    },
    "papermill": {
     "duration": 0.102298,
     "end_time": "2021-08-20T20:20:01.814879",
     "exception": false,
     "start_time": "2021-08-20T20:20:01.712581",
     "status": "completed"
    },
    "tags": []
   },
   "outputs": [
    {
     "data": {
      "text/plain": [
       "2"
      ]
     },
     "execution_count": 74,
     "metadata": {},
     "output_type": "execute_result"
    }
   ],
   "source": [
    "len([1,12])"
   ]
  },
  {
   "cell_type": "code",
   "execution_count": 75,
   "id": "61815f3a",
   "metadata": {
    "execution": {
     "iopub.execute_input": "2021-08-20T20:20:02.009983Z",
     "iopub.status.busy": "2021-08-20T20:20:02.009303Z",
     "iopub.status.idle": "2021-08-20T20:20:02.012042Z",
     "shell.execute_reply": "2021-08-20T20:20:02.011490Z",
     "shell.execute_reply.started": "2021-08-20T20:10:08.326239Z"
    },
    "papermill": {
     "duration": 0.104376,
     "end_time": "2021-08-20T20:20:02.012196",
     "exception": false,
     "start_time": "2021-08-20T20:20:01.907820",
     "status": "completed"
    },
    "tags": []
   },
   "outputs": [],
   "source": [
    " def month_sales(year):\n",
    "    result=[]\n",
    "    for month in range(1,13):                                                                                     #defining a function that calculates monthly sales\n",
    "        if sum(walmart[(walmart['Month']==month)&(walmart['Year']==year)]['Weekly_Sales']) != 0:\n",
    "            result.append(round(sum(walmart[(walmart['Month']==month)&(walmart['Year']==year)]['Weekly_Sales']),2))\n",
    "        else:\n",
    "            result.append(0)\n",
    "    return result \n"
   ]
  },
  {
   "cell_type": "code",
   "execution_count": 76,
   "id": "20457eff",
   "metadata": {
    "execution": {
     "iopub.execute_input": "2021-08-20T20:20:02.232732Z",
     "iopub.status.busy": "2021-08-20T20:20:02.231870Z",
     "iopub.status.idle": "2021-08-20T20:20:02.237160Z",
     "shell.execute_reply": "2021-08-20T20:20:02.236663Z",
     "shell.execute_reply.started": "2021-08-20T20:10:08.803963Z"
    },
    "papermill": {
     "duration": 0.13141,
     "end_time": "2021-08-20T20:20:02.237322",
     "exception": false,
     "start_time": "2021-08-20T20:20:02.105912",
     "status": "completed"
    },
    "tags": []
   },
   "outputs": [
    {
     "data": {
      "text/plain": [
       "[0,\n",
       " 190332983.04,\n",
       " 181919802.5,\n",
       " 231412368.05,\n",
       " 186710934.34,\n",
       " 192246172.36,\n",
       " 232580125.98,\n",
       " 187640110.89,\n",
       " 177267896.37,\n",
       " 217161824.02,\n",
       " 202853370.14,\n",
       " 288760532.72]"
      ]
     },
     "execution_count": 76,
     "metadata": {},
     "output_type": "execute_result"
    }
   ],
   "source": [
    "month_sales(2010)"
   ]
  },
  {
   "cell_type": "code",
   "execution_count": 77,
   "id": "de43b4d0",
   "metadata": {
    "execution": {
     "iopub.execute_input": "2021-08-20T20:20:02.500097Z",
     "iopub.status.busy": "2021-08-20T20:20:02.479542Z",
     "iopub.status.idle": "2021-08-20T20:20:02.538646Z",
     "shell.execute_reply": "2021-08-20T20:20:02.537981Z",
     "shell.execute_reply.started": "2021-08-20T20:10:09.385764Z"
    },
    "papermill": {
     "duration": 0.205965,
     "end_time": "2021-08-20T20:20:02.538796",
     "exception": false,
     "start_time": "2021-08-20T20:20:02.332831",
     "status": "completed"
    },
    "tags": []
   },
   "outputs": [],
   "source": [
    "monthly_sales_2010 = pd.DataFrame((month_sales(2010)),columns=['2010'])\n",
    "monthly_sales_2011 = pd.DataFrame((month_sales(2011)),columns=['2011'])\n",
    "monthly_sales_2012 = pd.DataFrame((month_sales(2012)),columns=['2012'])\n",
    "monthly_sales_2013 = pd.DataFrame((month_sales(2013)),columns=['2013'])"
   ]
  },
  {
   "cell_type": "code",
   "execution_count": 78,
   "id": "497fa27c",
   "metadata": {
    "execution": {
     "iopub.execute_input": "2021-08-20T20:20:02.765852Z",
     "iopub.status.busy": "2021-08-20T20:20:02.764797Z",
     "iopub.status.idle": "2021-08-20T20:20:02.768974Z",
     "shell.execute_reply": "2021-08-20T20:20:02.768056Z",
     "shell.execute_reply.started": "2021-08-20T20:10:10.630384Z"
    },
    "papermill": {
     "duration": 0.135395,
     "end_time": "2021-08-20T20:20:02.769164",
     "exception": false,
     "start_time": "2021-08-20T20:20:02.633769",
     "status": "completed"
    },
    "tags": []
   },
   "outputs": [],
   "source": [
    "monthly_sales_2010.reset_index(inplace=True)\n",
    "monthly_sales_2011.reset_index(inplace=True)\n",
    "monthly_sales_2012.reset_index(inplace=True)\n",
    "monthly_sales_2013.reset_index(inplace=True)"
   ]
  },
  {
   "cell_type": "code",
   "execution_count": 79,
   "id": "c3135dab",
   "metadata": {
    "execution": {
     "iopub.execute_input": "2021-08-20T20:20:02.972911Z",
     "iopub.status.busy": "2021-08-20T20:20:02.972106Z",
     "iopub.status.idle": "2021-08-20T20:20:02.976427Z",
     "shell.execute_reply": "2021-08-20T20:20:02.976927Z",
     "shell.execute_reply.started": "2021-08-20T20:10:11.367345Z"
    },
    "papermill": {
     "duration": 0.111951,
     "end_time": "2021-08-20T20:20:02.977108",
     "exception": false,
     "start_time": "2021-08-20T20:20:02.865157",
     "status": "completed"
    },
    "tags": []
   },
   "outputs": [
    {
     "data": {
      "text/html": [
       "<div>\n",
       "<style scoped>\n",
       "    .dataframe tbody tr th:only-of-type {\n",
       "        vertical-align: middle;\n",
       "    }\n",
       "\n",
       "    .dataframe tbody tr th {\n",
       "        vertical-align: top;\n",
       "    }\n",
       "\n",
       "    .dataframe thead th {\n",
       "        text-align: right;\n",
       "    }\n",
       "</style>\n",
       "<table border=\"1\" class=\"dataframe\">\n",
       "  <thead>\n",
       "    <tr style=\"text-align: right;\">\n",
       "      <th></th>\n",
       "      <th>index</th>\n",
       "      <th>2012</th>\n",
       "    </tr>\n",
       "  </thead>\n",
       "  <tbody>\n",
       "    <tr>\n",
       "      <th>0</th>\n",
       "      <td>0</td>\n",
       "      <td>1.688945e+08</td>\n",
       "    </tr>\n",
       "    <tr>\n",
       "      <th>1</th>\n",
       "      <td>1</td>\n",
       "      <td>1.920636e+08</td>\n",
       "    </tr>\n",
       "    <tr>\n",
       "      <th>2</th>\n",
       "      <td>2</td>\n",
       "      <td>2.315097e+08</td>\n",
       "    </tr>\n",
       "    <tr>\n",
       "      <th>3</th>\n",
       "      <td>3</td>\n",
       "      <td>1.889209e+08</td>\n",
       "    </tr>\n",
       "    <tr>\n",
       "      <th>4</th>\n",
       "      <td>4</td>\n",
       "      <td>1.887665e+08</td>\n",
       "    </tr>\n",
       "    <tr>\n",
       "      <th>5</th>\n",
       "      <td>5</td>\n",
       "      <td>2.406103e+08</td>\n",
       "    </tr>\n",
       "    <tr>\n",
       "      <th>6</th>\n",
       "      <td>6</td>\n",
       "      <td>1.875095e+08</td>\n",
       "    </tr>\n",
       "    <tr>\n",
       "      <th>7</th>\n",
       "      <td>7</td>\n",
       "      <td>2.368508e+08</td>\n",
       "    </tr>\n",
       "    <tr>\n",
       "      <th>8</th>\n",
       "      <td>8</td>\n",
       "      <td>1.806455e+08</td>\n",
       "    </tr>\n",
       "    <tr>\n",
       "      <th>9</th>\n",
       "      <td>9</td>\n",
       "      <td>1.843617e+08</td>\n",
       "    </tr>\n",
       "    <tr>\n",
       "      <th>10</th>\n",
       "      <td>10</td>\n",
       "      <td>0.000000e+00</td>\n",
       "    </tr>\n",
       "    <tr>\n",
       "      <th>11</th>\n",
       "      <td>11</td>\n",
       "      <td>0.000000e+00</td>\n",
       "    </tr>\n",
       "  </tbody>\n",
       "</table>\n",
       "</div>"
      ],
      "text/plain": [
       "    index          2012\n",
       "0       0  1.688945e+08\n",
       "1       1  1.920636e+08\n",
       "2       2  2.315097e+08\n",
       "3       3  1.889209e+08\n",
       "4       4  1.887665e+08\n",
       "5       5  2.406103e+08\n",
       "6       6  1.875095e+08\n",
       "7       7  2.368508e+08\n",
       "8       8  1.806455e+08\n",
       "9       9  1.843617e+08\n",
       "10     10  0.000000e+00\n",
       "11     11  0.000000e+00"
      ]
     },
     "execution_count": 79,
     "metadata": {},
     "output_type": "execute_result"
    }
   ],
   "source": [
    "monthly_sales_2012"
   ]
  },
  {
   "cell_type": "code",
   "execution_count": 80,
   "id": "5fcfa4ab",
   "metadata": {
    "execution": {
     "iopub.execute_input": "2021-08-20T20:20:03.176603Z",
     "iopub.status.busy": "2021-08-20T20:20:03.175584Z",
     "iopub.status.idle": "2021-08-20T20:20:03.178473Z",
     "shell.execute_reply": "2021-08-20T20:20:03.177923Z",
     "shell.execute_reply.started": "2021-08-20T20:10:13.431279Z"
    },
    "papermill": {
     "duration": 0.10783,
     "end_time": "2021-08-20T20:20:03.178616",
     "exception": false,
     "start_time": "2021-08-20T20:20:03.070786",
     "status": "completed"
    },
    "tags": []
   },
   "outputs": [],
   "source": [
    "monthly_sales =pd.merge(monthly_sales_2010,monthly_sales_2011)"
   ]
  },
  {
   "cell_type": "code",
   "execution_count": 81,
   "id": "f0737fcf",
   "metadata": {
    "execution": {
     "iopub.execute_input": "2021-08-20T20:20:03.379510Z",
     "iopub.status.busy": "2021-08-20T20:20:03.378833Z",
     "iopub.status.idle": "2021-08-20T20:20:03.381742Z",
     "shell.execute_reply": "2021-08-20T20:20:03.382345Z",
     "shell.execute_reply.started": "2021-08-20T20:10:13.976350Z"
    },
    "papermill": {
     "duration": 0.110593,
     "end_time": "2021-08-20T20:20:03.382531",
     "exception": false,
     "start_time": "2021-08-20T20:20:03.271938",
     "status": "completed"
    },
    "tags": []
   },
   "outputs": [],
   "source": [
    "monthly_sales = pd.merge(monthly_sales,monthly_sales_2012)"
   ]
  },
  {
   "cell_type": "code",
   "execution_count": 82,
   "id": "287074be",
   "metadata": {
    "execution": {
     "iopub.execute_input": "2021-08-20T20:20:03.584925Z",
     "iopub.status.busy": "2021-08-20T20:20:03.584174Z",
     "iopub.status.idle": "2021-08-20T20:20:03.587712Z",
     "shell.execute_reply": "2021-08-20T20:20:03.587077Z",
     "shell.execute_reply.started": "2021-08-20T20:10:14.428351Z"
    },
    "papermill": {
     "duration": 0.109384,
     "end_time": "2021-08-20T20:20:03.587876",
     "exception": false,
     "start_time": "2021-08-20T20:20:03.478492",
     "status": "completed"
    },
    "tags": []
   },
   "outputs": [],
   "source": [
    "monthly_sales = round(monthly_sales,2)"
   ]
  },
  {
   "cell_type": "code",
   "execution_count": 83,
   "id": "c883e71c",
   "metadata": {
    "execution": {
     "iopub.execute_input": "2021-08-20T20:20:03.788128Z",
     "iopub.status.busy": "2021-08-20T20:20:03.787390Z",
     "iopub.status.idle": "2021-08-20T20:20:03.790562Z",
     "shell.execute_reply": "2021-08-20T20:20:03.791136Z",
     "shell.execute_reply.started": "2021-08-20T20:12:17.697290Z"
    },
    "papermill": {
     "duration": 0.107112,
     "end_time": "2021-08-20T20:20:03.791382",
     "exception": false,
     "start_time": "2021-08-20T20:20:03.684270",
     "status": "completed"
    },
    "tags": []
   },
   "outputs": [],
   "source": [
    "monthly_sales['Month'] = ['Jan','Feb','Mar','Apr','May','Jun','Jul','Aug','Sep','Oct','Nov','Dec']"
   ]
  },
  {
   "cell_type": "code",
   "execution_count": 84,
   "id": "67fbce20",
   "metadata": {
    "execution": {
     "iopub.execute_input": "2021-08-20T20:20:03.986751Z",
     "iopub.status.busy": "2021-08-20T20:20:03.985986Z",
     "iopub.status.idle": "2021-08-20T20:20:04.006155Z",
     "shell.execute_reply": "2021-08-20T20:20:04.005553Z",
     "shell.execute_reply.started": "2021-08-20T20:12:26.113852Z"
    },
    "papermill": {
     "duration": 0.119235,
     "end_time": "2021-08-20T20:20:04.006347",
     "exception": false,
     "start_time": "2021-08-20T20:20:03.887112",
     "status": "completed"
    },
    "tags": []
   },
   "outputs": [
    {
     "data": {
      "text/html": [
       "<div>\n",
       "<style scoped>\n",
       "    .dataframe tbody tr th:only-of-type {\n",
       "        vertical-align: middle;\n",
       "    }\n",
       "\n",
       "    .dataframe tbody tr th {\n",
       "        vertical-align: top;\n",
       "    }\n",
       "\n",
       "    .dataframe thead th {\n",
       "        text-align: right;\n",
       "    }\n",
       "</style>\n",
       "<table border=\"1\" class=\"dataframe\">\n",
       "  <thead>\n",
       "    <tr style=\"text-align: right;\">\n",
       "      <th></th>\n",
       "      <th>index</th>\n",
       "      <th>2010</th>\n",
       "      <th>2011</th>\n",
       "      <th>2012</th>\n",
       "      <th>Month</th>\n",
       "    </tr>\n",
       "  </thead>\n",
       "  <tbody>\n",
       "    <tr>\n",
       "      <th>0</th>\n",
       "      <td>0</td>\n",
       "      <td>0.000000e+00</td>\n",
       "      <td>1.637040e+08</td>\n",
       "      <td>1.688945e+08</td>\n",
       "      <td>Jan</td>\n",
       "    </tr>\n",
       "    <tr>\n",
       "      <th>1</th>\n",
       "      <td>1</td>\n",
       "      <td>1.903330e+08</td>\n",
       "      <td>1.863313e+08</td>\n",
       "      <td>1.920636e+08</td>\n",
       "      <td>Feb</td>\n",
       "    </tr>\n",
       "    <tr>\n",
       "      <th>2</th>\n",
       "      <td>2</td>\n",
       "      <td>1.819198e+08</td>\n",
       "      <td>1.793564e+08</td>\n",
       "      <td>2.315097e+08</td>\n",
       "      <td>Mar</td>\n",
       "    </tr>\n",
       "    <tr>\n",
       "      <th>3</th>\n",
       "      <td>3</td>\n",
       "      <td>2.314124e+08</td>\n",
       "      <td>2.265265e+08</td>\n",
       "      <td>1.889209e+08</td>\n",
       "      <td>Apr</td>\n",
       "    </tr>\n",
       "    <tr>\n",
       "      <th>4</th>\n",
       "      <td>4</td>\n",
       "      <td>1.867109e+08</td>\n",
       "      <td>1.816482e+08</td>\n",
       "      <td>1.887665e+08</td>\n",
       "      <td>May</td>\n",
       "    </tr>\n",
       "    <tr>\n",
       "      <th>5</th>\n",
       "      <td>5</td>\n",
       "      <td>1.922462e+08</td>\n",
       "      <td>1.897734e+08</td>\n",
       "      <td>2.406103e+08</td>\n",
       "      <td>Jun</td>\n",
       "    </tr>\n",
       "    <tr>\n",
       "      <th>6</th>\n",
       "      <td>6</td>\n",
       "      <td>2.325801e+08</td>\n",
       "      <td>2.299114e+08</td>\n",
       "      <td>1.875095e+08</td>\n",
       "      <td>Jul</td>\n",
       "    </tr>\n",
       "    <tr>\n",
       "      <th>7</th>\n",
       "      <td>7</td>\n",
       "      <td>1.876401e+08</td>\n",
       "      <td>1.885993e+08</td>\n",
       "      <td>2.368508e+08</td>\n",
       "      <td>Aug</td>\n",
       "    </tr>\n",
       "    <tr>\n",
       "      <th>8</th>\n",
       "      <td>8</td>\n",
       "      <td>1.772679e+08</td>\n",
       "      <td>2.208477e+08</td>\n",
       "      <td>1.806455e+08</td>\n",
       "      <td>Sep</td>\n",
       "    </tr>\n",
       "    <tr>\n",
       "      <th>9</th>\n",
       "      <td>9</td>\n",
       "      <td>2.171618e+08</td>\n",
       "      <td>1.832613e+08</td>\n",
       "      <td>1.843617e+08</td>\n",
       "      <td>Oct</td>\n",
       "    </tr>\n",
       "    <tr>\n",
       "      <th>10</th>\n",
       "      <td>10</td>\n",
       "      <td>2.028534e+08</td>\n",
       "      <td>2.101624e+08</td>\n",
       "      <td>0.000000e+00</td>\n",
       "      <td>Nov</td>\n",
       "    </tr>\n",
       "    <tr>\n",
       "      <th>11</th>\n",
       "      <td>11</td>\n",
       "      <td>2.887605e+08</td>\n",
       "      <td>2.880781e+08</td>\n",
       "      <td>0.000000e+00</td>\n",
       "      <td>Dec</td>\n",
       "    </tr>\n",
       "  </tbody>\n",
       "</table>\n",
       "</div>"
      ],
      "text/plain": [
       "    index          2010          2011          2012 Month\n",
       "0       0  0.000000e+00  1.637040e+08  1.688945e+08   Jan\n",
       "1       1  1.903330e+08  1.863313e+08  1.920636e+08   Feb\n",
       "2       2  1.819198e+08  1.793564e+08  2.315097e+08   Mar\n",
       "3       3  2.314124e+08  2.265265e+08  1.889209e+08   Apr\n",
       "4       4  1.867109e+08  1.816482e+08  1.887665e+08   May\n",
       "5       5  1.922462e+08  1.897734e+08  2.406103e+08   Jun\n",
       "6       6  2.325801e+08  2.299114e+08  1.875095e+08   Jul\n",
       "7       7  1.876401e+08  1.885993e+08  2.368508e+08   Aug\n",
       "8       8  1.772679e+08  2.208477e+08  1.806455e+08   Sep\n",
       "9       9  2.171618e+08  1.832613e+08  1.843617e+08   Oct\n",
       "10     10  2.028534e+08  2.101624e+08  0.000000e+00   Nov\n",
       "11     11  2.887605e+08  2.880781e+08  0.000000e+00   Dec"
      ]
     },
     "execution_count": 84,
     "metadata": {},
     "output_type": "execute_result"
    }
   ],
   "source": [
    "monthly_sales"
   ]
  },
  {
   "cell_type": "code",
   "execution_count": 85,
   "id": "d1f7f313",
   "metadata": {
    "execution": {
     "iopub.execute_input": "2021-08-20T20:20:04.200107Z",
     "iopub.status.busy": "2021-08-20T20:20:04.199405Z",
     "iopub.status.idle": "2021-08-20T20:20:05.068949Z",
     "shell.execute_reply": "2021-08-20T20:20:05.069610Z",
     "shell.execute_reply.started": "2021-08-20T20:16:52.374195Z"
    },
    "papermill": {
     "duration": 0.968516,
     "end_time": "2021-08-20T20:20:05.069821",
     "exception": false,
     "start_time": "2021-08-20T20:20:04.101305",
     "status": "completed"
    },
    "tags": []
   },
   "outputs": [
    {
     "data": {
      "text/plain": [
       "<AxesSubplot:xlabel='Month'>"
      ]
     },
     "execution_count": 85,
     "metadata": {},
     "output_type": "execute_result"
    },
    {
     "data": {
      "image/png": "[encoded data removed]",
      "text/plain": [
       "<Figure size 2520x360 with 3 Axes>"
      ]
     },
     "metadata": {
      "needs_background": "light"
     },
     "output_type": "display_data"
    }
   ],
   "source": [
    "fig,axs = plt.subplots(1,3,sharex=True,figsize=(35,5))\n",
    "monthly_sales.plot(kind='bar',x='Month',y='2010',ax=axs[0])\n",
    "monthly_sales.plot(kind='bar',x='Month',y='2011',ax=axs[1])\n",
    "monthly_sales.plot(kind='bar',x='Month',y='2012',ax=axs[2])"
   ]
  },
  {
   "cell_type": "code",
   "execution_count": 86,
   "id": "32dcaef4",
   "metadata": {
    "execution": {
     "iopub.execute_input": "2021-08-20T20:20:05.268178Z",
     "iopub.status.busy": "2021-08-20T20:20:05.267528Z",
     "iopub.status.idle": "2021-08-20T20:20:05.269446Z",
     "shell.execute_reply": "2021-08-20T20:20:05.269908Z",
     "shell.execute_reply.started": "2021-08-20T20:19:00.222809Z"
    },
    "papermill": {
     "duration": 0.102684,
     "end_time": "2021-08-20T20:20:05.270141",
     "exception": false,
     "start_time": "2021-08-20T20:20:05.167457",
     "status": "completed"
    },
    "tags": []
   },
   "outputs": [],
   "source": [
    "#This answers the 5th question"
   ]
  },
  {
   "cell_type": "code",
   "execution_count": null,
   "id": "6e32c085",
   "metadata": {
    "papermill": {
     "duration": 0.096352,
     "end_time": "2021-08-20T20:20:05.464099",
     "exception": false,
     "start_time": "2021-08-20T20:20:05.367747",
     "status": "completed"
    },
    "tags": []
   },
   "outputs": [],
   "source": []
  }
 ],
 "metadata": {
  "kernelspec": {
   "display_name": "Python 3",
   "language": "python",
   "name": "python3"
  },
  "language_info": {
   "codemirror_mode": {
    "name": "ipython",
    "version": 3
   },
   "file_extension": ".py",
   "mimetype": "text/x-python",
   "name": "python",
   "nbconvert_exporter": "python",
   "pygments_lexer": "ipython3",
   "version": "3.7.10"
  },
  "papermill": {
   "default_parameters": {},
   "duration": 35.079163,
   "end_time": "2021-08-20T20:20:07.310120",
   "environment_variables": {},
   "exception": null,
   "input_path": "__notebook__.ipynb",
   "output_path": "__notebook__.ipynb",
   "parameters": {},
   "start_time": "2021-08-20T20:19:32.230957",
   "version": "2.3.3"
  }
 },
 "nbformat": 4,
 "nbformat_minor": 5
}
